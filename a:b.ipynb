{
  "cells": [
    {
      "cell_type": "markdown",
      "metadata": {
        "id": "ihlaTqksrubv"
      },
      "source": [
        "# Принятие решений в бизнесе"
      ]
    },
    {
      "cell_type": "markdown",
      "metadata": {
        "id": "WdG2N65_rubv"
      },
      "source": [
        "## Цель"
      ]
    },
    {
      "cell_type": "markdown",
      "metadata": {
        "id": "0h7SL1Rtrubw"
      },
      "source": [
        "Приоритизировать гипотезы, запустить A/B-тест и проанализировать результаты для увеличения выручки.\n"
      ]
    },
    {
      "cell_type": "markdown",
      "metadata": {
        "id": "_tZCVb3hrubw"
      },
      "source": [
        "## Задачи"
      ]
    },
    {
      "cell_type": "markdown",
      "metadata": {
        "id": "GtXevbrlrubw"
      },
      "source": [
        "Проанализировать A/B-тест:\n",
        "* Построить график кумулятивной выручки по группам. Сделайте выводы и предположения.\n",
        "* Пострить график кумулятивного среднего чека по группам. Сделайте выводы и предположения.\n",
        "* Построить график относительного изменения кумулятивного среднего чека группы B к группе A. Сделайте выводы и предположения.\n",
        "* Построить график кумулятивного среднего количества заказов на посетителя по группам. Сделайте выводы и предположения.\n",
        "* Построить график относительного изменения кумулятивного среднего количества заказов на посетителя группы B к группе A. Сделайте выводы и предположения.\n",
        "* Построить точечный график количества заказов по пользователям. Сделайте выводы и предположения.\n",
        "* Посчитать 95-й и 99-й перцентили количества заказов на пользователя. Выберите границу для определения аномальных пользователей.\n",
        "* Построить точечный график стоимостей заказов. Сделайте выводы и предположения.\n",
        "* Посчитать 95-й и 99-й перцентили стоимости заказов. Выберите границу для определения аномальных заказов.\n",
        "* Посчитать статистическую значимость различий в среднем количестве заказов на посетителя между группами по «сырым» данным. Сделайте выводы и предположения.\n",
        "* Посчитать статистическую значимость различий в среднем чеке заказа между группами по «сырым» данным. Сделайте выводы и предположения.\n",
        "* Посчитать статистическую значимость различий в среднем количестве заказов на посетителя между группами по «очищенным» данным. Сделайте выводы и предположения.\n",
        "* Посчитать статистическую значимость различий в среднем чеке заказа между группами по «очищенным» данным. Сделайте выводы и предположения.\n",
        "* Принять решение по результатам теста и объясните его. Варианты решений:\n",
        "1. Остановить тест, зафиксировать победу одной из групп.\n",
        "2. Остановить тест, зафиксировать отсутствие различий между группами.\n",
        "3. Продолжить тест."
      ]
    },
    {
      "cell_type": "markdown",
      "metadata": {
        "id": "hDJvt7RSrubw"
      },
      "source": [
        "## Описание данных"
      ]
    },
    {
      "cell_type": "markdown",
      "metadata": {
        "id": "tHTBGFF0rubw"
      },
      "source": [
        "  Файл /datasets/hypothesis.csv.\n",
        "* Hypothesis — краткое описание гипотезы;\n",
        "* Reach — охват пользователей по 10-балльной шкале;\n",
        "* Impact — влияние на пользователей по 10-балльной шкале;\n",
        "* Confidence — уверенность в гипотезе по 10-балльной шкале;\n",
        "* Efforts — затраты ресурсов на проверку гипотезы по 10-балльной шкале. Чем больше значение Efforts, тем дороже проверка гипотезы.\n",
        "\n",
        "  Файл /datasets/orders.csv.\n",
        "* transactionId — идентификатор заказа;\n",
        "* visitorId — идентификатор пользователя, совершившего заказ;\n",
        "* date — дата, когда был совершён заказ;\n",
        "* revenue — выручка заказа;\n",
        "* group — группа A/B-теста, в которую попал заказ.\n",
        "\n",
        "  Файл /datasets/visitors.csv.\n",
        "* date — дата;\n",
        "* group — группа A/B-теста;\n",
        "* visitors — количество пользователей в указанную дату в указанной группе A/B-теста"
      ]
    },
    {
      "cell_type": "code",
      "execution_count": null,
      "metadata": {
        "id": "7NIozRJ3rubx"
      },
      "outputs": [],
      "source": [
        "# импортируем библиотеки\n",
        "import pandas as pd\n",
        "import datetime as dt\n",
        "import numpy as np\n",
        "import matplotlib.pyplot as plt\n",
        "from pandas.plotting import register_matplotlib_converters\n",
        "import warnings\n",
        "import scipy.stats as stats"
      ]
    },
    {
      "cell_type": "code",
      "execution_count": null,
      "metadata": {
        "id": "_-YpEJ46ruby"
      },
      "outputs": [],
      "source": [
        "# считываем данные\n",
        "hypothesis = pd.read_csv('https://code.s3.yandex.net/datasets/hypothesis.csv')\n",
        "orders = pd.read_csv('https://code.s3.yandex.net/datasets/orders.csv')\n",
        "visitors = pd.read_csv('https://code.s3.yandex.net/datasets/visitors.csv')"
      ]
    },
    {
      "cell_type": "markdown",
      "metadata": {
        "id": "EB2KCy-Oruby"
      },
      "source": [
        "## Предобработка данных"
      ]
    },
    {
      "cell_type": "code",
      "execution_count": null,
      "metadata": {
        "id": "GK8ofBm3ruby"
      },
      "outputs": [],
      "source": [
        "#для корректного отображения столбцов\n",
        "pd.set_option('display.max_colwidth', 200)"
      ]
    },
    {
      "cell_type": "code",
      "execution_count": null,
      "metadata": {
        "id": "dV0eoCU3ruby",
        "outputId": "2108d2c2-871c-450b-c079-96708bbc1104"
      },
      "outputs": [
        {
          "name": "stdout",
          "output_type": "stream",
          "text": [
            "<class 'pandas.core.frame.DataFrame'>\n",
            "RangeIndex: 9 entries, 0 to 8\n",
            "Data columns (total 5 columns):\n",
            " #   Column      Non-Null Count  Dtype \n",
            "---  ------      --------------  ----- \n",
            " 0   Hypothesis  9 non-null      object\n",
            " 1   Reach       9 non-null      int64 \n",
            " 2   Impact      9 non-null      int64 \n",
            " 3   Confidence  9 non-null      int64 \n",
            " 4   Efforts     9 non-null      int64 \n",
            "dtypes: int64(4), object(1)\n",
            "memory usage: 488.0+ bytes\n"
          ]
        },
        {
          "data": {
            "text/html": [
              "<div>\n",
              "<style scoped>\n",
              "    .dataframe tbody tr th:only-of-type {\n",
              "        vertical-align: middle;\n",
              "    }\n",
              "\n",
              "    .dataframe tbody tr th {\n",
              "        vertical-align: top;\n",
              "    }\n",
              "\n",
              "    .dataframe thead th {\n",
              "        text-align: right;\n",
              "    }\n",
              "</style>\n",
              "<table border=\"1\" class=\"dataframe\">\n",
              "  <thead>\n",
              "    <tr style=\"text-align: right;\">\n",
              "      <th></th>\n",
              "      <th>Hypothesis</th>\n",
              "      <th>Reach</th>\n",
              "      <th>Impact</th>\n",
              "      <th>Confidence</th>\n",
              "      <th>Efforts</th>\n",
              "    </tr>\n",
              "  </thead>\n",
              "  <tbody>\n",
              "    <tr>\n",
              "      <th>0</th>\n",
              "      <td>Добавить два новых канала привлечения трафика, что позволит привлекать на 30% больше пользователей</td>\n",
              "      <td>3</td>\n",
              "      <td>10</td>\n",
              "      <td>8</td>\n",
              "      <td>6</td>\n",
              "    </tr>\n",
              "    <tr>\n",
              "      <th>1</th>\n",
              "      <td>Запустить собственную службу доставки, что сократит срок доставки заказов</td>\n",
              "      <td>2</td>\n",
              "      <td>5</td>\n",
              "      <td>4</td>\n",
              "      <td>10</td>\n",
              "    </tr>\n",
              "    <tr>\n",
              "      <th>2</th>\n",
              "      <td>Добавить блоки рекомендаций товаров на сайт интернет магазина, чтобы повысить конверсию и средний чек заказа</td>\n",
              "      <td>8</td>\n",
              "      <td>3</td>\n",
              "      <td>7</td>\n",
              "      <td>3</td>\n",
              "    </tr>\n",
              "    <tr>\n",
              "      <th>3</th>\n",
              "      <td>Изменить структура категорий, что увеличит конверсию, т.к. пользователи быстрее найдут нужный товар</td>\n",
              "      <td>8</td>\n",
              "      <td>3</td>\n",
              "      <td>3</td>\n",
              "      <td>8</td>\n",
              "    </tr>\n",
              "    <tr>\n",
              "      <th>4</th>\n",
              "      <td>Изменить цвет фона главной страницы, чтобы увеличить вовлеченность пользователей</td>\n",
              "      <td>3</td>\n",
              "      <td>1</td>\n",
              "      <td>1</td>\n",
              "      <td>1</td>\n",
              "    </tr>\n",
              "    <tr>\n",
              "      <th>5</th>\n",
              "      <td>Добавить страницу отзывов клиентов о магазине, что позволит увеличить количество заказов</td>\n",
              "      <td>3</td>\n",
              "      <td>2</td>\n",
              "      <td>2</td>\n",
              "      <td>3</td>\n",
              "    </tr>\n",
              "    <tr>\n",
              "      <th>6</th>\n",
              "      <td>Показать на главной странице баннеры с актуальными акциями и распродажами, чтобы увеличить конверсию</td>\n",
              "      <td>5</td>\n",
              "      <td>3</td>\n",
              "      <td>8</td>\n",
              "      <td>3</td>\n",
              "    </tr>\n",
              "    <tr>\n",
              "      <th>7</th>\n",
              "      <td>Добавить форму подписки на все основные страницы, чтобы собрать базу клиентов для email-рассылок</td>\n",
              "      <td>10</td>\n",
              "      <td>7</td>\n",
              "      <td>8</td>\n",
              "      <td>5</td>\n",
              "    </tr>\n",
              "    <tr>\n",
              "      <th>8</th>\n",
              "      <td>Запустить акцию, дающую скидку на товар в день рождения</td>\n",
              "      <td>1</td>\n",
              "      <td>9</td>\n",
              "      <td>9</td>\n",
              "      <td>5</td>\n",
              "    </tr>\n",
              "  </tbody>\n",
              "</table>\n",
              "</div>"
            ],
            "text/plain": [
              "                                                                                                     Hypothesis  \\\n",
              "0            Добавить два новых канала привлечения трафика, что позволит привлекать на 30% больше пользователей   \n",
              "1                                     Запустить собственную службу доставки, что сократит срок доставки заказов   \n",
              "2  Добавить блоки рекомендаций товаров на сайт интернет магазина, чтобы повысить конверсию и средний чек заказа   \n",
              "3           Изменить структура категорий, что увеличит конверсию, т.к. пользователи быстрее найдут нужный товар   \n",
              "4                              Изменить цвет фона главной страницы, чтобы увеличить вовлеченность пользователей   \n",
              "5                      Добавить страницу отзывов клиентов о магазине, что позволит увеличить количество заказов   \n",
              "6          Показать на главной странице баннеры с актуальными акциями и распродажами, чтобы увеличить конверсию   \n",
              "7              Добавить форму подписки на все основные страницы, чтобы собрать базу клиентов для email-рассылок   \n",
              "8                                                       Запустить акцию, дающую скидку на товар в день рождения   \n",
              "\n",
              "   Reach  Impact  Confidence  Efforts  \n",
              "0      3      10           8        6  \n",
              "1      2       5           4       10  \n",
              "2      8       3           7        3  \n",
              "3      8       3           3        8  \n",
              "4      3       1           1        1  \n",
              "5      3       2           2        3  \n",
              "6      5       3           8        3  \n",
              "7     10       7           8        5  \n",
              "8      1       9           9        5  "
            ]
          },
          "execution_count": 4,
          "metadata": {},
          "output_type": "execute_result"
        }
      ],
      "source": [
        "hypothesis.info()\n",
        "hypothesis"
      ]
    },
    {
      "cell_type": "code",
      "execution_count": null,
      "metadata": {
        "id": "it-u-vsVruby",
        "outputId": "a9addec6-615f-443c-e617-9c31e2f8d9a3"
      },
      "outputs": [
        {
          "name": "stdout",
          "output_type": "stream",
          "text": [
            "<class 'pandas.core.frame.DataFrame'>\n",
            "RangeIndex: 1197 entries, 0 to 1196\n",
            "Data columns (total 5 columns):\n",
            " #   Column         Non-Null Count  Dtype \n",
            "---  ------         --------------  ----- \n",
            " 0   transactionId  1197 non-null   int64 \n",
            " 1   visitorId      1197 non-null   int64 \n",
            " 2   date           1197 non-null   object\n",
            " 3   revenue        1197 non-null   int64 \n",
            " 4   group          1197 non-null   object\n",
            "dtypes: int64(3), object(2)\n",
            "memory usage: 46.9+ KB\n"
          ]
        },
        {
          "data": {
            "text/html": [
              "<div>\n",
              "<style scoped>\n",
              "    .dataframe tbody tr th:only-of-type {\n",
              "        vertical-align: middle;\n",
              "    }\n",
              "\n",
              "    .dataframe tbody tr th {\n",
              "        vertical-align: top;\n",
              "    }\n",
              "\n",
              "    .dataframe thead th {\n",
              "        text-align: right;\n",
              "    }\n",
              "</style>\n",
              "<table border=\"1\" class=\"dataframe\">\n",
              "  <thead>\n",
              "    <tr style=\"text-align: right;\">\n",
              "      <th></th>\n",
              "      <th>transactionId</th>\n",
              "      <th>visitorId</th>\n",
              "      <th>date</th>\n",
              "      <th>revenue</th>\n",
              "      <th>group</th>\n",
              "    </tr>\n",
              "  </thead>\n",
              "  <tbody>\n",
              "    <tr>\n",
              "      <th>0</th>\n",
              "      <td>3667963787</td>\n",
              "      <td>3312258926</td>\n",
              "      <td>2019-08-15</td>\n",
              "      <td>1650</td>\n",
              "      <td>B</td>\n",
              "    </tr>\n",
              "    <tr>\n",
              "      <th>1</th>\n",
              "      <td>2804400009</td>\n",
              "      <td>3642806036</td>\n",
              "      <td>2019-08-15</td>\n",
              "      <td>730</td>\n",
              "      <td>B</td>\n",
              "    </tr>\n",
              "    <tr>\n",
              "      <th>2</th>\n",
              "      <td>2961555356</td>\n",
              "      <td>4069496402</td>\n",
              "      <td>2019-08-15</td>\n",
              "      <td>400</td>\n",
              "      <td>A</td>\n",
              "    </tr>\n",
              "    <tr>\n",
              "      <th>3</th>\n",
              "      <td>3797467345</td>\n",
              "      <td>1196621759</td>\n",
              "      <td>2019-08-15</td>\n",
              "      <td>9759</td>\n",
              "      <td>B</td>\n",
              "    </tr>\n",
              "    <tr>\n",
              "      <th>4</th>\n",
              "      <td>2282983706</td>\n",
              "      <td>2322279887</td>\n",
              "      <td>2019-08-15</td>\n",
              "      <td>2308</td>\n",
              "      <td>B</td>\n",
              "    </tr>\n",
              "  </tbody>\n",
              "</table>\n",
              "</div>"
            ],
            "text/plain": [
              "   transactionId   visitorId        date  revenue group\n",
              "0     3667963787  3312258926  2019-08-15     1650     B\n",
              "1     2804400009  3642806036  2019-08-15      730     B\n",
              "2     2961555356  4069496402  2019-08-15      400     A\n",
              "3     3797467345  1196621759  2019-08-15     9759     B\n",
              "4     2282983706  2322279887  2019-08-15     2308     B"
            ]
          },
          "execution_count": 5,
          "metadata": {},
          "output_type": "execute_result"
        }
      ],
      "source": [
        "orders.info()\n",
        "orders.head()"
      ]
    },
    {
      "cell_type": "code",
      "execution_count": null,
      "metadata": {
        "id": "ut5gjQGFrubz",
        "outputId": "a4eec6b6-af3c-453f-add1-ae9b1ea2b927"
      },
      "outputs": [
        {
          "name": "stdout",
          "output_type": "stream",
          "text": [
            "<class 'pandas.core.frame.DataFrame'>\n",
            "RangeIndex: 62 entries, 0 to 61\n",
            "Data columns (total 3 columns):\n",
            " #   Column    Non-Null Count  Dtype \n",
            "---  ------    --------------  ----- \n",
            " 0   date      62 non-null     object\n",
            " 1   group     62 non-null     object\n",
            " 2   visitors  62 non-null     int64 \n",
            "dtypes: int64(1), object(2)\n",
            "memory usage: 1.6+ KB\n"
          ]
        },
        {
          "data": {
            "text/html": [
              "<div>\n",
              "<style scoped>\n",
              "    .dataframe tbody tr th:only-of-type {\n",
              "        vertical-align: middle;\n",
              "    }\n",
              "\n",
              "    .dataframe tbody tr th {\n",
              "        vertical-align: top;\n",
              "    }\n",
              "\n",
              "    .dataframe thead th {\n",
              "        text-align: right;\n",
              "    }\n",
              "</style>\n",
              "<table border=\"1\" class=\"dataframe\">\n",
              "  <thead>\n",
              "    <tr style=\"text-align: right;\">\n",
              "      <th></th>\n",
              "      <th>date</th>\n",
              "      <th>group</th>\n",
              "      <th>visitors</th>\n",
              "    </tr>\n",
              "  </thead>\n",
              "  <tbody>\n",
              "    <tr>\n",
              "      <th>0</th>\n",
              "      <td>2019-08-01</td>\n",
              "      <td>A</td>\n",
              "      <td>719</td>\n",
              "    </tr>\n",
              "    <tr>\n",
              "      <th>1</th>\n",
              "      <td>2019-08-02</td>\n",
              "      <td>A</td>\n",
              "      <td>619</td>\n",
              "    </tr>\n",
              "    <tr>\n",
              "      <th>2</th>\n",
              "      <td>2019-08-03</td>\n",
              "      <td>A</td>\n",
              "      <td>507</td>\n",
              "    </tr>\n",
              "    <tr>\n",
              "      <th>3</th>\n",
              "      <td>2019-08-04</td>\n",
              "      <td>A</td>\n",
              "      <td>717</td>\n",
              "    </tr>\n",
              "    <tr>\n",
              "      <th>4</th>\n",
              "      <td>2019-08-05</td>\n",
              "      <td>A</td>\n",
              "      <td>756</td>\n",
              "    </tr>\n",
              "  </tbody>\n",
              "</table>\n",
              "</div>"
            ],
            "text/plain": [
              "         date group  visitors\n",
              "0  2019-08-01     A       719\n",
              "1  2019-08-02     A       619\n",
              "2  2019-08-03     A       507\n",
              "3  2019-08-04     A       717\n",
              "4  2019-08-05     A       756"
            ]
          },
          "execution_count": 6,
          "metadata": {},
          "output_type": "execute_result"
        }
      ],
      "source": [
        "visitors.info()\n",
        "visitors.head()"
      ]
    },
    {
      "cell_type": "markdown",
      "metadata": {
        "id": "1QpHc3zxrubz"
      },
      "source": [
        "Пропусков как таковых нет, приведём названия к единому стилю и изменим тип данных там, где это требуется. Проверим на наличие дубликатов, если они есть удалим их."
      ]
    },
    {
      "cell_type": "code",
      "execution_count": null,
      "metadata": {
        "id": "-zqubWG2rubz",
        "outputId": "815a9665-e047-4af9-e52c-0b231b472069"
      },
      "outputs": [
        {
          "data": {
            "text/plain": [
              "Index(['hypothesis', 'reach', 'impact', 'confidence', 'efforts'], dtype='object')"
            ]
          },
          "metadata": {},
          "output_type": "display_data"
        },
        {
          "data": {
            "text/plain": [
              "Index(['transaction_id', 'visitor_id', 'date', 'revenue', 'group'], dtype='object')"
            ]
          },
          "execution_count": 7,
          "metadata": {},
          "output_type": "execute_result"
        }
      ],
      "source": [
        "#приводим к единому стилю\n",
        "hypothesis.columns = hypothesis.columns.str.lower()\n",
        "orders.columns = [name.replace('Id', '_id') for name in orders.columns]\n",
        "display(hypothesis.columns)\n",
        "orders.columns"
      ]
    },
    {
      "cell_type": "code",
      "execution_count": null,
      "metadata": {
        "id": "g0YYUojKrubz"
      },
      "outputs": [],
      "source": [
        "#меняем тип данных\n",
        "orders['date'] = pd.to_datetime(orders['date'])\n",
        "visitors['date'] = pd.to_datetime(visitors['date'])"
      ]
    },
    {
      "cell_type": "code",
      "execution_count": null,
      "metadata": {
        "id": "jr61plpPrub0",
        "outputId": "17c73873-1441-4bf2-a9fd-875fc39053ad"
      },
      "outputs": [
        {
          "data": {
            "text/plain": [
              "0"
            ]
          },
          "metadata": {},
          "output_type": "display_data"
        },
        {
          "data": {
            "text/plain": [
              "0"
            ]
          },
          "metadata": {},
          "output_type": "display_data"
        },
        {
          "data": {
            "text/plain": [
              "0"
            ]
          },
          "metadata": {},
          "output_type": "display_data"
        }
      ],
      "source": [
        "#проверим на наличие дубликатов\n",
        "display(hypothesis.duplicated().sum())\n",
        "display(orders.duplicated().sum())\n",
        "display(visitors.duplicated().sum())"
      ]
    },
    {
      "cell_type": "markdown",
      "metadata": {
        "id": "fgatGMljrub0"
      },
      "source": [
        "## Приоритизация гипотез"
      ]
    },
    {
      "cell_type": "markdown",
      "metadata": {
        "id": "REtnydWTrub0"
      },
      "source": [
        "### ICE"
      ]
    },
    {
      "cell_type": "code",
      "execution_count": null,
      "metadata": {
        "id": "PF3Bj2w3rub0",
        "outputId": "87902afa-fb84-4bbd-9300-0ccb09e6c3c9"
      },
      "outputs": [
        {
          "data": {
            "text/html": [
              "<div>\n",
              "<style scoped>\n",
              "    .dataframe tbody tr th:only-of-type {\n",
              "        vertical-align: middle;\n",
              "    }\n",
              "\n",
              "    .dataframe tbody tr th {\n",
              "        vertical-align: top;\n",
              "    }\n",
              "\n",
              "    .dataframe thead th {\n",
              "        text-align: right;\n",
              "    }\n",
              "</style>\n",
              "<table border=\"1\" class=\"dataframe\">\n",
              "  <thead>\n",
              "    <tr style=\"text-align: right;\">\n",
              "      <th></th>\n",
              "      <th>hypothesis</th>\n",
              "      <th>ICE</th>\n",
              "    </tr>\n",
              "  </thead>\n",
              "  <tbody>\n",
              "    <tr>\n",
              "      <th>8</th>\n",
              "      <td>Запустить акцию, дающую скидку на товар в день рождения</td>\n",
              "      <td>16.200000</td>\n",
              "    </tr>\n",
              "    <tr>\n",
              "      <th>0</th>\n",
              "      <td>Добавить два новых канала привлечения трафика, что позволит привлекать на 30% больше пользователей</td>\n",
              "      <td>13.333333</td>\n",
              "    </tr>\n",
              "    <tr>\n",
              "      <th>7</th>\n",
              "      <td>Добавить форму подписки на все основные страницы, чтобы собрать базу клиентов для email-рассылок</td>\n",
              "      <td>11.200000</td>\n",
              "    </tr>\n",
              "    <tr>\n",
              "      <th>6</th>\n",
              "      <td>Показать на главной странице баннеры с актуальными акциями и распродажами, чтобы увеличить конверсию</td>\n",
              "      <td>8.000000</td>\n",
              "    </tr>\n",
              "    <tr>\n",
              "      <th>2</th>\n",
              "      <td>Добавить блоки рекомендаций товаров на сайт интернет магазина, чтобы повысить конверсию и средний чек заказа</td>\n",
              "      <td>7.000000</td>\n",
              "    </tr>\n",
              "    <tr>\n",
              "      <th>1</th>\n",
              "      <td>Запустить собственную службу доставки, что сократит срок доставки заказов</td>\n",
              "      <td>2.000000</td>\n",
              "    </tr>\n",
              "    <tr>\n",
              "      <th>5</th>\n",
              "      <td>Добавить страницу отзывов клиентов о магазине, что позволит увеличить количество заказов</td>\n",
              "      <td>1.333333</td>\n",
              "    </tr>\n",
              "    <tr>\n",
              "      <th>3</th>\n",
              "      <td>Изменить структура категорий, что увеличит конверсию, т.к. пользователи быстрее найдут нужный товар</td>\n",
              "      <td>1.125000</td>\n",
              "    </tr>\n",
              "    <tr>\n",
              "      <th>4</th>\n",
              "      <td>Изменить цвет фона главной страницы, чтобы увеличить вовлеченность пользователей</td>\n",
              "      <td>1.000000</td>\n",
              "    </tr>\n",
              "  </tbody>\n",
              "</table>\n",
              "</div>"
            ],
            "text/plain": [
              "                                                                                                     hypothesis  \\\n",
              "8                                                       Запустить акцию, дающую скидку на товар в день рождения   \n",
              "0            Добавить два новых канала привлечения трафика, что позволит привлекать на 30% больше пользователей   \n",
              "7              Добавить форму подписки на все основные страницы, чтобы собрать базу клиентов для email-рассылок   \n",
              "6          Показать на главной странице баннеры с актуальными акциями и распродажами, чтобы увеличить конверсию   \n",
              "2  Добавить блоки рекомендаций товаров на сайт интернет магазина, чтобы повысить конверсию и средний чек заказа   \n",
              "1                                     Запустить собственную службу доставки, что сократит срок доставки заказов   \n",
              "5                      Добавить страницу отзывов клиентов о магазине, что позволит увеличить количество заказов   \n",
              "3           Изменить структура категорий, что увеличит конверсию, т.к. пользователи быстрее найдут нужный товар   \n",
              "4                              Изменить цвет фона главной страницы, чтобы увеличить вовлеченность пользователей   \n",
              "\n",
              "         ICE  \n",
              "8  16.200000  \n",
              "0  13.333333  \n",
              "7  11.200000  \n",
              "6   8.000000  \n",
              "2   7.000000  \n",
              "1   2.000000  \n",
              "5   1.333333  \n",
              "3   1.125000  \n",
              "4   1.000000  "
            ]
          },
          "execution_count": 10,
          "metadata": {},
          "output_type": "execute_result"
        }
      ],
      "source": [
        "hypothesis['ICE'] = hypothesis['impact'] * hypothesis['confidence'] / hypothesis['efforts']\n",
        "hypothesis[['hypothesis', 'ICE']].sort_values(by='ICE', ascending=False)"
      ]
    },
    {
      "cell_type": "markdown",
      "metadata": {
        "id": "PJf3n_2zrub1"
      },
      "source": [
        "Наиболее перспективные гипотезы по ICE - 8, 0, 7, 6 и 2."
      ]
    },
    {
      "cell_type": "markdown",
      "metadata": {
        "id": "EhERj5E3rub1"
      },
      "source": [
        "### RICE"
      ]
    },
    {
      "cell_type": "code",
      "execution_count": null,
      "metadata": {
        "id": "dFsqrFKmrub1",
        "outputId": "ec63a1c0-279f-4330-c531-780dedd709d8"
      },
      "outputs": [
        {
          "data": {
            "text/html": [
              "<div>\n",
              "<style scoped>\n",
              "    .dataframe tbody tr th:only-of-type {\n",
              "        vertical-align: middle;\n",
              "    }\n",
              "\n",
              "    .dataframe tbody tr th {\n",
              "        vertical-align: top;\n",
              "    }\n",
              "\n",
              "    .dataframe thead th {\n",
              "        text-align: right;\n",
              "    }\n",
              "</style>\n",
              "<table border=\"1\" class=\"dataframe\">\n",
              "  <thead>\n",
              "    <tr style=\"text-align: right;\">\n",
              "      <th></th>\n",
              "      <th>hypothesis</th>\n",
              "      <th>RICE</th>\n",
              "    </tr>\n",
              "  </thead>\n",
              "  <tbody>\n",
              "    <tr>\n",
              "      <th>7</th>\n",
              "      <td>Добавить форму подписки на все основные страницы, чтобы собрать базу клиентов для email-рассылок</td>\n",
              "      <td>112.0</td>\n",
              "    </tr>\n",
              "    <tr>\n",
              "      <th>2</th>\n",
              "      <td>Добавить блоки рекомендаций товаров на сайт интернет магазина, чтобы повысить конверсию и средний чек заказа</td>\n",
              "      <td>56.0</td>\n",
              "    </tr>\n",
              "    <tr>\n",
              "      <th>0</th>\n",
              "      <td>Добавить два новых канала привлечения трафика, что позволит привлекать на 30% больше пользователей</td>\n",
              "      <td>40.0</td>\n",
              "    </tr>\n",
              "    <tr>\n",
              "      <th>6</th>\n",
              "      <td>Показать на главной странице баннеры с актуальными акциями и распродажами, чтобы увеличить конверсию</td>\n",
              "      <td>40.0</td>\n",
              "    </tr>\n",
              "    <tr>\n",
              "      <th>8</th>\n",
              "      <td>Запустить акцию, дающую скидку на товар в день рождения</td>\n",
              "      <td>16.2</td>\n",
              "    </tr>\n",
              "    <tr>\n",
              "      <th>3</th>\n",
              "      <td>Изменить структура категорий, что увеличит конверсию, т.к. пользователи быстрее найдут нужный товар</td>\n",
              "      <td>9.0</td>\n",
              "    </tr>\n",
              "    <tr>\n",
              "      <th>1</th>\n",
              "      <td>Запустить собственную службу доставки, что сократит срок доставки заказов</td>\n",
              "      <td>4.0</td>\n",
              "    </tr>\n",
              "    <tr>\n",
              "      <th>5</th>\n",
              "      <td>Добавить страницу отзывов клиентов о магазине, что позволит увеличить количество заказов</td>\n",
              "      <td>4.0</td>\n",
              "    </tr>\n",
              "    <tr>\n",
              "      <th>4</th>\n",
              "      <td>Изменить цвет фона главной страницы, чтобы увеличить вовлеченность пользователей</td>\n",
              "      <td>3.0</td>\n",
              "    </tr>\n",
              "  </tbody>\n",
              "</table>\n",
              "</div>"
            ],
            "text/plain": [
              "                                                                                                     hypothesis  \\\n",
              "7              Добавить форму подписки на все основные страницы, чтобы собрать базу клиентов для email-рассылок   \n",
              "2  Добавить блоки рекомендаций товаров на сайт интернет магазина, чтобы повысить конверсию и средний чек заказа   \n",
              "0            Добавить два новых канала привлечения трафика, что позволит привлекать на 30% больше пользователей   \n",
              "6          Показать на главной странице баннеры с актуальными акциями и распродажами, чтобы увеличить конверсию   \n",
              "8                                                       Запустить акцию, дающую скидку на товар в день рождения   \n",
              "3           Изменить структура категорий, что увеличит конверсию, т.к. пользователи быстрее найдут нужный товар   \n",
              "1                                     Запустить собственную службу доставки, что сократит срок доставки заказов   \n",
              "5                      Добавить страницу отзывов клиентов о магазине, что позволит увеличить количество заказов   \n",
              "4                              Изменить цвет фона главной страницы, чтобы увеличить вовлеченность пользователей   \n",
              "\n",
              "    RICE  \n",
              "7  112.0  \n",
              "2   56.0  \n",
              "0   40.0  \n",
              "6   40.0  \n",
              "8   16.2  \n",
              "3    9.0  \n",
              "1    4.0  \n",
              "5    4.0  \n",
              "4    3.0  "
            ]
          },
          "execution_count": 11,
          "metadata": {},
          "output_type": "execute_result"
        }
      ],
      "source": [
        "hypothesis['RICE'] = hypothesis['reach'] * hypothesis['impact'] * hypothesis['confidence'] / hypothesis['efforts']\n",
        "hypothesis[['hypothesis', 'RICE']].sort_values(by='RICE', ascending=False)"
      ]
    },
    {
      "cell_type": "markdown",
      "metadata": {
        "id": "Uu9d8_yzrub1"
      },
      "source": [
        "Наиболее перспективные гипотезы по RICE - 7, 2, 0, 6 и 8."
      ]
    },
    {
      "cell_type": "markdown",
      "metadata": {
        "id": "0EWirPpyrub1"
      },
      "source": [
        "Как мы видим перспективные гипотезы и по методу ICE и RICE одни и те же, но имеют немного разный приоритет. Это произошло потому что при расчёте RICE мы учитывали параметр reach, который учитывает охват пользователей, а при расчёте ICE мы во внимание этот параметр не брали."
      ]
    },
    {
      "cell_type": "markdown",
      "metadata": {
        "id": "MZfCSic4rub1"
      },
      "source": [
        "## Анализ A/B-теста"
      ]
    },
    {
      "cell_type": "markdown",
      "metadata": {
        "id": "_EEJGhkJrub2"
      },
      "source": [
        "Проверим на пересечение группы А и В. Возможно есть пользователи, которые попали в обе группы, пересечение будет влять на результаты."
      ]
    },
    {
      "cell_type": "code",
      "execution_count": null,
      "metadata": {
        "id": "gtZk3DA0rub2",
        "outputId": "e9b5a2aa-acf7-4249-a55c-53c35e8b1ae5"
      },
      "outputs": [
        {
          "name": "stdout",
          "output_type": "stream",
          "text": [
            "Количество пользователей в группе А = 503\n",
            "Количество пользователей в группе B = 586\n",
            "Количество пересекающихся пользователей между группами А и В = 58\n"
          ]
        }
      ],
      "source": [
        "visitors_a = set(orders[orders[\"group\"] == \"A\"][\"visitor_id\"].unique())\n",
        "visitors_b = set(orders[orders[\"group\"] == \"B\"][\"visitor_id\"].unique())\n",
        "visitors_ab = visitors_a.intersection(visitors_b)\n",
        "print(f'Количество пользователей в группе А = {len(visitors_a)}')\n",
        "print(f'Количество пользователей в группе B = {len(visitors_b)}')\n",
        "print(f'Количество пересекающихся пользователей между группами А и В = {len(visitors_ab)}')"
      ]
    },
    {
      "cell_type": "markdown",
      "metadata": {
        "id": "FZA2Hzjprub2"
      },
      "source": [
        "Исключим пользователей, которые попали в обе группы, т.к. они будут влиять на результаты."
      ]
    },
    {
      "cell_type": "code",
      "execution_count": null,
      "metadata": {
        "id": "g4c2Q9yUrub2"
      },
      "outputs": [],
      "source": [
        "orders = orders[~orders[\"visitor_id\"].isin(visitors_ab)]"
      ]
    },
    {
      "cell_type": "code",
      "execution_count": null,
      "metadata": {
        "id": "G3o7pu5drub2",
        "outputId": "f85f0b60-e3f3-4a20-fbb0-842883c9dbd8"
      },
      "outputs": [
        {
          "name": "stdout",
          "output_type": "stream",
          "text": [
            "Количество пользователей в группе А = 445\n",
            "Количество пользователей в группе B = 528\n",
            "Количество пересекающихся пользователей между группами А и В = 0\n"
          ]
        }
      ],
      "source": [
        "visitors_a = set(orders[orders[\"group\"] == \"A\"][\"visitor_id\"].unique())\n",
        "visitors_b = set(orders[orders[\"group\"] == \"B\"][\"visitor_id\"].unique())\n",
        "visitors_ab = visitors_a.intersection(visitors_b)\n",
        "print(f'Количество пользователей в группе А = {len(visitors_a)}')\n",
        "print(f'Количество пользователей в группе B = {len(visitors_b)}')\n",
        "print(f'Количество пересекающихся пользователей между группами А и В = {len(visitors_ab)}')"
      ]
    },
    {
      "cell_type": "markdown",
      "metadata": {
        "id": "bbsfL-4xrub3"
      },
      "source": [
        "Теперь пересекающихся пользователей нет, но группы всё равно не сбалансированы, т.к. мы не можем повлиять на результы сбора данных, то работаем с тем что есть."
      ]
    },
    {
      "cell_type": "markdown",
      "metadata": {
        "id": "8xM9cv0Rrub3"
      },
      "source": [
        "Нужно собрать кумулятивные данные. Объявим датафрейм cumulativeData со столбцами:\n",
        "* date — дата;\n",
        "* group — группа A/B-теста (A или B);\n",
        "* orders — кумулятивное количество заказов на указанную дату в указанной группе;\n",
        "* buyers — кумулятивное количество пользователей, совершивших хотя бы один заказ, на указанную дату в указанной группе;\n",
        "* revenue — кумулятивная выручка на указанную дату в указанной группе (средний чек);\n",
        "* visitors — кумулятивное количество посетителей интернет-магазина на указанную дату в определённой группе."
      ]
    },
    {
      "cell_type": "markdown",
      "metadata": {
        "id": "WbR0XxqRrub3"
      },
      "source": [
        "Создадим массив уникальных пар значений дат и групп теста методом drop_duplicates():"
      ]
    },
    {
      "cell_type": "code",
      "execution_count": null,
      "metadata": {
        "id": "DCrHGyYirub3"
      },
      "outputs": [],
      "source": [
        "# создаем массив уникальных пар значений дат и групп теста\n",
        "datesGroups = orders[['date','group']].drop_duplicates()"
      ]
    },
    {
      "cell_type": "markdown",
      "metadata": {
        "id": "CjqSoYNBrub3"
      },
      "source": [
        "Соберём агрегированные кумулятивные по дням данные о заказах."
      ]
    },
    {
      "cell_type": "code",
      "execution_count": null,
      "metadata": {
        "id": "OwyS7Ymzrub4",
        "outputId": "7130c8f4-b303-4a14-f57e-51fd9f7ad110"
      },
      "outputs": [
        {
          "data": {
            "text/html": [
              "<div>\n",
              "<style scoped>\n",
              "    .dataframe tbody tr th:only-of-type {\n",
              "        vertical-align: middle;\n",
              "    }\n",
              "\n",
              "    .dataframe tbody tr th {\n",
              "        vertical-align: top;\n",
              "    }\n",
              "\n",
              "    .dataframe thead th {\n",
              "        text-align: right;\n",
              "    }\n",
              "</style>\n",
              "<table border=\"1\" class=\"dataframe\">\n",
              "  <thead>\n",
              "    <tr style=\"text-align: right;\">\n",
              "      <th></th>\n",
              "      <th>date</th>\n",
              "      <th>group</th>\n",
              "      <th>transaction_id</th>\n",
              "      <th>visitor_id</th>\n",
              "      <th>revenue</th>\n",
              "    </tr>\n",
              "  </thead>\n",
              "  <tbody>\n",
              "    <tr>\n",
              "      <th>55</th>\n",
              "      <td>2019-08-01</td>\n",
              "      <td>A</td>\n",
              "      <td>23</td>\n",
              "      <td>19</td>\n",
              "      <td>142779</td>\n",
              "    </tr>\n",
              "    <tr>\n",
              "      <th>66</th>\n",
              "      <td>2019-08-01</td>\n",
              "      <td>B</td>\n",
              "      <td>17</td>\n",
              "      <td>17</td>\n",
              "      <td>59758</td>\n",
              "    </tr>\n",
              "    <tr>\n",
              "      <th>175</th>\n",
              "      <td>2019-08-02</td>\n",
              "      <td>A</td>\n",
              "      <td>42</td>\n",
              "      <td>36</td>\n",
              "      <td>234381</td>\n",
              "    </tr>\n",
              "    <tr>\n",
              "      <th>173</th>\n",
              "      <td>2019-08-02</td>\n",
              "      <td>B</td>\n",
              "      <td>40</td>\n",
              "      <td>39</td>\n",
              "      <td>221801</td>\n",
              "    </tr>\n",
              "    <tr>\n",
              "      <th>291</th>\n",
              "      <td>2019-08-03</td>\n",
              "      <td>A</td>\n",
              "      <td>66</td>\n",
              "      <td>60</td>\n",
              "      <td>346854</td>\n",
              "    </tr>\n",
              "  </tbody>\n",
              "</table>\n",
              "</div>"
            ],
            "text/plain": [
              "          date group  transaction_id  visitor_id  revenue\n",
              "55  2019-08-01     A              23          19   142779\n",
              "66  2019-08-01     B              17          17    59758\n",
              "175 2019-08-02     A              42          36   234381\n",
              "173 2019-08-02     B              40          39   221801\n",
              "291 2019-08-03     A              66          60   346854"
            ]
          },
          "execution_count": 16,
          "metadata": {},
          "output_type": "execute_result"
        }
      ],
      "source": [
        "ordersAggregated = datesGroups.apply(\n",
        "    lambda x: orders[\n",
        "        np.logical_and(\n",
        "            orders['date'] <= x['date'], orders['group'] == x['group']\n",
        "        )\n",
        "    ].agg(\n",
        "        {\n",
        "            'date': 'max',\n",
        "            'group': 'max',\n",
        "            'transaction_id': 'nunique',\n",
        "            'visitor_id': 'nunique',\n",
        "            'revenue': 'sum',\n",
        "        }\n",
        "    ),\n",
        "    axis=1,\n",
        ").sort_values(by=['date', 'group'])\n",
        "\n",
        "ordersAggregated.head()"
      ]
    },
    {
      "cell_type": "markdown",
      "metadata": {
        "id": "cwvZcyZ9rub4"
      },
      "source": [
        "Соберём агрегированные кумулятивные по дням данные о посетителях интернет-магазина."
      ]
    },
    {
      "cell_type": "code",
      "execution_count": null,
      "metadata": {
        "id": "PieV2bkrrub4",
        "outputId": "a5e8733a-204a-485c-c364-b32a59442c7a"
      },
      "outputs": [
        {
          "data": {
            "text/html": [
              "<div>\n",
              "<style scoped>\n",
              "    .dataframe tbody tr th:only-of-type {\n",
              "        vertical-align: middle;\n",
              "    }\n",
              "\n",
              "    .dataframe tbody tr th {\n",
              "        vertical-align: top;\n",
              "    }\n",
              "\n",
              "    .dataframe thead th {\n",
              "        text-align: right;\n",
              "    }\n",
              "</style>\n",
              "<table border=\"1\" class=\"dataframe\">\n",
              "  <thead>\n",
              "    <tr style=\"text-align: right;\">\n",
              "      <th></th>\n",
              "      <th>date</th>\n",
              "      <th>group</th>\n",
              "      <th>visitors</th>\n",
              "    </tr>\n",
              "  </thead>\n",
              "  <tbody>\n",
              "    <tr>\n",
              "      <th>55</th>\n",
              "      <td>2019-08-01</td>\n",
              "      <td>A</td>\n",
              "      <td>719</td>\n",
              "    </tr>\n",
              "    <tr>\n",
              "      <th>66</th>\n",
              "      <td>2019-08-01</td>\n",
              "      <td>B</td>\n",
              "      <td>713</td>\n",
              "    </tr>\n",
              "    <tr>\n",
              "      <th>175</th>\n",
              "      <td>2019-08-02</td>\n",
              "      <td>A</td>\n",
              "      <td>1338</td>\n",
              "    </tr>\n",
              "    <tr>\n",
              "      <th>173</th>\n",
              "      <td>2019-08-02</td>\n",
              "      <td>B</td>\n",
              "      <td>1294</td>\n",
              "    </tr>\n",
              "    <tr>\n",
              "      <th>291</th>\n",
              "      <td>2019-08-03</td>\n",
              "      <td>A</td>\n",
              "      <td>1845</td>\n",
              "    </tr>\n",
              "    <tr>\n",
              "      <th>383</th>\n",
              "      <td>2019-08-03</td>\n",
              "      <td>B</td>\n",
              "      <td>1803</td>\n",
              "    </tr>\n",
              "  </tbody>\n",
              "</table>\n",
              "</div>"
            ],
            "text/plain": [
              "          date group  visitors\n",
              "55  2019-08-01     A       719\n",
              "66  2019-08-01     B       713\n",
              "175 2019-08-02     A      1338\n",
              "173 2019-08-02     B      1294\n",
              "291 2019-08-03     A      1845\n",
              "383 2019-08-03     B      1803"
            ]
          },
          "execution_count": 17,
          "metadata": {},
          "output_type": "execute_result"
        }
      ],
      "source": [
        "visitorsAggregated = datesGroups.apply(\n",
        "    lambda x: visitors[\n",
        "        np.logical_and(\n",
        "            visitors['date'] <= x['date'], visitors['group'] == x['group']\n",
        "        )\n",
        "    ].agg(\n",
        "        {\n",
        "            'date': 'max',\n",
        "            'group': 'max',\n",
        "            'visitors': 'sum'\n",
        "        }\n",
        "    ),\n",
        "    axis=1,\n",
        ").sort_values(by=['date', 'group'])\n",
        "\n",
        "visitorsAggregated.head(6)"
      ]
    },
    {
      "cell_type": "markdown",
      "metadata": {
        "id": "hTT-57fArub4"
      },
      "source": [
        "Объединим обе таблицы в одну с понятными названиями столбцов:"
      ]
    },
    {
      "cell_type": "code",
      "execution_count": null,
      "metadata": {
        "id": "FGsucWF_rub4",
        "outputId": "8975393f-fbf7-47aa-b0b5-de1fc032e323"
      },
      "outputs": [
        {
          "data": {
            "text/html": [
              "<div>\n",
              "<style scoped>\n",
              "    .dataframe tbody tr th:only-of-type {\n",
              "        vertical-align: middle;\n",
              "    }\n",
              "\n",
              "    .dataframe tbody tr th {\n",
              "        vertical-align: top;\n",
              "    }\n",
              "\n",
              "    .dataframe thead th {\n",
              "        text-align: right;\n",
              "    }\n",
              "</style>\n",
              "<table border=\"1\" class=\"dataframe\">\n",
              "  <thead>\n",
              "    <tr style=\"text-align: right;\">\n",
              "      <th></th>\n",
              "      <th>date</th>\n",
              "      <th>group</th>\n",
              "      <th>orders</th>\n",
              "      <th>buyers</th>\n",
              "      <th>revenue</th>\n",
              "      <th>visitors</th>\n",
              "    </tr>\n",
              "  </thead>\n",
              "  <tbody>\n",
              "    <tr>\n",
              "      <th>0</th>\n",
              "      <td>2019-08-01</td>\n",
              "      <td>A</td>\n",
              "      <td>23</td>\n",
              "      <td>19</td>\n",
              "      <td>142779</td>\n",
              "      <td>719</td>\n",
              "    </tr>\n",
              "    <tr>\n",
              "      <th>1</th>\n",
              "      <td>2019-08-01</td>\n",
              "      <td>B</td>\n",
              "      <td>17</td>\n",
              "      <td>17</td>\n",
              "      <td>59758</td>\n",
              "      <td>713</td>\n",
              "    </tr>\n",
              "    <tr>\n",
              "      <th>2</th>\n",
              "      <td>2019-08-02</td>\n",
              "      <td>A</td>\n",
              "      <td>42</td>\n",
              "      <td>36</td>\n",
              "      <td>234381</td>\n",
              "      <td>1338</td>\n",
              "    </tr>\n",
              "    <tr>\n",
              "      <th>3</th>\n",
              "      <td>2019-08-02</td>\n",
              "      <td>B</td>\n",
              "      <td>40</td>\n",
              "      <td>39</td>\n",
              "      <td>221801</td>\n",
              "      <td>1294</td>\n",
              "    </tr>\n",
              "    <tr>\n",
              "      <th>4</th>\n",
              "      <td>2019-08-03</td>\n",
              "      <td>A</td>\n",
              "      <td>66</td>\n",
              "      <td>60</td>\n",
              "      <td>346854</td>\n",
              "      <td>1845</td>\n",
              "    </tr>\n",
              "  </tbody>\n",
              "</table>\n",
              "</div>"
            ],
            "text/plain": [
              "        date group  orders  buyers  revenue  visitors\n",
              "0 2019-08-01     A      23      19   142779       719\n",
              "1 2019-08-01     B      17      17    59758       713\n",
              "2 2019-08-02     A      42      36   234381      1338\n",
              "3 2019-08-02     B      40      39   221801      1294\n",
              "4 2019-08-03     A      66      60   346854      1845"
            ]
          },
          "execution_count": 18,
          "metadata": {},
          "output_type": "execute_result"
        }
      ],
      "source": [
        "cumulativeData = ordersAggregated.merge(visitorsAggregated, left_on=['date', 'group'], right_on=['date', 'group'])\n",
        "cumulativeData.columns = ['date', 'group', 'orders', 'buyers', 'revenue', 'visitors']\n",
        "\n",
        "cumulativeData.head()"
      ]
    },
    {
      "cell_type": "markdown",
      "metadata": {
        "id": "4NI8HHK4rub5"
      },
      "source": [
        "### график кумулятивной выручки по группам"
      ]
    },
    {
      "cell_type": "code",
      "execution_count": null,
      "metadata": {
        "id": "70visLJ4rub5",
        "outputId": "e187e628-8f22-4a1d-e502-199be3e03f32"
      },
      "outputs": [
        {
          "data": {
            "image/png": "[encoded data removed]",
            "text/plain": [
              "<Figure size 864x504 with 1 Axes>"
            ]
          },
          "metadata": {
            "needs_background": "light"
          },
          "output_type": "display_data"
        }
      ],
      "source": [
        "# датафрейм с кумулятивным количеством заказов и кумулятивной выручкой по дням в группе А\n",
        "cumulativeRevenueA = cumulativeData[cumulativeData['group']=='A'][['date','revenue', 'orders']]\n",
        "\n",
        "# датафрейм с кумулятивным количеством заказов и кумулятивной выручкой по дням в группе B\n",
        "cumulativeRevenueB = cumulativeData[cumulativeData['group']=='B'][['date','revenue', 'orders']]\n",
        "\n",
        "plt.figure(figsize=(12, 7))\n",
        "# строим график выручки группы А\n",
        "plt.plot(cumulativeRevenueA['date'], cumulativeRevenueA['revenue'], label='A')\n",
        "\n",
        "# строим график выручки группы B\n",
        "plt.plot(cumulativeRevenueB['date'], cumulativeRevenueB['revenue'], label='B')\n",
        "plt.title('График динамики кумулятивной выручки по группам А и В')\n",
        "plt.ylabel(\"Выручка, млн.\")\n",
        "plt.xticks(rotation=50)\n",
        "plt.legend()\n",
        "plt.show()"
      ]
    },
    {
      "cell_type": "markdown",
      "metadata": {
        "id": "K9u_NyLurub5"
      },
      "source": [
        "Выручка равномерно увеличивается в течении всего теста. Кумулятивная выручка группы А меньше, чем у группы В. Заметен резкий скачок - это может сигнализировать о всплесках числа заказов, либо о появлении очень дорогих заказов в выборке."
      ]
    },
    {
      "cell_type": "markdown",
      "metadata": {
        "id": "1g1fwQ8Rrub6"
      },
      "source": [
        "### график кумулятивного среднего чека по группам"
      ]
    },
    {
      "cell_type": "code",
      "execution_count": null,
      "metadata": {
        "id": "NJg6Nj4urub6",
        "outputId": "658daf81-ce13-4cf1-df80-404dca6f16aa"
      },
      "outputs": [
        {
          "data": {
            "image/png": "[encoded data removed]",
            "text/plain": [
              "<Figure size 864x504 with 1 Axes>"
            ]
          },
          "metadata": {
            "needs_background": "light"
          },
          "output_type": "display_data"
        }
      ],
      "source": [
        "plt.figure(figsize=(12, 7))\n",
        "plt.plot(cumulativeRevenueA['date'], cumulativeRevenueA['revenue']/cumulativeRevenueA['orders'], label='A')\n",
        "plt.plot(cumulativeRevenueB['date'], cumulativeRevenueB['revenue']/cumulativeRevenueB['orders'], label='B')\n",
        "\n",
        "plt.title('График динамики кумулятивного среднего чека по группам А и В')\n",
        "plt.ylabel(\"Выручка, млн.\")\n",
        "plt.xticks(rotation=30)\n",
        "plt.legend()\n",
        "plt.show()"
      ]
    },
    {
      "cell_type": "markdown",
      "metadata": {
        "id": "q3QWSEqQrub6"
      },
      "source": [
        "Средний чек группы A был неравномерен, но после очередного скачка стабилизировался и во второй половине стал стабильнее. Средний чек же группы B показал резкий скачок, что говорит в пользу версии о дорогих заказов в выборке.\n"
      ]
    },
    {
      "cell_type": "markdown",
      "metadata": {
        "id": "zF0grDvMrub7"
      },
      "source": [
        "### график относительного изменения кумулятивного среднего чека группы B к группе A"
      ]
    },
    {
      "cell_type": "code",
      "execution_count": null,
      "metadata": {
        "id": "y4mZQRKqrub7",
        "outputId": "0e94028e-8d82-49d4-8883-0c2acffb413f"
      },
      "outputs": [
        {
          "data": {
            "image/png": "[encoded data removed]",
            "text/plain": [
              "<Figure size 864x504 with 1 Axes>"
            ]
          },
          "metadata": {
            "needs_background": "light"
          },
          "output_type": "display_data"
        }
      ],
      "source": [
        "plt.figure(figsize=(12, 7))\n",
        "\n",
        "# собираем данные в одном датафрейме\n",
        "mergedCumulativeRevenue = cumulativeRevenueA.merge(cumulativeRevenueB, left_on='date', right_on='date', how='left', suffixes=['A', 'B'])\n",
        "\n",
        "# cтроим отношение средних чеков\n",
        "plt.plot(mergedCumulativeRevenue['date'], (mergedCumulativeRevenue['revenueB']/mergedCumulativeRevenue['ordersB'])/(mergedCumulativeRevenue['revenueA']/mergedCumulativeRevenue['ordersA'])-1)\n",
        "\n",
        "# добавляем ось X\n",
        "plt.axhline(y=0, color='black', linestyle='--')\n",
        "plt.title('График относительного изменения кумулятивного среднего чека группы B к группе A')\n",
        "plt.xticks(rotation=30)\n",
        "plt.show()"
      ]
    },
    {
      "cell_type": "markdown",
      "metadata": {
        "id": "EZDigsPwrub7"
      },
      "source": [
        "График резко скачет в нескольких точках - можем точно сказать, что есть какие-то выбросы и крупные заказы."
      ]
    },
    {
      "cell_type": "markdown",
      "metadata": {
        "id": "C0GiFm2qrub8"
      },
      "source": [
        "### график кумулятивного среднего количества заказов на посетителя по группам"
      ]
    },
    {
      "cell_type": "code",
      "execution_count": null,
      "metadata": {
        "id": "rOlyHSNcrub8",
        "outputId": "223a23a1-0ced-40d6-90e2-aa8c47cefabf"
      },
      "outputs": [
        {
          "data": {
            "image/png": "[encoded data removed]",
            "text/plain": [
              "<Figure size 864x504 with 1 Axes>"
            ]
          },
          "metadata": {
            "needs_background": "light"
          },
          "output_type": "display_data"
        }
      ],
      "source": [
        "#добавим столбец с конверсией\n",
        "cumulativeData['conversion'] = cumulativeData['orders'] / cumulativeData['visitors']\n",
        "\n",
        "# считаем кумулятивную конверсию\n",
        "cumulativeData['conversion'] = cumulativeData['orders']/cumulativeData['visitors']\n",
        "\n",
        "# отделяем данные по группе A\n",
        "cumulativeDataA = cumulativeData[cumulativeData['group']=='A']\n",
        "\n",
        "# отделяем данные по группе B\n",
        "cumulativeDataB = cumulativeData[cumulativeData['group']=='B']\n",
        "\n",
        "# строим графики\n",
        "plt.figure(figsize=(12, 7))\n",
        "plt.plot(cumulativeDataA['date'], cumulativeDataA['conversion'], label='A')\n",
        "plt.plot(cumulativeDataB['date'], cumulativeDataB['conversion'], label='B')\n",
        "plt.legend()\n",
        "plt.title('Кумулятивная конверсия по группам')\n",
        "plt.xlabel(' ')\n",
        "plt.ylabel('Конверсия')\n",
        "plt.xticks(rotation=30)\n",
        "plt.show()\n"
      ]
    },
    {
      "cell_type": "markdown",
      "metadata": {
        "id": "-FYoq0Mwrub8"
      },
      "source": [
        "В начале каждая группа колебалась, потом они более менее выравнялись. Конверсия группы B зафиксировалась выше, конверсия группы A ниже."
      ]
    },
    {
      "cell_type": "markdown",
      "metadata": {
        "id": "JjfJdj38rub8"
      },
      "source": [
        "### график относительного изменения кумулятивного среднего количества заказов на посетителя группы B к группе A"
      ]
    },
    {
      "cell_type": "code",
      "execution_count": null,
      "metadata": {
        "id": "x-dOWzXqrub8",
        "outputId": "b4aee8ff-f8b3-473d-c6b1-fa7d019c66f2"
      },
      "outputs": [
        {
          "data": {
            "image/png": "[encoded data removed]",
            "text/plain": [
              "<Figure size 864x504 with 1 Axes>"
            ]
          },
          "metadata": {
            "needs_background": "light"
          },
          "output_type": "display_data"
        }
      ],
      "source": [
        "mergedCumulativeConversions = cumulativeDataA[['date','conversion']].merge(cumulativeDataB[['date','conversion']], left_on='date', right_on='date', how='left', suffixes=['A', 'B'])\n",
        "plt.figure(figsize=(12, 7))\n",
        "plt.plot(mergedCumulativeConversions['date'], mergedCumulativeConversions['conversionB']/mergedCumulativeConversions['conversionA']-1, label=\"Относительный прирост конверсии группы B относительно группы A\")\n",
        "plt.legend()\n",
        "\n",
        "plt.axhline(y=0, color='black', linestyle='--')\n",
        "plt.axhline(y=-0.1, color='grey', linestyle='--')\n",
        "plt.title('Относительный прирост конверсии группы B относительно группы A')\n",
        "plt.xticks(rotation=30)\n",
        "plt.show()"
      ]
    },
    {
      "cell_type": "markdown",
      "metadata": {
        "id": "JLAY6wbtrub9"
      },
      "source": [
        "В начале теста группа В проигрывала группе А, но затем вырвалась вперед. Ее конверсия стремительно росла, потом снова падала и в самом конце снова пошла на рост."
      ]
    },
    {
      "cell_type": "markdown",
      "metadata": {
        "id": "03t9nnUdrub9"
      },
      "source": [
        "### количество заказов по пользователям"
      ]
    },
    {
      "cell_type": "markdown",
      "metadata": {
        "id": "3fJKnQiVrub9"
      },
      "source": [
        "Посчитаем количество заказов по пользователям."
      ]
    },
    {
      "cell_type": "code",
      "execution_count": null,
      "metadata": {
        "id": "sYflXlDkrub9",
        "outputId": "ccb8db0d-3069-4ec3-9feb-b1272deafeea"
      },
      "outputs": [
        {
          "data": {
            "text/html": [
              "<div>\n",
              "<style scoped>\n",
              "    .dataframe tbody tr th:only-of-type {\n",
              "        vertical-align: middle;\n",
              "    }\n",
              "\n",
              "    .dataframe tbody tr th {\n",
              "        vertical-align: top;\n",
              "    }\n",
              "\n",
              "    .dataframe thead th {\n",
              "        text-align: right;\n",
              "    }\n",
              "</style>\n",
              "<table border=\"1\" class=\"dataframe\">\n",
              "  <thead>\n",
              "    <tr style=\"text-align: right;\">\n",
              "      <th></th>\n",
              "      <th>visitor_id</th>\n",
              "      <th>orders</th>\n",
              "    </tr>\n",
              "  </thead>\n",
              "  <tbody>\n",
              "    <tr>\n",
              "      <th>908</th>\n",
              "      <td>3967698036</td>\n",
              "      <td>3</td>\n",
              "    </tr>\n",
              "    <tr>\n",
              "      <th>55</th>\n",
              "      <td>249864742</td>\n",
              "      <td>3</td>\n",
              "    </tr>\n",
              "    <tr>\n",
              "      <th>478</th>\n",
              "      <td>2108163459</td>\n",
              "      <td>3</td>\n",
              "    </tr>\n",
              "    <tr>\n",
              "      <th>687</th>\n",
              "      <td>2988190573</td>\n",
              "      <td>3</td>\n",
              "    </tr>\n",
              "    <tr>\n",
              "      <th>890</th>\n",
              "      <td>3908431265</td>\n",
              "      <td>3</td>\n",
              "    </tr>\n",
              "    <tr>\n",
              "      <th>138</th>\n",
              "      <td>611059232</td>\n",
              "      <td>3</td>\n",
              "    </tr>\n",
              "    <tr>\n",
              "      <th>632</th>\n",
              "      <td>2742574263</td>\n",
              "      <td>3</td>\n",
              "    </tr>\n",
              "    <tr>\n",
              "      <th>157</th>\n",
              "      <td>678354126</td>\n",
              "      <td>2</td>\n",
              "    </tr>\n",
              "    <tr>\n",
              "      <th>323</th>\n",
              "      <td>1404560065</td>\n",
              "      <td>2</td>\n",
              "    </tr>\n",
              "    <tr>\n",
              "      <th>452</th>\n",
              "      <td>1985475298</td>\n",
              "      <td>2</td>\n",
              "    </tr>\n",
              "  </tbody>\n",
              "</table>\n",
              "</div>"
            ],
            "text/plain": [
              "     visitor_id  orders\n",
              "908  3967698036       3\n",
              "55    249864742       3\n",
              "478  2108163459       3\n",
              "687  2988190573       3\n",
              "890  3908431265       3\n",
              "138   611059232       3\n",
              "632  2742574263       3\n",
              "157   678354126       2\n",
              "323  1404560065       2\n",
              "452  1985475298       2"
            ]
          },
          "execution_count": 24,
          "metadata": {},
          "output_type": "execute_result"
        }
      ],
      "source": [
        "ordersByUsers = (\n",
        "    orders.groupby('visitor_id', as_index=False)\n",
        "    .agg({'transaction_id': 'nunique'})\n",
        ")\n",
        "ordersByUsers.columns =  ['visitor_id', 'orders']\n",
        "\n",
        "ordersByUsers.sort_values(by='orders', ascending=False).head(10)"
      ]
    },
    {
      "cell_type": "markdown",
      "metadata": {
        "id": "Dee7y-u6rub9"
      },
      "source": [
        "Есть пользователи, которые совершали 8, 9 и 11 заказов, что в разы больше обычного количества заказов для пользователя."
      ]
    },
    {
      "cell_type": "code",
      "execution_count": null,
      "metadata": {
        "id": "FqMtLA7prub9",
        "outputId": "e2cf4c9e-6305-44e7-e5be-81334fbbcda4"
      },
      "outputs": [
        {
          "data": {
            "image/png": "[encoded data removed]",
            "text/plain": [
              "<Figure size 864x504 with 1 Axes>"
            ]
          },
          "metadata": {
            "needs_background": "light"
          },
          "output_type": "display_data"
        }
      ],
      "source": [
        "x_values = pd.Series(range(0,len(ordersByUsers)))\n",
        "plt.figure(figsize=(12, 7))\n",
        "plt.scatter(x_values, ordersByUsers['orders'])\n",
        "plt.title('Количество заказов по пользователям')\n",
        "plt.show()"
      ]
    },
    {
      "cell_type": "markdown",
      "metadata": {
        "id": "zCpPmSSPrub-"
      },
      "source": [
        "Много пользователей с 2-3 заказами. Их точная доля не ясна — пока не ясно считать их аномалиями или нет.\n",
        "\n",
        "Посчитаем выборочные перцентили количества заказов на одного пользователя:"
      ]
    },
    {
      "cell_type": "code",
      "execution_count": null,
      "metadata": {
        "id": "jUmCxmVtrub-",
        "outputId": "632aa28a-fbaa-424d-c07f-88c0d7b0f082"
      },
      "outputs": [
        {
          "data": {
            "text/plain": [
              "array([1., 2.])"
            ]
          },
          "execution_count": 26,
          "metadata": {},
          "output_type": "execute_result"
        }
      ],
      "source": [
        "np.percentile(ordersByUsers['orders'], [95, 99])"
      ]
    },
    {
      "cell_type": "markdown",
      "metadata": {
        "id": "mvXplQi2rub-"
      },
      "source": [
        "Не более 5% пользователей совершали больше 2-х покупок в течение тестирования. И только 1% - два и более.\n",
        "Примем за верхнюю границу 2 заказа на одного пользователя."
      ]
    },
    {
      "cell_type": "markdown",
      "metadata": {
        "id": "9PpcM8yZrub-"
      },
      "source": [
        "### стоимость заказов"
      ]
    },
    {
      "cell_type": "code",
      "execution_count": null,
      "metadata": {
        "id": "mBXqLPHrrub-",
        "outputId": "b5164339-e58a-4a33-9bc7-72e41837dcd6"
      },
      "outputs": [
        {
          "data": {
            "text/plain": [
              "425     1294500\n",
              "1196     202740\n",
              "1136      92550\n",
              "744       86620\n",
              "743       67990\n",
              "1103      66350\n",
              "1099      65710\n",
              "949       60450\n",
              "940       58550\n",
              "131       53904\n",
              "Name: revenue, dtype: int64"
            ]
          },
          "execution_count": 27,
          "metadata": {},
          "output_type": "execute_result"
        }
      ],
      "source": [
        "orders['revenue'].sort_values(ascending=False).head(10)"
      ]
    },
    {
      "cell_type": "code",
      "execution_count": null,
      "metadata": {
        "id": "7eyPcNBPrub_",
        "outputId": "553676d9-3ff6-414c-d153-6d64342d8b0b"
      },
      "outputs": [
        {
          "data": {
            "image/png": "[encoded data removed]",
            "text/plain": [
              "<Figure size 864x504 with 1 Axes>"
            ]
          },
          "metadata": {
            "needs_background": "light"
          },
          "output_type": "display_data"
        }
      ],
      "source": [
        "x_values = pd.Series(range(0,len(orders['revenue'])))\n",
        "plt.figure(figsize=(12, 7))\n",
        "plt.scatter(x_values, orders['revenue'])\n",
        "plt.title('Распределение стоимости заказов')\n",
        "plt.show()"
      ]
    },
    {
      "cell_type": "markdown",
      "metadata": {
        "id": "i8zwfM_Xrub_"
      },
      "source": [
        "На графике как минимум два крупных заказа, которые могут вызывать скачки на графиках кумулятивных метрик.\n",
        "\n",
        "Посмотрим на график без этих выбросов."
      ]
    },
    {
      "cell_type": "code",
      "execution_count": null,
      "metadata": {
        "id": "igz3g8ZYrub_",
        "outputId": "1a6ac2fb-a8e9-41ff-cfc8-d86f1596ff81"
      },
      "outputs": [
        {
          "data": {
            "image/png": "[encoded data removed]",
            "text/plain": [
              "<Figure size 864x504 with 1 Axes>"
            ]
          },
          "metadata": {
            "needs_background": "light"
          },
          "output_type": "display_data"
        }
      ],
      "source": [
        "plt.figure(figsize=(12, 7))\n",
        "plt.ylim(0, 150000)\n",
        "plt.scatter(x_values, orders['revenue'])\n",
        "plt.title('Распределение стоимости заказов')\n",
        "plt.show()"
      ]
    },
    {
      "cell_type": "markdown",
      "metadata": {
        "id": "DOpStq1Grub_"
      },
      "source": [
        "Основная масса заказов не превышает 20000.\n",
        "\n",
        "Посчитаем выборочные перцентили стоимости заказов."
      ]
    },
    {
      "cell_type": "code",
      "execution_count": null,
      "metadata": {
        "id": "s-9FFUhXrub_",
        "outputId": "90fd9acf-fd35-4f69-a4dc-82333c2b69d7"
      },
      "outputs": [
        {
          "data": {
            "text/plain": [
              "array([26785., 53904.])"
            ]
          },
          "execution_count": 30,
          "metadata": {},
          "output_type": "execute_result"
        }
      ],
      "source": [
        "np.percentile(orders['revenue'], [95, 99])"
      ]
    },
    {
      "cell_type": "markdown",
      "metadata": {
        "id": "OdTZijDkrub_"
      },
      "source": [
        "Выберем границу для определения аномальных заказов по значению 99% перцентиля - 53904."
      ]
    },
    {
      "cell_type": "markdown",
      "metadata": {
        "id": "KFQEHhfNrucA"
      },
      "source": [
        "### статистическая значимость различий в среднем количестве заказов на посетителя между группами по «сырым» данным"
      ]
    },
    {
      "cell_type": "markdown",
      "metadata": {
        "id": "CskYRBifrucA"
      },
      "source": [
        "Посчитаем статистическую значимость различий в среднем числе заказов на пользователя и среднем чеке между группами по «сырым» данным — без удаления аномальных пользователей.\n",
        "\n",
        "Начнём с подготовки данных."
      ]
    },
    {
      "cell_type": "code",
      "execution_count": null,
      "metadata": {
        "id": "9o4NSjMRrucA",
        "outputId": "baa70966-752b-49f4-8153-8e7d77484692"
      },
      "outputs": [
        {
          "name": "stdout",
          "output_type": "stream",
          "text": [
            "        date  ordersPerDateA  revenuePerDateA  ordersPerDateB  \\\n",
            "0 2019-08-01              23           142779              17   \n",
            "1 2019-08-02              19            91602              23   \n",
            "2 2019-08-03              24           112473              14   \n",
            "3 2019-08-04              11            41176              14   \n",
            "4 2019-08-05              22            86383              21   \n",
            "\n",
            "   revenuePerDateB  ordersCummulativeA  revenueCummulativeA  \\\n",
            "0            59758                  23               142779   \n",
            "1           162043                  42               234381   \n",
            "2            67049                  66               346854   \n",
            "3            96890                  77               388030   \n",
            "4            89908                  99               474413   \n",
            "\n",
            "   ordersCummulativeB  revenueCummulativeB  visitorsPerDateA  \\\n",
            "0                  17                59758               719   \n",
            "1                  40               221801               619   \n",
            "2                  54               288850               507   \n",
            "3                  68               385740               717   \n",
            "4                  89               475648               756   \n",
            "\n",
            "   visitorsPerDateB  visitorsCummulativeA  visitorsCummulativeB  \n",
            "0               713                   719                   713  \n",
            "1               581                  1338                  1294  \n",
            "2               509                  1845                  1803  \n",
            "3               770                  2562                  2573  \n",
            "4               707                  3318                  3280  \n"
          ]
        }
      ],
      "source": [
        "visitorsADaily = visitors[visitors['group'] == 'A'][['date', 'visitors']]\n",
        "visitorsADaily.columns = ['date', 'visitorsPerDateA']\n",
        "\n",
        "visitorsACummulative = visitorsADaily.apply(\n",
        "    lambda x: visitorsADaily[visitorsADaily['date'] <= x['date']].agg(\n",
        "        {'date': 'max', 'visitorsPerDateA': 'sum'}\n",
        "    ),\n",
        "    axis=1,\n",
        ")\n",
        "visitorsACummulative.columns = ['date', 'visitorsCummulativeA']\n",
        "\n",
        "visitorsBDaily = visitors[visitors['group'] == 'B'][['date', 'visitors']]\n",
        "visitorsBDaily.columns = ['date', 'visitorsPerDateB']\n",
        "\n",
        "visitorsBCummulative = visitorsBDaily.apply(\n",
        "    lambda x: visitorsBDaily[visitorsBDaily['date'] <= x['date']].agg(\n",
        "        {'date': 'max', 'visitorsPerDateB': 'sum'}\n",
        "    ),\n",
        "    axis=1,\n",
        ")\n",
        "visitorsBCummulative.columns = ['date', 'visitorsCummulativeB']\n",
        "\n",
        "ordersADaily = (\n",
        "    orders[orders['group'] == 'A'][['date', 'transaction_id', 'visitor_id', 'revenue']]\n",
        "    .groupby('date', as_index=False)\n",
        "    .agg({'transaction_id': pd.Series.nunique, 'revenue': 'sum'})\n",
        ")\n",
        "ordersADaily.columns = ['date', 'ordersPerDateA', 'revenuePerDateA']\n",
        "\n",
        "ordersACummulative = ordersADaily.apply(\n",
        "    lambda x: ordersADaily[ordersADaily['date'] <= x['date']].agg(\n",
        "        {'date': 'max', 'ordersPerDateA': 'sum', 'revenuePerDateA': 'sum'}\n",
        "    ),\n",
        "    axis=1,\n",
        ").sort_values(by=['date'])\n",
        "ordersACummulative.columns = [\n",
        "    'date',\n",
        "    'ordersCummulativeA',\n",
        "    'revenueCummulativeA',\n",
        "]\n",
        "\n",
        "ordersBDaily = (\n",
        "    orders[orders['group'] == 'B'][['date', 'transaction_id', 'visitor_id', 'revenue']]\n",
        "    .groupby('date', as_index=False)\n",
        "    .agg({'transaction_id': pd.Series.nunique, 'revenue': 'sum'})\n",
        ")\n",
        "ordersBDaily.columns = ['date', 'ordersPerDateB', 'revenuePerDateB']\n",
        "\n",
        "ordersBCummulative = ordersBDaily.apply(\n",
        "    lambda x: ordersBDaily[ordersBDaily['date'] <= x['date']].agg(\n",
        "        {'date': 'max', 'ordersPerDateB': 'sum', 'revenuePerDateB': 'sum'}\n",
        "    ),\n",
        "    axis=1,\n",
        ").sort_values(by=['date'])\n",
        "ordersBCummulative.columns = [\n",
        "    'date',\n",
        "    'ordersCummulativeB',\n",
        "    'revenueCummulativeB',\n",
        "]\n",
        "\n",
        "data = (\n",
        "    ordersADaily.merge(\n",
        "        ordersBDaily, left_on='date', right_on='date', how='left'\n",
        "    )\n",
        "    .merge(ordersACummulative, left_on='date', right_on='date', how='left')\n",
        "    .merge(ordersBCummulative, left_on='date', right_on='date', how='left')\n",
        "    .merge(visitorsADaily, left_on='date', right_on='date', how='left')\n",
        "    .merge(visitorsBDaily, left_on='date', right_on='date', how='left')\n",
        "    .merge(visitorsACummulative, left_on='date', right_on='date', how='left')\n",
        "    .merge(visitorsBCummulative, left_on='date', right_on='date', how='left')\n",
        ")\n",
        "\n",
        "print(data.head(5))"
      ]
    },
    {
      "cell_type": "markdown",
      "metadata": {
        "id": "fcYInXSLrucA"
      },
      "source": [
        "Получилась следующая таблица:\n",
        "* date — дата;\n",
        "* ordersPerDateA — количество заказов в выбранную дату в группе A;\n",
        "* revenuePerDateA — суммарная выручка в выбранную дату в группе A;\n",
        "* ordersPerDateB — количество заказов в выбранную дату в группе B;\n",
        "* revenuePerDateB — суммарная выручка в выбранную дату в группе B;\n",
        "* ordersCummulativeA — суммарное число заказов до выбранной даты включительно в группе A;\n",
        "* revenueCummulativeA — суммарная выручка до выбранной даты включительно в группе A;\n",
        "* ordersCummulativeB — суммарное количество заказов до выбранной даты включительно в группе B;\n",
        "* revenueCummulativeB — суммарная выручка до выбранной даты включительно в группе B;\n",
        "* visitorsPerDateA — количество пользователей в выбранную дату в группе A;\n",
        "* visitorsPerDateB — количество пользователей в выбранную дату в группе B;\n",
        "* visitorsCummulativeA — количество пользователей до выбранной даты включительно в группе A;\n",
        "* visitorsCummulativeB — количество пользователей до выбранной даты включительно в группе B."
      ]
    },
    {
      "cell_type": "markdown",
      "metadata": {
        "id": "ZAs_JxOfrucA"
      },
      "source": [
        "Создадим переменные ordersByUsersA и ordersByUsersB со столбцами ['userId', 'orders']. В них для пользователей, которые заказывали хотя бы 1 раз, укажем число совершённых заказов."
      ]
    },
    {
      "cell_type": "code",
      "execution_count": null,
      "metadata": {
        "id": "KS6swZoyrucA"
      },
      "outputs": [],
      "source": [
        "ordersByUsersA = (\n",
        "    orders[orders['group'] == 'A']\n",
        "    .groupby('visitor_id', as_index=False)\n",
        "    .agg({'transaction_id': pd.Series.nunique})\n",
        ")\n",
        "ordersByUsersA.columns = ['user_id', 'orders']\n",
        "\n",
        "ordersByUsersB = (\n",
        "    orders[orders['group'] == 'B']\n",
        "    .groupby('visitor_id', as_index=False)\n",
        "    .agg({'transaction_id': pd.Series.nunique})\n",
        ")\n",
        "ordersByUsersB.columns = ['user_id', 'orders']"
      ]
    },
    {
      "cell_type": "markdown",
      "metadata": {
        "id": "6QfL4BhhrucA"
      },
      "source": [
        "Объявим переменные sampleA и sampleB, в которых пользователям из разных групп будет соответствовать количество заказов. Тем, кто ничего не заказал, будут соответствовать нули. Это нужно, чтобы подготовить выборки к проверке критерием Манна-Уитни."
      ]
    },
    {
      "cell_type": "code",
      "execution_count": null,
      "metadata": {
        "id": "yOGubWa4rucB"
      },
      "outputs": [],
      "source": [
        "sampleA = pd.concat([ordersByUsersA['orders'],pd.Series(0, index=np.arange(data['visitorsPerDateA'].sum() - len(ordersByUsersA['orders'])), name='orders')],axis=0)\n",
        "\n",
        "sampleB = pd.concat([ordersByUsersB['orders'],pd.Series(0, index=np.arange(data['visitorsPerDateB'].sum() - len(ordersByUsersB['orders'])), name='orders')],axis=0)"
      ]
    },
    {
      "cell_type": "markdown",
      "metadata": {
        "id": "qgzBWSLarucB"
      },
      "source": [
        "Зададим функцию для проверки гипотезы о равенстве групп А и В. Зададим уровень значимости alpha равный 0.05, применим критерий Манна-Уитни, выведем относительный прирост среднего числа заказов группы B: среднее число заказов группы B / среднее число заказов группы A - 1.\n",
        "\n",
        "Посчитаем статистическую значимость различий в конверсии между группами по «сырым» данным — без удаления аномальных пользователей.\n",
        "\n",
        "Введем основную и альтернативные гипотезы:\n",
        "\n",
        "* Н0: различий в конверсии междугруппами нет\n",
        "* Н1: различия в конверсии между группами есть\n",
        "\n"
      ]
    },
    {
      "cell_type": "code",
      "execution_count": null,
      "metadata": {
        "id": "0SqWrPRHrucB"
      },
      "outputs": [],
      "source": [
        "def significance(dataA, dataB):\n",
        "    alpha = 0.05\n",
        "    p_value = stats.mannwhitneyu(dataA, dataB)[1]\n",
        "    print(\"P-value: {0:.3f}\".format(p_value))\n",
        "\n",
        "    if (p_value < alpha):\n",
        "        print(\"Отвергаем нулевую гипотезу: между группами есть различие\")\n",
        "    else:\n",
        "        print(\"Не получилось отвергнуть нулевую гипотезу, между группами нет различий\")\n",
        "\n",
        "    print(\"Относительный прирост В к А: {0:.3%}\".format(dataB.mean() / dataA.mean()-1))"
      ]
    },
    {
      "cell_type": "code",
      "execution_count": null,
      "metadata": {
        "id": "AjCTDf92rucB",
        "outputId": "62695685-48c1-4c75-a8bb-a706bef86cb2"
      },
      "outputs": [
        {
          "name": "stdout",
          "output_type": "stream",
          "text": [
            "P-value: 0.011\n",
            "Отвергаем нулевую гипотезу: между группами есть различие\n",
            "Относительный прирост В к А: 15.980%\n"
          ]
        }
      ],
      "source": [
        "significance(sampleA, sampleB)"
      ]
    },
    {
      "cell_type": "markdown",
      "metadata": {
        "id": "7hkG1HJ-rucB"
      },
      "source": [
        "По \"сырым\" данным различия в конверсии между группами есть.\n",
        "P-value = 0.017 меньше 0.05. Значит, нулевую гипотезу о том, что статистически значимых различий в конверсии между группами нет, отвергаем. Относительный прирост группы B к А равен 13.81%."
      ]
    },
    {
      "cell_type": "markdown",
      "metadata": {
        "id": "24qK6dnjrucC"
      },
      "source": [
        "### статистическая значимость различий в среднем чеке заказа между группами по «сырым» данным"
      ]
    },
    {
      "cell_type": "markdown",
      "metadata": {
        "id": "kjWxcgO6rucC"
      },
      "source": [
        "Чтобы рассчитать статистическую значимость различий в среднем чеке, передадим критерию mannwhitneyu() данные о выручке с заказов.\n",
        "Найдём относительные различия в среднем чеке между группами.\n",
        "\n",
        "Введем основную и альтернативные гипотезы:\n",
        "* H0: Различий в среднем чеке между группа нет\n",
        "* H1: Различия в среднем чеке между группами есть"
      ]
    },
    {
      "cell_type": "code",
      "execution_count": null,
      "metadata": {
        "id": "CA15H58ZrucC",
        "outputId": "26a34c47-1f90-4672-c358-849427e4c9ca"
      },
      "outputs": [
        {
          "name": "stdout",
          "output_type": "stream",
          "text": [
            "P-value: 0.829\n",
            "Не получилось отвергнуть нулевую гипотезу, между группами нет различий\n",
            "Относительный прирост В к А: 28.660%\n"
          ]
        }
      ],
      "source": [
        "significance(orders[orders['group']=='A']['revenue'], orders[orders['group']=='B']['revenue'])"
      ]
    },
    {
      "cell_type": "markdown",
      "metadata": {
        "id": "urIxb1C5rucC"
      },
      "source": [
        "По \"сырым\" данным различия в среднем чеке заказа между группами нет. P-value = 0.365, значительно больше 0.05. Значит, нулевую гипотезу о том, что статистически значимых различий в среднем чеке заказа между группами есть, мы принимаем. Тем не менее относительный прирост группы B к А равен 25.871%, в данном случае наблюдаемое различие не является статистическим значимым."
      ]
    },
    {
      "cell_type": "markdown",
      "metadata": {
        "id": "AczWLC7DrucC"
      },
      "source": [
        "### статистическая значимость различий в среднем количестве заказов на посетителя между группами по «очищенным» данным."
      ]
    },
    {
      "cell_type": "markdown",
      "metadata": {
        "id": "21UgoIIErucC"
      },
      "source": [
        "За аномальных пользователей возьмем тех, кто совершил от 4 заказов или совершил заказ дороже 58233. Так как мы брали значения 99% перцентиля, то в общей сложности мы удалим 2% аномалий (при норме до 5%). Сделаем срезы пользователей с числом заказов больше 4 — usersWithManyOrders и пользователей, совершивших заказы дороже 58233 — usersWithExpensiveOrders. Объединим их в таблице abnormalUsers.\n",
        "Узнаем, сколько всего аномальных пользователей атрибутом shape."
      ]
    },
    {
      "cell_type": "code",
      "execution_count": null,
      "metadata": {
        "id": "kaTospuirucC",
        "outputId": "7225d406-2f33-49cb-b384-e917099d9def"
      },
      "outputs": [
        {
          "name": "stdout",
          "output_type": "stream",
          "text": [
            "1099    148427295\n",
            "33      249864742\n",
            "58      611059232\n",
            "949     887908475\n",
            "744     888512513\n",
            "dtype: int64\n",
            "16\n"
          ]
        }
      ],
      "source": [
        "usersWithManyOrders = pd.concat(\n",
        "    [\n",
        "        ordersByUsersA[ordersByUsersA['orders'] > 2]['user_id'],\n",
        "        ordersByUsersB[ordersByUsersB['orders'] > 2]['user_id'],\n",
        "    ],\n",
        "    axis=0,\n",
        ")\n",
        "usersWithExpensiveOrders = orders[orders['revenue'] > 53904]['visitor_id']\n",
        "abnormalUsers = (\n",
        "    pd.concat([usersWithManyOrders, usersWithExpensiveOrders], axis=0)\n",
        "    .drop_duplicates()\n",
        "    .sort_values()\n",
        ")\n",
        "print(abnormalUsers.head(5))\n",
        "print(abnormalUsers.shape[0])"
      ]
    },
    {
      "cell_type": "markdown",
      "metadata": {
        "id": "8j2f6kukrucD"
      },
      "source": [
        "Всего 16 аномальных пользователей.\n",
        "\n",
        "Узнаем, как их действия повлияли на результаты теста. Посчитаем статистическую значимость различий в среднем количестве заказов между группами теста по очищенным данным. Подготовим выборки количества заказов по пользователям по группам теста."
      ]
    },
    {
      "cell_type": "code",
      "execution_count": null,
      "metadata": {
        "id": "rqsQ0nBorucD"
      },
      "outputs": [],
      "source": [
        "sampleAFiltered = pd.concat(\n",
        "    [\n",
        "        ordersByUsersA[\n",
        "            np.logical_not(ordersByUsersA['user_id'].isin(abnormalUsers))\n",
        "        ]['orders'],\n",
        "        pd.Series(\n",
        "            0,\n",
        "            index=np.arange(\n",
        "                data['visitorsPerDateA'].sum() - len(ordersByUsersA['orders'])\n",
        "            ),\n",
        "            name='orders',\n",
        "        ),\n",
        "    ],\n",
        "    axis=0,\n",
        ")\n",
        "\n",
        "sampleBFiltered = pd.concat(\n",
        "    [\n",
        "        ordersByUsersB[\n",
        "            np.logical_not(ordersByUsersB['user_id'].isin(abnormalUsers))\n",
        "        ]['orders'],\n",
        "        pd.Series(\n",
        "            0,\n",
        "            index=np.arange(\n",
        "                data['visitorsPerDateB'].sum() - len(ordersByUsersB['orders'])\n",
        "            ),\n",
        "            name='orders',\n",
        "        ),\n",
        "    ],\n",
        "    axis=0,\n",
        ")"
      ]
    },
    {
      "cell_type": "code",
      "execution_count": null,
      "metadata": {
        "id": "xgnIzEyIrucD",
        "outputId": "ccbd975a-07ae-49fe-80d8-64afd9226536"
      },
      "outputs": [
        {
          "name": "stdout",
          "output_type": "stream",
          "text": [
            "P-value: 0.007\n",
            "Отвергаем нулевую гипотезу: между группами есть различие\n",
            "Относительный прирост В к А: 18.921%\n"
          ]
        }
      ],
      "source": [
        "significance(sampleAFiltered, sampleBFiltered)"
      ]
    },
    {
      "cell_type": "markdown",
      "metadata": {
        "id": "WrEXKHUkrucD"
      },
      "source": [
        "По результатам теста мы отвергаем нулевую гипотезу. Результаты по среднему количеству заказов практически не изменились. Относительный прирост конверсии группы В относительно группы А составил 18.921%."
      ]
    },
    {
      "cell_type": "markdown",
      "metadata": {
        "id": "zto6KELmrucE"
      },
      "source": [
        "### статистическая значимость различий в среднем чеке заказа между группами по «очищенным» данным"
      ]
    },
    {
      "cell_type": "code",
      "execution_count": null,
      "metadata": {
        "id": "l3hrA2oerucE",
        "outputId": "4e89a1f5-bd18-400b-e367-41690c17cb95"
      },
      "outputs": [
        {
          "name": "stdout",
          "output_type": "stream",
          "text": [
            "P-value: 0.788\n",
            "Не получилось отвергнуть нулевую гипотезу, между группами нет различий\n",
            "Относительный прирост В к А: -3.234%\n"
          ]
        }
      ],
      "source": [
        "significance(\n",
        "    orders[(orders['group']=='A') & np.logical_not(orders['visitor_id'].isin(abnormalUsers))]['revenue'],\n",
        "    orders[(orders['group']=='B') & np.logical_not(orders['visitor_id'].isin(abnormalUsers))]['revenue'])"
      ]
    },
    {
      "cell_type": "markdown",
      "metadata": {
        "id": "nGo2T6FHrucE"
      },
      "source": [
        "P-value значительно больше 0.05. Причин отвергать нулевую гипотезу и считать, что в среднем чеке есть различия, нет. По разнице средних чеков групп различий практически нет."
      ]
    },
    {
      "cell_type": "markdown",
      "metadata": {
        "id": "zPSpcJV3rucE"
      },
      "source": [
        "## Вывод:"
      ]
    },
    {
      "cell_type": "markdown",
      "metadata": {
        "id": "lgnLGuxvrucE"
      },
      "source": [
        "По результатам анализа было принято решение - остановить тест, зафиксировать победу одной из групп, а именно победу группы В.\n",
        "\n",
        "* есть статистически значимое различие по конверсии между группами по «сырым» и «очищенным» данным после фильтрации аномалий. Конверсия группы В выше, чем в А, на 14-15%;\n",
        "\n",
        "* нет статистически значимого различия по среднему чеку между группами по «сырым» и «очищенным» данным после фильтрации аномалий. При этом средний чек группы В выше (на \"очищенных\" данных - на 2%);\n",
        "\n",
        "* график относительного изменения кумулятивной конверсии группы B к группе A показывает, что результаты группы В стабильны и превышают группу А."
      ]
    }
  ],
  "metadata": {
    "ExecuteTimeLog": [
      {
        "duration": 1376,
        "start_time": "2023-05-18T15:07:10.480Z"
      },
      {
        "duration": 282,
        "start_time": "2023-05-18T15:07:11.860Z"
      },
      {
        "duration": 4,
        "start_time": "2023-05-18T15:07:12.144Z"
      },
      {
        "duration": 53,
        "start_time": "2023-05-18T15:07:12.150Z"
      },
      {
        "duration": 59,
        "start_time": "2023-05-18T15:07:12.206Z"
      },
      {
        "duration": 25,
        "start_time": "2023-05-18T15:07:12.267Z"
      },
      {
        "duration": 29,
        "start_time": "2023-05-18T15:07:12.294Z"
      },
      {
        "duration": 38,
        "start_time": "2023-05-18T15:07:12.325Z"
      },
      {
        "duration": 27,
        "start_time": "2023-05-18T15:07:12.365Z"
      },
      {
        "duration": 44,
        "start_time": "2023-05-18T15:07:12.397Z"
      },
      {
        "duration": 57,
        "start_time": "2023-05-18T15:07:12.444Z"
      },
      {
        "duration": 102,
        "start_time": "2023-05-18T15:07:12.504Z"
      },
      {
        "duration": 224,
        "start_time": "2023-05-18T15:07:12.609Z"
      },
      {
        "duration": 155,
        "start_time": "2023-05-18T15:07:12.837Z"
      },
      {
        "duration": 20,
        "start_time": "2023-05-18T15:07:12.994Z"
      },
      {
        "duration": 325,
        "start_time": "2023-05-18T15:07:13.016Z"
      },
      {
        "duration": 213,
        "start_time": "2023-05-18T15:07:13.347Z"
      },
      {
        "duration": 409,
        "start_time": "2023-05-18T15:07:13.563Z"
      },
      {
        "duration": 234,
        "start_time": "2023-05-18T15:07:13.974Z"
      },
      {
        "duration": 354,
        "start_time": "2023-05-18T15:07:14.210Z"
      },
      {
        "duration": 13,
        "start_time": "2023-05-18T15:07:14.566Z"
      },
      {
        "duration": 151,
        "start_time": "2023-05-18T15:07:14.581Z"
      },
      {
        "duration": 14,
        "start_time": "2023-05-18T15:07:14.734Z"
      },
      {
        "duration": 18,
        "start_time": "2023-05-18T15:07:14.750Z"
      },
      {
        "duration": 176,
        "start_time": "2023-05-18T15:07:14.770Z"
      },
      {
        "duration": 168,
        "start_time": "2023-05-18T15:07:14.948Z"
      },
      {
        "duration": 5,
        "start_time": "2023-05-18T15:07:15.118Z"
      },
      {
        "duration": 333,
        "start_time": "2023-05-18T15:07:15.125Z"
      },
      {
        "duration": 163,
        "start_time": "2023-05-18T15:07:15.460Z"
      },
      {
        "duration": 21,
        "start_time": "2023-05-18T15:07:15.625Z"
      },
      {
        "duration": 4,
        "start_time": "2023-05-18T15:07:15.647Z"
      },
      {
        "duration": 35,
        "start_time": "2023-05-18T15:07:15.653Z"
      },
      {
        "duration": 8,
        "start_time": "2023-05-18T15:07:15.690Z"
      },
      {
        "duration": 13,
        "start_time": "2023-05-18T15:07:15.700Z"
      },
      {
        "duration": 46,
        "start_time": "2023-05-18T15:07:15.715Z"
      },
      {
        "duration": 33,
        "start_time": "2023-05-18T15:07:15.764Z"
      },
      {
        "duration": 10,
        "start_time": "2023-05-18T15:07:15.799Z"
      },
      {
        "duration": 54,
        "start_time": "2023-05-19T06:58:29.419Z"
      },
      {
        "duration": 66,
        "start_time": "2023-05-19T07:09:42.018Z"
      },
      {
        "duration": 1523,
        "start_time": "2023-05-19T07:09:52.607Z"
      },
      {
        "duration": 520,
        "start_time": "2023-05-19T07:09:54.135Z"
      },
      {
        "duration": 8,
        "start_time": "2023-05-19T07:09:54.658Z"
      },
      {
        "duration": 49,
        "start_time": "2023-05-19T07:09:54.669Z"
      },
      {
        "duration": 27,
        "start_time": "2023-05-19T07:09:54.721Z"
      },
      {
        "duration": 43,
        "start_time": "2023-05-19T07:09:54.749Z"
      },
      {
        "duration": 9,
        "start_time": "2023-05-19T07:09:54.795Z"
      },
      {
        "duration": 21,
        "start_time": "2023-05-19T07:09:54.807Z"
      },
      {
        "duration": 13,
        "start_time": "2023-05-19T07:09:54.830Z"
      },
      {
        "duration": 39,
        "start_time": "2023-05-19T07:09:54.845Z"
      },
      {
        "duration": 17,
        "start_time": "2023-05-19T07:09:54.887Z"
      },
      {
        "duration": 22,
        "start_time": "2023-05-19T07:09:54.906Z"
      },
      {
        "duration": 22,
        "start_time": "2023-05-19T07:09:54.931Z"
      },
      {
        "duration": 253,
        "start_time": "2023-05-19T07:09:54.962Z"
      },
      {
        "duration": 188,
        "start_time": "2023-05-19T07:09:55.217Z"
      },
      {
        "duration": 13,
        "start_time": "2023-05-19T07:09:55.407Z"
      },
      {
        "duration": 389,
        "start_time": "2023-05-19T07:09:55.422Z"
      },
      {
        "duration": 261,
        "start_time": "2023-05-19T07:09:55.813Z"
      },
      {
        "duration": 348,
        "start_time": "2023-05-19T07:09:56.077Z"
      },
      {
        "duration": 308,
        "start_time": "2023-05-19T07:09:56.427Z"
      },
      {
        "duration": 413,
        "start_time": "2023-05-19T07:09:56.737Z"
      },
      {
        "duration": 17,
        "start_time": "2023-05-19T07:09:57.152Z"
      },
      {
        "duration": 182,
        "start_time": "2023-05-19T07:09:57.171Z"
      },
      {
        "duration": 34,
        "start_time": "2023-05-19T07:09:57.355Z"
      },
      {
        "duration": 28,
        "start_time": "2023-05-19T07:09:57.391Z"
      },
      {
        "duration": 215,
        "start_time": "2023-05-19T07:09:57.421Z"
      },
      {
        "duration": 190,
        "start_time": "2023-05-19T07:09:57.638Z"
      },
      {
        "duration": 7,
        "start_time": "2023-05-19T07:09:57.831Z"
      },
      {
        "duration": 386,
        "start_time": "2023-05-19T07:09:57.840Z"
      },
      {
        "duration": 185,
        "start_time": "2023-05-19T07:09:58.228Z"
      },
      {
        "duration": 8,
        "start_time": "2023-05-19T07:09:58.415Z"
      },
      {
        "duration": 11,
        "start_time": "2023-05-19T07:09:58.425Z"
      },
      {
        "duration": 53,
        "start_time": "2023-05-19T07:09:58.438Z"
      },
      {
        "duration": 10,
        "start_time": "2023-05-19T07:09:58.493Z"
      },
      {
        "duration": 10,
        "start_time": "2023-05-19T07:09:58.505Z"
      },
      {
        "duration": 22,
        "start_time": "2023-05-19T07:09:58.516Z"
      },
      {
        "duration": 50,
        "start_time": "2023-05-19T07:09:58.540Z"
      },
      {
        "duration": 10,
        "start_time": "2023-05-19T07:09:58.592Z"
      },
      {
        "duration": 12,
        "start_time": "2023-05-19T07:10:22.984Z"
      },
      {
        "duration": 18,
        "start_time": "2023-05-19T07:10:42.203Z"
      },
      {
        "duration": 15,
        "start_time": "2023-05-19T07:10:53.086Z"
      },
      {
        "duration": 120,
        "start_time": "2023-05-19T07:11:04.988Z"
      },
      {
        "duration": 54,
        "start_time": "2023-05-19T07:11:41.498Z"
      },
      {
        "duration": 47,
        "start_time": "2023-05-19T07:11:50.507Z"
      },
      {
        "duration": 76,
        "start_time": "2023-05-19T07:20:32.648Z"
      },
      {
        "duration": 53,
        "start_time": "2023-05-19T07:20:38.502Z"
      },
      {
        "duration": 9,
        "start_time": "2023-05-19T07:20:45.190Z"
      },
      {
        "duration": 1189,
        "start_time": "2023-05-19T07:23:09.089Z"
      },
      {
        "duration": 132,
        "start_time": "2023-05-19T07:23:10.288Z"
      },
      {
        "duration": 3,
        "start_time": "2023-05-19T07:23:10.421Z"
      },
      {
        "duration": 44,
        "start_time": "2023-05-19T07:23:10.426Z"
      },
      {
        "duration": 28,
        "start_time": "2023-05-19T07:23:10.472Z"
      },
      {
        "duration": 41,
        "start_time": "2023-05-19T07:23:10.502Z"
      },
      {
        "duration": 33,
        "start_time": "2023-05-19T07:23:10.545Z"
      },
      {
        "duration": 19,
        "start_time": "2023-05-19T07:23:10.580Z"
      },
      {
        "duration": 16,
        "start_time": "2023-05-19T07:23:10.601Z"
      },
      {
        "duration": 14,
        "start_time": "2023-05-19T07:23:10.619Z"
      },
      {
        "duration": 12,
        "start_time": "2023-05-19T07:23:10.635Z"
      },
      {
        "duration": 23,
        "start_time": "2023-05-19T07:23:10.666Z"
      },
      {
        "duration": 24,
        "start_time": "2023-05-19T07:23:10.691Z"
      },
      {
        "duration": 201,
        "start_time": "2023-05-19T07:23:10.720Z"
      },
      {
        "duration": 190,
        "start_time": "2023-05-19T07:23:10.922Z"
      },
      {
        "duration": 13,
        "start_time": "2023-05-19T07:23:11.113Z"
      },
      {
        "duration": 374,
        "start_time": "2023-05-19T07:23:11.127Z"
      },
      {
        "duration": 217,
        "start_time": "2023-05-19T07:23:11.503Z"
      },
      {
        "duration": 331,
        "start_time": "2023-05-19T07:23:11.722Z"
      },
      {
        "duration": 253,
        "start_time": "2023-05-19T07:23:12.058Z"
      },
      {
        "duration": 393,
        "start_time": "2023-05-19T07:23:12.313Z"
      },
      {
        "duration": 12,
        "start_time": "2023-05-19T07:23:12.708Z"
      },
      {
        "duration": 178,
        "start_time": "2023-05-19T07:23:12.722Z"
      },
      {
        "duration": 6,
        "start_time": "2023-05-19T07:23:12.902Z"
      },
      {
        "duration": 13,
        "start_time": "2023-05-19T07:23:12.910Z"
      },
      {
        "duration": 190,
        "start_time": "2023-05-19T07:23:12.925Z"
      },
      {
        "duration": 177,
        "start_time": "2023-05-19T07:23:13.117Z"
      },
      {
        "duration": 7,
        "start_time": "2023-05-19T07:23:13.296Z"
      },
      {
        "duration": 339,
        "start_time": "2023-05-19T07:23:13.305Z"
      },
      {
        "duration": 184,
        "start_time": "2023-05-19T07:23:13.646Z"
      },
      {
        "duration": 7,
        "start_time": "2023-05-19T07:23:13.831Z"
      },
      {
        "duration": 54,
        "start_time": "2023-05-19T07:23:13.839Z"
      },
      {
        "duration": 47,
        "start_time": "2023-05-19T07:23:13.902Z"
      },
      {
        "duration": 29,
        "start_time": "2023-05-19T07:23:13.953Z"
      },
      {
        "duration": 21,
        "start_time": "2023-05-19T07:23:13.985Z"
      },
      {
        "duration": 23,
        "start_time": "2023-05-19T07:23:14.009Z"
      },
      {
        "duration": 29,
        "start_time": "2023-05-19T07:23:14.034Z"
      },
      {
        "duration": 12,
        "start_time": "2023-05-19T07:23:14.065Z"
      },
      {
        "duration": 854,
        "start_time": "2023-05-19T08:54:59.426Z"
      },
      {
        "duration": 4,
        "start_time": "2023-05-19T08:55:09.566Z"
      },
      {
        "duration": 6,
        "start_time": "2023-05-19T08:55:25.915Z"
      },
      {
        "duration": 9,
        "start_time": "2023-05-19T08:55:38.464Z"
      },
      {
        "duration": 222,
        "start_time": "2023-05-19T08:57:43.357Z"
      },
      {
        "duration": 208,
        "start_time": "2023-05-19T08:57:51.234Z"
      },
      {
        "duration": 298,
        "start_time": "2023-05-19T08:58:33.387Z"
      },
      {
        "duration": 331,
        "start_time": "2023-05-19T08:58:44.394Z"
      },
      {
        "duration": 243,
        "start_time": "2023-05-19T08:58:51.314Z"
      },
      {
        "duration": 197,
        "start_time": "2023-05-19T08:59:06.242Z"
      },
      {
        "duration": 198,
        "start_time": "2023-05-19T08:59:53.094Z"
      },
      {
        "duration": 346,
        "start_time": "2023-05-19T09:00:31.554Z"
      },
      {
        "duration": 259,
        "start_time": "2023-05-19T09:01:16.015Z"
      },
      {
        "duration": 381,
        "start_time": "2023-05-19T09:01:55.742Z"
      },
      {
        "duration": 5,
        "start_time": "2023-05-19T09:02:26.242Z"
      },
      {
        "duration": 49,
        "start_time": "2023-05-19T09:03:28.345Z"
      },
      {
        "duration": 133,
        "start_time": "2023-05-19T09:04:28.002Z"
      },
      {
        "duration": 136,
        "start_time": "2023-05-19T09:07:04.573Z"
      },
      {
        "duration": 347,
        "start_time": "2023-05-19T09:07:37.012Z"
      },
      {
        "duration": 169,
        "start_time": "2023-05-19T09:07:49.381Z"
      },
      {
        "duration": 5,
        "start_time": "2023-05-19T09:08:02.432Z"
      },
      {
        "duration": 6,
        "start_time": "2023-05-19T09:08:15.820Z"
      },
      {
        "duration": 43,
        "start_time": "2023-05-19T09:08:36.940Z"
      },
      {
        "duration": 1038,
        "start_time": "2023-05-19T09:09:04.089Z"
      },
      {
        "duration": 114,
        "start_time": "2023-05-19T09:09:05.129Z"
      },
      {
        "duration": 3,
        "start_time": "2023-05-19T09:09:05.245Z"
      },
      {
        "duration": 28,
        "start_time": "2023-05-19T09:09:05.249Z"
      },
      {
        "duration": 18,
        "start_time": "2023-05-19T09:09:05.279Z"
      },
      {
        "duration": 23,
        "start_time": "2023-05-19T09:09:05.298Z"
      },
      {
        "duration": 8,
        "start_time": "2023-05-19T09:09:05.323Z"
      },
      {
        "duration": 21,
        "start_time": "2023-05-19T09:09:05.333Z"
      },
      {
        "duration": 13,
        "start_time": "2023-05-19T09:09:05.355Z"
      },
      {
        "duration": 11,
        "start_time": "2023-05-19T09:09:05.370Z"
      },
      {
        "duration": 12,
        "start_time": "2023-05-19T09:09:05.383Z"
      },
      {
        "duration": 12,
        "start_time": "2023-05-19T09:09:05.397Z"
      },
      {
        "duration": 14,
        "start_time": "2023-05-19T09:09:05.410Z"
      },
      {
        "duration": 34,
        "start_time": "2023-05-19T09:09:05.427Z"
      },
      {
        "duration": 18,
        "start_time": "2023-05-19T09:09:05.463Z"
      },
      {
        "duration": 198,
        "start_time": "2023-05-19T09:09:05.483Z"
      },
      {
        "duration": 138,
        "start_time": "2023-05-19T09:09:05.682Z"
      },
      {
        "duration": 14,
        "start_time": "2023-05-19T09:09:05.821Z"
      },
      {
        "duration": 317,
        "start_time": "2023-05-19T09:09:05.837Z"
      },
      {
        "duration": 232,
        "start_time": "2023-05-19T09:09:06.155Z"
      },
      {
        "duration": 285,
        "start_time": "2023-05-19T09:09:06.388Z"
      },
      {
        "duration": 228,
        "start_time": "2023-05-19T09:09:06.674Z"
      },
      {
        "duration": 297,
        "start_time": "2023-05-19T09:09:06.904Z"
      },
      {
        "duration": 11,
        "start_time": "2023-05-19T09:09:07.202Z"
      },
      {
        "duration": 176,
        "start_time": "2023-05-19T09:09:07.215Z"
      },
      {
        "duration": 6,
        "start_time": "2023-05-19T09:09:07.393Z"
      },
      {
        "duration": 17,
        "start_time": "2023-05-19T09:09:07.401Z"
      },
      {
        "duration": 253,
        "start_time": "2023-05-19T09:09:07.420Z"
      },
      {
        "duration": 161,
        "start_time": "2023-05-19T09:09:07.675Z"
      },
      {
        "duration": 5,
        "start_time": "2023-05-19T09:09:07.838Z"
      },
      {
        "duration": 343,
        "start_time": "2023-05-19T09:09:07.845Z"
      },
      {
        "duration": 133,
        "start_time": "2023-05-19T09:09:08.189Z"
      },
      {
        "duration": 6,
        "start_time": "2023-05-19T09:09:08.324Z"
      },
      {
        "duration": 7,
        "start_time": "2023-05-19T09:09:08.331Z"
      },
      {
        "duration": 37,
        "start_time": "2023-05-19T09:09:08.339Z"
      },
      {
        "duration": 8,
        "start_time": "2023-05-19T09:09:08.378Z"
      },
      {
        "duration": 9,
        "start_time": "2023-05-19T09:09:08.388Z"
      },
      {
        "duration": 13,
        "start_time": "2023-05-19T09:09:08.398Z"
      },
      {
        "duration": 46,
        "start_time": "2023-05-19T09:09:08.413Z"
      },
      {
        "duration": 10,
        "start_time": "2023-05-19T09:09:08.461Z"
      },
      {
        "duration": 5,
        "start_time": "2023-05-19T09:09:52.501Z"
      },
      {
        "duration": 5,
        "start_time": "2023-05-19T09:11:33.752Z"
      },
      {
        "duration": 11,
        "start_time": "2023-05-19T09:21:33.694Z"
      },
      {
        "duration": 8,
        "start_time": "2023-05-19T09:22:11.818Z"
      },
      {
        "duration": 19,
        "start_time": "2023-05-19T09:22:14.375Z"
      },
      {
        "duration": 1218,
        "start_time": "2023-05-19T16:02:36.334Z"
      },
      {
        "duration": 530,
        "start_time": "2023-05-19T16:02:37.554Z"
      },
      {
        "duration": 3,
        "start_time": "2023-05-19T16:02:38.086Z"
      },
      {
        "duration": 27,
        "start_time": "2023-05-19T16:02:38.091Z"
      },
      {
        "duration": 22,
        "start_time": "2023-05-19T16:02:38.120Z"
      },
      {
        "duration": 18,
        "start_time": "2023-05-19T16:02:38.145Z"
      },
      {
        "duration": 11,
        "start_time": "2023-05-19T16:02:38.165Z"
      },
      {
        "duration": 7,
        "start_time": "2023-05-19T16:02:38.178Z"
      },
      {
        "duration": 14,
        "start_time": "2023-05-19T16:02:38.187Z"
      },
      {
        "duration": 28,
        "start_time": "2023-05-19T16:02:38.204Z"
      },
      {
        "duration": 15,
        "start_time": "2023-05-19T16:02:38.234Z"
      },
      {
        "duration": 13,
        "start_time": "2023-05-19T16:02:38.250Z"
      },
      {
        "duration": 4,
        "start_time": "2023-05-19T16:02:38.265Z"
      },
      {
        "duration": 9,
        "start_time": "2023-05-19T16:02:38.270Z"
      },
      {
        "duration": 9,
        "start_time": "2023-05-19T16:02:38.281Z"
      },
      {
        "duration": 211,
        "start_time": "2023-05-19T16:02:38.292Z"
      },
      {
        "duration": 147,
        "start_time": "2023-05-19T16:02:38.505Z"
      },
      {
        "duration": 12,
        "start_time": "2023-05-19T16:02:38.653Z"
      },
      {
        "duration": 332,
        "start_time": "2023-05-19T16:02:38.666Z"
      },
      {
        "duration": 242,
        "start_time": "2023-05-19T16:02:39.000Z"
      },
      {
        "duration": 318,
        "start_time": "2023-05-19T16:02:39.244Z"
      },
      {
        "duration": 311,
        "start_time": "2023-05-19T16:02:39.563Z"
      },
      {
        "duration": 334,
        "start_time": "2023-05-19T16:02:39.878Z"
      },
      {
        "duration": 19,
        "start_time": "2023-05-19T16:02:40.214Z"
      },
      {
        "duration": 172,
        "start_time": "2023-05-19T16:02:40.235Z"
      },
      {
        "duration": 6,
        "start_time": "2023-05-19T16:02:40.409Z"
      },
      {
        "duration": 18,
        "start_time": "2023-05-19T16:02:40.416Z"
      },
      {
        "duration": 177,
        "start_time": "2023-05-19T16:02:40.439Z"
      },
      {
        "duration": 176,
        "start_time": "2023-05-19T16:02:40.617Z"
      },
      {
        "duration": 5,
        "start_time": "2023-05-19T16:02:40.795Z"
      },
      {
        "duration": 334,
        "start_time": "2023-05-19T16:02:40.802Z"
      },
      {
        "duration": 152,
        "start_time": "2023-05-19T16:02:41.138Z"
      },
      {
        "duration": 6,
        "start_time": "2023-05-19T16:02:41.292Z"
      },
      {
        "duration": 4,
        "start_time": "2023-05-19T16:02:41.299Z"
      },
      {
        "duration": 56,
        "start_time": "2023-05-19T16:02:41.305Z"
      },
      {
        "duration": 10,
        "start_time": "2023-05-19T16:02:41.363Z"
      },
      {
        "duration": 20,
        "start_time": "2023-05-19T16:02:41.374Z"
      },
      {
        "duration": 12,
        "start_time": "2023-05-19T16:02:41.395Z"
      },
      {
        "duration": 38,
        "start_time": "2023-05-19T16:02:41.409Z"
      },
      {
        "duration": 10,
        "start_time": "2023-05-19T16:02:41.449Z"
      },
      {
        "duration": 1395,
        "start_time": "2023-07-03T16:20:02.975Z"
      },
      {
        "duration": 406,
        "start_time": "2023-07-03T16:20:04.372Z"
      },
      {
        "duration": 3,
        "start_time": "2023-07-03T16:20:04.781Z"
      },
      {
        "duration": 49,
        "start_time": "2023-07-03T16:20:04.787Z"
      },
      {
        "duration": 47,
        "start_time": "2023-07-03T16:20:04.838Z"
      },
      {
        "duration": 29,
        "start_time": "2023-07-03T16:20:04.887Z"
      },
      {
        "duration": 54,
        "start_time": "2023-07-03T16:20:04.918Z"
      },
      {
        "duration": 27,
        "start_time": "2023-07-03T16:20:04.974Z"
      },
      {
        "duration": 74,
        "start_time": "2023-07-03T16:20:05.004Z"
      },
      {
        "duration": 69,
        "start_time": "2023-07-03T16:20:05.081Z"
      },
      {
        "duration": 57,
        "start_time": "2023-07-03T16:20:05.152Z"
      },
      {
        "duration": 85,
        "start_time": "2023-07-03T16:20:05.211Z"
      },
      {
        "duration": 72,
        "start_time": "2023-07-03T16:20:05.298Z"
      },
      {
        "duration": 43,
        "start_time": "2023-07-03T16:20:05.372Z"
      },
      {
        "duration": 14,
        "start_time": "2023-07-03T16:20:05.418Z"
      },
      {
        "duration": 237,
        "start_time": "2023-07-03T16:20:05.434Z"
      },
      {
        "duration": 158,
        "start_time": "2023-07-03T16:20:05.673Z"
      },
      {
        "duration": 40,
        "start_time": "2023-07-03T16:20:05.833Z"
      },
      {
        "duration": 332,
        "start_time": "2023-07-03T16:20:05.874Z"
      },
      {
        "duration": 249,
        "start_time": "2023-07-03T16:20:06.208Z"
      },
      {
        "duration": 331,
        "start_time": "2023-07-03T16:20:06.467Z"
      },
      {
        "duration": 260,
        "start_time": "2023-07-03T16:20:06.800Z"
      },
      {
        "duration": 348,
        "start_time": "2023-07-03T16:20:07.064Z"
      },
      {
        "duration": 12,
        "start_time": "2023-07-03T16:20:07.413Z"
      },
      {
        "duration": 185,
        "start_time": "2023-07-03T16:20:07.427Z"
      },
      {
        "duration": 5,
        "start_time": "2023-07-03T16:20:07.614Z"
      },
      {
        "duration": 18,
        "start_time": "2023-07-03T16:20:07.621Z"
      },
      {
        "duration": 202,
        "start_time": "2023-07-03T16:20:07.643Z"
      },
      {
        "duration": 192,
        "start_time": "2023-07-03T16:20:07.847Z"
      },
      {
        "duration": 16,
        "start_time": "2023-07-03T16:20:08.041Z"
      },
      {
        "duration": 364,
        "start_time": "2023-07-03T16:20:08.059Z"
      },
      {
        "duration": 166,
        "start_time": "2023-07-03T16:20:08.426Z"
      },
      {
        "duration": 7,
        "start_time": "2023-07-03T16:20:08.594Z"
      },
      {
        "duration": 5,
        "start_time": "2023-07-03T16:20:08.603Z"
      },
      {
        "duration": 37,
        "start_time": "2023-07-03T16:20:08.609Z"
      },
      {
        "duration": 19,
        "start_time": "2023-07-03T16:20:08.648Z"
      },
      {
        "duration": 14,
        "start_time": "2023-07-03T16:20:08.670Z"
      },
      {
        "duration": 10,
        "start_time": "2023-07-03T16:20:08.686Z"
      },
      {
        "duration": 36,
        "start_time": "2023-07-03T16:20:08.697Z"
      },
      {
        "duration": 30,
        "start_time": "2023-07-03T16:20:08.734Z"
      },
      {
        "duration": 8,
        "start_time": "2023-07-03T16:20:29.146Z"
      },
      {
        "duration": 13,
        "start_time": "2023-07-03T16:20:52.244Z"
      }
    ],
    "kernelspec": {
      "display_name": "Python 3 (ipykernel)",
      "language": "python",
      "name": "python3"
    },
    "language_info": {
      "codemirror_mode": {
        "name": "ipython",
        "version": 3
      },
      "file_extension": ".py",
      "mimetype": "text/x-python",
      "name": "python",
      "nbconvert_exporter": "python",
      "pygments_lexer": "ipython3",
      "version": "3.9.5"
    },
    "toc": {
      "base_numbering": 1,
      "nav_menu": {},
      "number_sections": true,
      "sideBar": true,
      "skip_h1_title": true,
      "title_cell": "Table of Contents",
      "title_sidebar": "Contents",
      "toc_cell": false,
      "toc_position": {
        "height": "calc(100% - 180px)",
        "left": "10px",
        "top": "150px",
        "width": "297.938px"
      },
      "toc_section_display": true,
      "toc_window_display": true
    },
    "colab": {
      "provenance": []
    }
  },
  "nbformat": 4,
  "nbformat_minor": 0
}