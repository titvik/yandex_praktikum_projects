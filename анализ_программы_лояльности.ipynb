{
  "cells": [
    {
      "cell_type": "markdown",
      "metadata": {
        "id": "1Y8NEUBPvNHm"
      },
      "source": [
        "# Ритейл - Анализ программы лояльности"
      ]
    },
    {
      "cell_type": "markdown",
      "metadata": {
        "id": "Scndsx_kvNHn"
      },
      "source": [
        "## Декомпозиция"
      ]
    },
    {
      "cell_type": "markdown",
      "metadata": {
        "id": "A3e-stS-vNHn"
      },
      "source": [
        "### Заказчик\n",
        "Менеджер проекта \"Программа лояльности\" магазина строительных материалов \"Строили, строили и наконец построили\".\n",
        "\n",
        "### Цель\n",
        "Проанализировать программу лояльности магазина строительных материалов, сделать выводы и рекомендации для заказчика.\n",
        "\n",
        "### Задачи\n",
        "1. Провести исследовательский анализ данных;\n",
        "2. Провести аналих программы лояльности;\n",
        "3. Проверить статистические гипотезы;\n",
        "4. Вывод и рекомендации по результатам исследования;\n",
        "5. Подготовка презентации;\n",
        "6. Построение дашборда.\n",
        "\n",
        "### Описание данных\n",
        "Датасет содержит данные о покупках в магазине строительных материалов «Строили, строили и наконец построили». Все покупатели могут получить доступ в магазин с использованием персональных карт. За 200 рублей в месяц они могут стать участниками программы лояльности. В программу включены скидки, специальные предложения, подарки.\n",
        "\n",
        "Файл retail_dataset.csv:\n",
        "* purchaseId — id чека;\n",
        "* item_ID — id товара;\n",
        "* purchasedate — дата покупки;\n",
        "* Quantity — количество товара;\n",
        "* CustomerID — id покупателя;\n",
        "* ShopID — id магазина;\n",
        "* loyalty_program — участвует ли покупатель в программе лояльности.\n",
        "\n",
        "Файл product_codes.csv:\n",
        "* productID — id товара;\n",
        "* price_per_one — стоимость одной единицы товара.\n",
        "\n",
        "### Ход исследования\n",
        "\n",
        "**1. Обзор и предобработка данных.**\n",
        "\n",
        "О качестве данных ничего неизвестно. Поэтому перед исследованием и проверкой гипотез понадобится обзор и предобработка данных.\n",
        "\n",
        "Проверим их на наличие ошибок (например, дубликатов), несоответствие типов данных, приведем наименование колонок к единому стилю, оценим влияние пропусков на исследование. Подкорректируем и исправим всё, что критично для нашего исследования.\n",
        "\n",
        "**2. EDA**\n",
        "* Определим общее количество покупок и уникальных покупателей в данных.\n",
        "* Рассчитаем общую сумму продаж.\n",
        "* Рассчитаем долю покупателей, участвующих в программе лояльности.\n",
        "* Рассчитаем среднее количество покупок на одного уникального покупателя, на одного лояльного покупателя.\n",
        "* Исследуем распределение количества товаров в каждой покупке и определите среднее количество товаров в чеке.\n",
        "* Определим наиболее популярные товары и менее популярные и рассмотрим их долю в общем объеме продаж. Построим соотвествующую визуализацию.\n",
        "* Определим наиболее популярные магазины, рассчитаем объем продаж в каждом магазине.\n",
        "* Проанализируем даты покупок и определим популярные дни недели или месяцы для покупок. Построим соотвествующую визуализацию.\n",
        "* Рассмотрим изменение объема продаж с течением времени и выявим возможные тренды или сезонность в данных. Построим соотвествующую визуализацию.\n",
        "\n",
        "**3. Анализ программы лояльности**\n",
        "* Проведём когортный анализ, выделим когорты по типу участия в программе лояльности: группировка участников на основе их участия или неучастия в программе;\n",
        "* Составим профили пользователей;\n",
        "* Рассчитаем две важные для исследования метрики: LTV (Customer Lifetime Value) и RCR (Repeat Customer Rate). Используем LTV для разных когорт участников. Метрикой RCR оценим  эффективность программы в удержании клиентов. Общий анализ LTV и RCR позволит понять, насколько успешно функционирует программа лояльности;\n",
        "* Построим соотвествующие визуализации.\n",
        "\n",
        "**4. Проверка гипотез**\n",
        "\n",
        "Проверим две статистические гипотезы. В качестве уровня значимости alpha примем 0.05 (5%).\n",
        "\n",
        "*Гипотеза 1. Средний чек участников программы лояльности отличается от среднего чека неучастников.*\n",
        "* Нулевая гипотеза (H0): Средний чек участников программы лояльности равен среднему чеку неучастников.\n",
        "* Альтернативная гипотеза (H1): Средний чек участников программы лояльности отличается от среднего чека неучастников.\n",
        "\n",
        "\n",
        "*Гипотеза 2. Количество покупок зависит от участия в программе лояльности.*\n",
        "* Нулевая гипотеза (H0): Количество покупок не зависит от участия в программе лояльности.\n",
        "* Альтернативная гипотеза (H1): Количество покупок зависит от участия в программе лояльности.\n",
        "\n",
        "**5. Выводы и рекомендации**\n",
        "\n",
        "По результатам анализа выявим была ли эффективна программа лояльности клиентов, если нет, то предложим способы повышения эффективности, а если эффективна то порекомендуем какие ещё клиентов стоит подключить к программе в первую очередь.\n"
      ]
    },
    {
      "cell_type": "markdown",
      "metadata": {
        "id": "ettsboRivNHo"
      },
      "source": [
        "## Обзор и предобработка данных"
      ]
    },
    {
      "cell_type": "code",
      "execution_count": null,
      "metadata": {
        "id": "sLMFAh66vNHo"
      },
      "outputs": [],
      "source": [
        "#импортируем библиотеки\n",
        "import pandas as pd\n",
        "import numpy as np\n",
        "import matplotlib as mpl\n",
        "import matplotlib.pyplot as plt\n",
        "import seaborn as sns\n",
        "from scipy import stats as st\n",
        "import datetime as dt\n",
        "import warnings\n",
        "from plotly import graph_objects as go\n",
        "import matplotlib.cm as cm\n",
        "from datetime import datetime, timedelta\n",
        "import warnings\n",
        "from pandas.core.common import SettingWithCopyWarning\n",
        "from scipy.stats import mannwhitneyu\n",
        "from statistics import mode\n",
        "import calendar"
      ]
    },
    {
      "cell_type": "code",
      "execution_count": null,
      "metadata": {
        "id": "TqSpjtuXvNHp"
      },
      "outputs": [],
      "source": [
        "# выставляем ограничение на показ знаков после запятой\n",
        "pd.options.display.float_format = '{:,.3f}'.format"
      ]
    },
    {
      "cell_type": "code",
      "execution_count": null,
      "metadata": {
        "id": "3ng1t5yNvNHp"
      },
      "outputs": [],
      "source": [
        "#выключим уведомление об ошибке\n",
        "warnings.filterwarnings(\"ignore\", category=SettingWithCopyWarning)"
      ]
    },
    {
      "cell_type": "code",
      "execution_count": null,
      "metadata": {
        "id": "ZalkFYqWvNHp"
      },
      "outputs": [],
      "source": [
        "#считываем файлы и импортируем их\n",
        "product_codes = pd.read_csv('https://code.s3.yandex.net/datasets/product_codes.csv')\n",
        "retail = pd.read_csv('https://code.s3.yandex.net/datasets/retail_dataset.csv')"
      ]
    },
    {
      "cell_type": "code",
      "execution_count": null,
      "metadata": {
        "id": "Vpqbzxy0vNHp",
        "outputId": "477c86d5-f09b-49fe-bb23-3de5cd8d2b8a"
      },
      "outputs": [
        {
          "name": "stdout",
          "output_type": "stream",
          "text": [
            "<class 'pandas.core.frame.DataFrame'>\n",
            "RangeIndex: 9969 entries, 0 to 9968\n",
            "Data columns (total 2 columns):\n",
            " #   Column         Non-Null Count  Dtype  \n",
            "---  ------         --------------  -----  \n",
            " 0   productID      9969 non-null   object \n",
            " 1   price_per_one  9969 non-null   float64\n",
            "dtypes: float64(1), object(1)\n",
            "memory usage: 155.9+ KB\n"
          ]
        },
        {
          "data": {
            "text/html": [
              "<div>\n",
              "<style scoped>\n",
              "    .dataframe tbody tr th:only-of-type {\n",
              "        vertical-align: middle;\n",
              "    }\n",
              "\n",
              "    .dataframe tbody tr th {\n",
              "        vertical-align: top;\n",
              "    }\n",
              "\n",
              "    .dataframe thead th {\n",
              "        text-align: right;\n",
              "    }\n",
              "</style>\n",
              "<table border=\"1\" class=\"dataframe\">\n",
              "  <thead>\n",
              "    <tr style=\"text-align: right;\">\n",
              "      <th></th>\n",
              "      <th>productID</th>\n",
              "      <th>price_per_one</th>\n",
              "    </tr>\n",
              "  </thead>\n",
              "  <tbody>\n",
              "    <tr>\n",
              "      <th>561</th>\n",
              "      <td>22500</td>\n",
              "      <td>4.950</td>\n",
              "    </tr>\n",
              "    <tr>\n",
              "      <th>3963</th>\n",
              "      <td>22088</td>\n",
              "      <td>5.910</td>\n",
              "    </tr>\n",
              "    <tr>\n",
              "      <th>8909</th>\n",
              "      <td>85124C</td>\n",
              "      <td>4.960</td>\n",
              "    </tr>\n",
              "    <tr>\n",
              "      <th>9662</th>\n",
              "      <td>22488</td>\n",
              "      <td>1.450</td>\n",
              "    </tr>\n",
              "    <tr>\n",
              "      <th>769</th>\n",
              "      <td>22567</td>\n",
              "      <td>1.250</td>\n",
              "    </tr>\n",
              "    <tr>\n",
              "      <th>6737</th>\n",
              "      <td>22915</td>\n",
              "      <td>4.960</td>\n",
              "    </tr>\n",
              "    <tr>\n",
              "      <th>5313</th>\n",
              "      <td>85031C</td>\n",
              "      <td>4.950</td>\n",
              "    </tr>\n",
              "    <tr>\n",
              "      <th>9658</th>\n",
              "      <td>90026B</td>\n",
              "      <td>8.500</td>\n",
              "    </tr>\n",
              "    <tr>\n",
              "      <th>8224</th>\n",
              "      <td>21316</td>\n",
              "      <td>5.790</td>\n",
              "    </tr>\n",
              "    <tr>\n",
              "      <th>7619</th>\n",
              "      <td>21458</td>\n",
              "      <td>2.460</td>\n",
              "    </tr>\n",
              "  </tbody>\n",
              "</table>\n",
              "</div>"
            ],
            "text/plain": [
              "     productID  price_per_one\n",
              "561      22500          4.950\n",
              "3963     22088          5.910\n",
              "8909    85124C          4.960\n",
              "9662     22488          1.450\n",
              "769      22567          1.250\n",
              "6737     22915          4.960\n",
              "5313    85031C          4.950\n",
              "9658    90026B          8.500\n",
              "8224     21316          5.790\n",
              "7619     21458          2.460"
            ]
          },
          "execution_count": 5,
          "metadata": {},
          "output_type": "execute_result"
        }
      ],
      "source": [
        "product_codes.info()\n",
        "product_codes.sample(10)"
      ]
    },
    {
      "cell_type": "code",
      "execution_count": null,
      "metadata": {
        "scrolled": true,
        "id": "ugYe44brvNHq",
        "outputId": "9e00a4da-9be2-45fb-cfb2-a9b58cf5fbb5"
      },
      "outputs": [
        {
          "name": "stdout",
          "output_type": "stream",
          "text": [
            "<class 'pandas.core.frame.DataFrame'>\n",
            "RangeIndex: 105335 entries, 0 to 105334\n",
            "Data columns (total 7 columns):\n",
            " #   Column           Non-Null Count   Dtype  \n",
            "---  ------           --------------   -----  \n",
            " 0   purchaseid       105335 non-null  object \n",
            " 1   item_ID          105335 non-null  object \n",
            " 2   Quantity         105335 non-null  int64  \n",
            " 3   purchasedate     105335 non-null  object \n",
            " 4   CustomerID       69125 non-null   float64\n",
            " 5   ShopID           105335 non-null  object \n",
            " 6   loyalty_program  105335 non-null  float64\n",
            "dtypes: float64(2), int64(1), object(4)\n",
            "memory usage: 5.6+ MB\n"
          ]
        },
        {
          "data": {
            "text/html": [
              "<div>\n",
              "<style scoped>\n",
              "    .dataframe tbody tr th:only-of-type {\n",
              "        vertical-align: middle;\n",
              "    }\n",
              "\n",
              "    .dataframe tbody tr th {\n",
              "        vertical-align: top;\n",
              "    }\n",
              "\n",
              "    .dataframe thead th {\n",
              "        text-align: right;\n",
              "    }\n",
              "</style>\n",
              "<table border=\"1\" class=\"dataframe\">\n",
              "  <thead>\n",
              "    <tr style=\"text-align: right;\">\n",
              "      <th></th>\n",
              "      <th>purchaseid</th>\n",
              "      <th>item_ID</th>\n",
              "      <th>Quantity</th>\n",
              "      <th>purchasedate</th>\n",
              "      <th>CustomerID</th>\n",
              "      <th>ShopID</th>\n",
              "      <th>loyalty_program</th>\n",
              "    </tr>\n",
              "  </thead>\n",
              "  <tbody>\n",
              "    <tr>\n",
              "      <th>102523</th>\n",
              "      <td>540418</td>\n",
              "      <td>22481</td>\n",
              "      <td>1</td>\n",
              "      <td>2017-01-07 11:04:00</td>\n",
              "      <td>NaN</td>\n",
              "      <td>Shop 0</td>\n",
              "      <td>0.000</td>\n",
              "    </tr>\n",
              "    <tr>\n",
              "      <th>27273</th>\n",
              "      <td>538092</td>\n",
              "      <td>37467</td>\n",
              "      <td>-178</td>\n",
              "      <td>2016-12-09 14:49:00</td>\n",
              "      <td>NaN</td>\n",
              "      <td>Shop 0</td>\n",
              "      <td>0.000</td>\n",
              "    </tr>\n",
              "    <tr>\n",
              "      <th>47052</th>\n",
              "      <td>537434</td>\n",
              "      <td>22262</td>\n",
              "      <td>3</td>\n",
              "      <td>2016-12-06 16:57:00</td>\n",
              "      <td>NaN</td>\n",
              "      <td>Shop 0</td>\n",
              "      <td>0.000</td>\n",
              "    </tr>\n",
              "    <tr>\n",
              "      <th>85801</th>\n",
              "      <td>538715</td>\n",
              "      <td>21485</td>\n",
              "      <td>2</td>\n",
              "      <td>2016-12-14 11:03:00</td>\n",
              "      <td>20,586.000</td>\n",
              "      <td>Shop 0</td>\n",
              "      <td>0.000</td>\n",
              "    </tr>\n",
              "    <tr>\n",
              "      <th>66042</th>\n",
              "      <td>539283</td>\n",
              "      <td>85123A</td>\n",
              "      <td>11</td>\n",
              "      <td>2016-12-16 15:47:00</td>\n",
              "      <td>19,771.000</td>\n",
              "      <td>Shop 0</td>\n",
              "      <td>0.000</td>\n",
              "    </tr>\n",
              "    <tr>\n",
              "      <th>102661</th>\n",
              "      <td>541481</td>\n",
              "      <td>22180</td>\n",
              "      <td>1</td>\n",
              "      <td>2017-01-18 12:09:00</td>\n",
              "      <td>20,375.000</td>\n",
              "      <td>Shop 0</td>\n",
              "      <td>0.000</td>\n",
              "    </tr>\n",
              "    <tr>\n",
              "      <th>7707</th>\n",
              "      <td>541219</td>\n",
              "      <td>22111</td>\n",
              "      <td>1</td>\n",
              "      <td>2017-01-14 14:06:00</td>\n",
              "      <td>NaN</td>\n",
              "      <td>Shop 0</td>\n",
              "      <td>0.000</td>\n",
              "    </tr>\n",
              "    <tr>\n",
              "      <th>45249</th>\n",
              "      <td>537755</td>\n",
              "      <td>21524</td>\n",
              "      <td>9</td>\n",
              "      <td>2016-12-08 11:31:00</td>\n",
              "      <td>22,204.000</td>\n",
              "      <td>Shop 0</td>\n",
              "      <td>1.000</td>\n",
              "    </tr>\n",
              "    <tr>\n",
              "      <th>56175</th>\n",
              "      <td>542646</td>\n",
              "      <td>21563</td>\n",
              "      <td>2</td>\n",
              "      <td>2017-01-31 11:42:00</td>\n",
              "      <td>22,899.000</td>\n",
              "      <td>Shop 0</td>\n",
              "      <td>1.000</td>\n",
              "    </tr>\n",
              "    <tr>\n",
              "      <th>51195</th>\n",
              "      <td>540418</td>\n",
              "      <td>85094</td>\n",
              "      <td>0</td>\n",
              "      <td>2017-01-07 11:04:00</td>\n",
              "      <td>NaN</td>\n",
              "      <td>Shop 0</td>\n",
              "      <td>0.000</td>\n",
              "    </tr>\n",
              "  </tbody>\n",
              "</table>\n",
              "</div>"
            ],
            "text/plain": [
              "       purchaseid item_ID  Quantity         purchasedate  CustomerID  ShopID  \\\n",
              "102523     540418   22481         1  2017-01-07 11:04:00         NaN  Shop 0   \n",
              "27273      538092   37467      -178  2016-12-09 14:49:00         NaN  Shop 0   \n",
              "47052      537434   22262         3  2016-12-06 16:57:00         NaN  Shop 0   \n",
              "85801      538715   21485         2  2016-12-14 11:03:00  20,586.000  Shop 0   \n",
              "66042      539283  85123A        11  2016-12-16 15:47:00  19,771.000  Shop 0   \n",
              "102661     541481   22180         1  2017-01-18 12:09:00  20,375.000  Shop 0   \n",
              "7707       541219   22111         1  2017-01-14 14:06:00         NaN  Shop 0   \n",
              "45249      537755   21524         9  2016-12-08 11:31:00  22,204.000  Shop 0   \n",
              "56175      542646   21563         2  2017-01-31 11:42:00  22,899.000  Shop 0   \n",
              "51195      540418   85094         0  2017-01-07 11:04:00         NaN  Shop 0   \n",
              "\n",
              "        loyalty_program  \n",
              "102523            0.000  \n",
              "27273             0.000  \n",
              "47052             0.000  \n",
              "85801             0.000  \n",
              "66042             0.000  \n",
              "102661            0.000  \n",
              "7707              0.000  \n",
              "45249             1.000  \n",
              "56175             1.000  \n",
              "51195             0.000  "
            ]
          },
          "execution_count": 6,
          "metadata": {},
          "output_type": "execute_result"
        }
      ],
      "source": [
        "retail.info()\n",
        "retail.sample(10)"
      ]
    },
    {
      "cell_type": "markdown",
      "metadata": {
        "id": "q8bMlb0cvNHr"
      },
      "source": [
        "Для начала переименую столбцы в один стиль, столбец purchasedate приведём к дате. Пропуски есть только в CustomerID, но их обрабатывать мы не будем. Пропуски в данном столбце означают, что у покупателя нет карты постоянного клиента, но это всё тот же покупатель. Далее посмотрим на выбросы, если они есть обработаем."
      ]
    },
    {
      "cell_type": "code",
      "execution_count": null,
      "metadata": {
        "id": "NsLL9HDlvNHr",
        "outputId": "2352a14e-43b2-4cf2-ff0d-12215295a455"
      },
      "outputs": [
        {
          "data": {
            "text/plain": [
              "Index(['purchase_id', 'item_id', 'quantity', 'purchase_date', 'customer_id',\n",
              "       'shop_id', 'loyalty_program'],\n",
              "      dtype='object')"
            ]
          },
          "execution_count": 7,
          "metadata": {},
          "output_type": "execute_result"
        }
      ],
      "source": [
        "#переименуем столбцы\n",
        "product_codes.rename(columns={'productID' : 'product_id'}, inplace = True)\n",
        "retail.rename(columns={'purchaseid': 'purchase_id', 'item_ID': 'item_id', 'Quantity': 'quantity', 'purchasedate' : 'purchase_date', 'CustomerID': 'customer_id', 'ShopID': 'shop_id'}, inplace = True)\n",
        "retail.columns"
      ]
    },
    {
      "cell_type": "code",
      "execution_count": null,
      "metadata": {
        "id": "yMNngJqGvNHr"
      },
      "outputs": [],
      "source": [
        "#приведём к необходимым типам\n",
        "retail['purchase_date'] = pd.to_datetime(retail['purchase_date'])"
      ]
    },
    {
      "cell_type": "markdown",
      "metadata": {
        "id": "qajMcJQOvNHr"
      },
      "source": [
        "### product_codes."
      ]
    },
    {
      "cell_type": "code",
      "execution_count": null,
      "metadata": {
        "id": "KgsmhR2svNHr",
        "outputId": "bd6d41b0-336f-4853-a449-c9f2a370bb5e"
      },
      "outputs": [
        {
          "data": {
            "text/plain": [
              "0"
            ]
          },
          "execution_count": 9,
          "metadata": {},
          "output_type": "execute_result"
        }
      ],
      "source": [
        "#проверим на дубликаты\n",
        "product_codes.duplicated().sum()"
      ]
    },
    {
      "cell_type": "code",
      "execution_count": null,
      "metadata": {
        "id": "OxiBc1VlvNHs",
        "outputId": "488226fb-c05e-4896-ce08-a19dfa8943df"
      },
      "outputs": [
        {
          "data": {
            "text/plain": [
              "array(['85123A', '71053', '84406B', ..., '90187A', '90001A', '20738'],\n",
              "      dtype=object)"
            ]
          },
          "execution_count": 10,
          "metadata": {},
          "output_type": "execute_result"
        }
      ],
      "source": [
        "#посмотрим уникальные значения id товаров\n",
        "product_codes['product_id'].unique()"
      ]
    },
    {
      "cell_type": "code",
      "execution_count": null,
      "metadata": {
        "id": "lqybdCBGvNHs",
        "outputId": "f24d2bd5-426b-4929-ce6e-b26049a7deab"
      },
      "outputs": [
        {
          "data": {
            "text/plain": [
              "3159"
            ]
          },
          "execution_count": 11,
          "metadata": {},
          "output_type": "execute_result"
        }
      ],
      "source": [
        "product_codes['product_id'].nunique()"
      ]
    },
    {
      "cell_type": "markdown",
      "metadata": {
        "id": "3tgbxVxevNHs"
      },
      "source": [
        "В кодировке встречаются, буквы, преобразование к Int не уместно."
      ]
    },
    {
      "cell_type": "code",
      "execution_count": null,
      "metadata": {
        "id": "3DxGs_qEvNHs",
        "outputId": "2de8e069-e899-4a2d-dd81-496f0e1bfb3c"
      },
      "outputs": [
        {
          "data": {
            "text/html": [
              "<div>\n",
              "<style scoped>\n",
              "    .dataframe tbody tr th:only-of-type {\n",
              "        vertical-align: middle;\n",
              "    }\n",
              "\n",
              "    .dataframe tbody tr th {\n",
              "        vertical-align: top;\n",
              "    }\n",
              "\n",
              "    .dataframe thead th {\n",
              "        text-align: right;\n",
              "    }\n",
              "</style>\n",
              "<table border=\"1\" class=\"dataframe\">\n",
              "  <thead>\n",
              "    <tr style=\"text-align: right;\">\n",
              "      <th></th>\n",
              "      <th>product_id</th>\n",
              "      <th>price_per_one</th>\n",
              "    </tr>\n",
              "  </thead>\n",
              "  <tbody>\n",
              "    <tr>\n",
              "      <th>1343</th>\n",
              "      <td>22482</td>\n",
              "      <td>[1.25, 2.46, 1.06]</td>\n",
              "    </tr>\n",
              "    <tr>\n",
              "      <th>299</th>\n",
              "      <td>21031</td>\n",
              "      <td>[1.25, 2.51, 0.85, 0.83]</td>\n",
              "    </tr>\n",
              "    <tr>\n",
              "      <th>1563</th>\n",
              "      <td>22714</td>\n",
              "      <td>[0.42, 0.85, 0.36, 0.83]</td>\n",
              "    </tr>\n",
              "    <tr>\n",
              "      <th>1903</th>\n",
              "      <td>35916A</td>\n",
              "      <td>[1.66, 1.63]</td>\n",
              "    </tr>\n",
              "    <tr>\n",
              "      <th>622</th>\n",
              "      <td>21533</td>\n",
              "      <td>[4.95, 4.25, 10.17, 9.96]</td>\n",
              "    </tr>\n",
              "    <tr>\n",
              "      <th>2857</th>\n",
              "      <td>90028</td>\n",
              "      <td>[8.49, 8.32]</td>\n",
              "    </tr>\n",
              "    <tr>\n",
              "      <th>2029</th>\n",
              "      <td>47570b</td>\n",
              "      <td>[21.23, 20.79]</td>\n",
              "    </tr>\n",
              "    <tr>\n",
              "      <th>2860</th>\n",
              "      <td>90030C</td>\n",
              "      <td>[5.94, 5.82]</td>\n",
              "    </tr>\n",
              "    <tr>\n",
              "      <th>10</th>\n",
              "      <td>15034</td>\n",
              "      <td>[0.14, 0.85, 0.83]</td>\n",
              "    </tr>\n",
              "    <tr>\n",
              "      <th>762</th>\n",
              "      <td>21746</td>\n",
              "      <td>[1.25, 2.51, 2.46, 1.06]</td>\n",
              "    </tr>\n",
              "  </tbody>\n",
              "</table>\n",
              "</div>"
            ],
            "text/plain": [
              "     product_id              price_per_one\n",
              "1343      22482         [1.25, 2.46, 1.06]\n",
              "299       21031   [1.25, 2.51, 0.85, 0.83]\n",
              "1563      22714   [0.42, 0.85, 0.36, 0.83]\n",
              "1903     35916A               [1.66, 1.63]\n",
              "622       21533  [4.95, 4.25, 10.17, 9.96]\n",
              "2857      90028               [8.49, 8.32]\n",
              "2029     47570b             [21.23, 20.79]\n",
              "2860     90030C               [5.94, 5.82]\n",
              "10        15034         [0.14, 0.85, 0.83]\n",
              "762       21746   [1.25, 2.51, 2.46, 1.06]"
            ]
          },
          "execution_count": 12,
          "metadata": {},
          "output_type": "execute_result"
        }
      ],
      "source": [
        "#посмотрим действительно ли для каждого продукта указана одна цена\n",
        "product_codes.groupby('product_id')['price_per_one'].unique().reset_index().sample(10)"
      ]
    },
    {
      "cell_type": "markdown",
      "metadata": {
        "id": "l7LR2lu8vNHs"
      },
      "source": [
        "На один товар мы можем увидеть несколько указанных цен, думаю стоит заменить значение медианой."
      ]
    },
    {
      "cell_type": "code",
      "execution_count": null,
      "metadata": {
        "id": "BAfdulRHvNHt"
      },
      "outputs": [],
      "source": [
        "product_codes = product_codes.groupby('product_id')['price_per_one'].median().reset_index()"
      ]
    },
    {
      "cell_type": "code",
      "execution_count": null,
      "metadata": {
        "id": "anplwPIKvNHt",
        "outputId": "900357ba-45c5-449b-e29d-d8d1f5122925"
      },
      "outputs": [
        {
          "data": {
            "text/html": [
              "<div>\n",
              "<style scoped>\n",
              "    .dataframe tbody tr th:only-of-type {\n",
              "        vertical-align: middle;\n",
              "    }\n",
              "\n",
              "    .dataframe tbody tr th {\n",
              "        vertical-align: top;\n",
              "    }\n",
              "\n",
              "    .dataframe thead th {\n",
              "        text-align: right;\n",
              "    }\n",
              "</style>\n",
              "<table border=\"1\" class=\"dataframe\">\n",
              "  <thead>\n",
              "    <tr style=\"text-align: right;\">\n",
              "      <th></th>\n",
              "      <th>price_per_one</th>\n",
              "    </tr>\n",
              "  </thead>\n",
              "  <tbody>\n",
              "    <tr>\n",
              "      <th>count</th>\n",
              "      <td>3,159.000</td>\n",
              "    </tr>\n",
              "    <tr>\n",
              "      <th>mean</th>\n",
              "      <td>6.709</td>\n",
              "    </tr>\n",
              "    <tr>\n",
              "      <th>std</th>\n",
              "      <td>119.660</td>\n",
              "    </tr>\n",
              "    <tr>\n",
              "      <th>min</th>\n",
              "      <td>0.000</td>\n",
              "    </tr>\n",
              "    <tr>\n",
              "      <th>25%</th>\n",
              "      <td>1.478</td>\n",
              "    </tr>\n",
              "    <tr>\n",
              "      <th>50%</th>\n",
              "      <td>2.690</td>\n",
              "    </tr>\n",
              "    <tr>\n",
              "      <th>75%</th>\n",
              "      <td>4.980</td>\n",
              "    </tr>\n",
              "    <tr>\n",
              "      <th>max</th>\n",
              "      <td>6,706.710</td>\n",
              "    </tr>\n",
              "  </tbody>\n",
              "</table>\n",
              "</div>"
            ],
            "text/plain": [
              "       price_per_one\n",
              "count      3,159.000\n",
              "mean           6.709\n",
              "std          119.660\n",
              "min            0.000\n",
              "25%            1.478\n",
              "50%            2.690\n",
              "75%            4.980\n",
              "max        6,706.710"
            ]
          },
          "execution_count": 14,
          "metadata": {},
          "output_type": "execute_result"
        }
      ],
      "source": [
        "product_codes.describe()"
      ]
    },
    {
      "cell_type": "markdown",
      "metadata": {
        "id": "m84PsH6hvNHt"
      },
      "source": [
        "Среднее почти в 10 раз больше медианы, это говорит либо о большой скошенности в данных, либо о выбросах. Минимальная цена - 0 скорее всего это акционный товар, который можно было приобрести за данную стоимость, а максимальное же значение 16888."
      ]
    },
    {
      "cell_type": "code",
      "execution_count": null,
      "metadata": {
        "id": "WG7ReGqcvNHt",
        "outputId": "3900a9cb-4d15-418a-cdfe-dfd0d90d3f9b"
      },
      "outputs": [
        {
          "data": {
            "image/png": "[encoded data removed]",
            "text/plain": [
              "<Figure size 432x288 with 1 Axes>"
            ]
          },
          "metadata": {
            "needs_background": "light"
          },
          "output_type": "display_data"
        }
      ],
      "source": [
        "plt.boxplot(x=product_codes['price_per_one'])\n",
        "plt.show()"
      ]
    },
    {
      "cell_type": "markdown",
      "metadata": {
        "id": "m-vn-yhyvNHt"
      },
      "source": [
        "Очень много выбросов, оставем только те строки, в которых значения столбца не превышают 95-й перцентиль."
      ]
    },
    {
      "cell_type": "code",
      "execution_count": null,
      "metadata": {
        "id": "eJN8H5uqvNHt"
      },
      "outputs": [],
      "source": [
        "product_codes = product_codes[~(product_codes['price_per_one'] > np.nanpercentile(product_codes['price_per_one'], 95))]"
      ]
    },
    {
      "cell_type": "code",
      "execution_count": null,
      "metadata": {
        "id": "DybfBr-CvNHt",
        "outputId": "66e05c85-eba7-49f2-d2ff-40c5ec3fea74"
      },
      "outputs": [
        {
          "data": {
            "image/png": "[encoded data removed]",
            "text/plain": [
              "<Figure size 432x288 with 1 Axes>"
            ]
          },
          "metadata": {
            "needs_background": "light"
          },
          "output_type": "display_data"
        }
      ],
      "source": [
        "plt.boxplot(x=product_codes['price_per_one'])\n",
        "plt.show()"
      ]
    },
    {
      "cell_type": "code",
      "execution_count": null,
      "metadata": {
        "id": "9X0IE6uVvNHu",
        "outputId": "0ee0dc72-dc0a-4dd8-b5c2-f7a05170bb61"
      },
      "outputs": [
        {
          "data": {
            "text/html": [
              "<div>\n",
              "<style scoped>\n",
              "    .dataframe tbody tr th:only-of-type {\n",
              "        vertical-align: middle;\n",
              "    }\n",
              "\n",
              "    .dataframe tbody tr th {\n",
              "        vertical-align: top;\n",
              "    }\n",
              "\n",
              "    .dataframe thead th {\n",
              "        text-align: right;\n",
              "    }\n",
              "</style>\n",
              "<table border=\"1\" class=\"dataframe\">\n",
              "  <thead>\n",
              "    <tr style=\"text-align: right;\">\n",
              "      <th></th>\n",
              "      <th>product_id</th>\n",
              "      <th>price_per_one</th>\n",
              "    </tr>\n",
              "  </thead>\n",
              "  <tbody>\n",
              "    <tr>\n",
              "      <th>1465</th>\n",
              "      <td>22611</td>\n",
              "      <td>9.960</td>\n",
              "    </tr>\n",
              "    <tr>\n",
              "      <th>2756</th>\n",
              "      <td>85177</td>\n",
              "      <td>0.850</td>\n",
              "    </tr>\n",
              "    <tr>\n",
              "      <th>2293</th>\n",
              "      <td>84507B</td>\n",
              "      <td>2.550</td>\n",
              "    </tr>\n",
              "    <tr>\n",
              "      <th>1302</th>\n",
              "      <td>22438</td>\n",
              "      <td>1.660</td>\n",
              "    </tr>\n",
              "    <tr>\n",
              "      <th>985</th>\n",
              "      <td>22089</td>\n",
              "      <td>4.130</td>\n",
              "    </tr>\n",
              "    <tr>\n",
              "      <th>1922</th>\n",
              "      <td>35969</td>\n",
              "      <td>0.000</td>\n",
              "    </tr>\n",
              "    <tr>\n",
              "      <th>2773</th>\n",
              "      <td>85189</td>\n",
              "      <td>0.850</td>\n",
              "    </tr>\n",
              "    <tr>\n",
              "      <th>2343</th>\n",
              "      <td>84580</td>\n",
              "      <td>4.130</td>\n",
              "    </tr>\n",
              "    <tr>\n",
              "      <th>1831</th>\n",
              "      <td>22996</td>\n",
              "      <td>0.420</td>\n",
              "    </tr>\n",
              "    <tr>\n",
              "      <th>3149</th>\n",
              "      <td>DCGSSGIRL</td>\n",
              "      <td>3.290</td>\n",
              "    </tr>\n",
              "  </tbody>\n",
              "</table>\n",
              "</div>"
            ],
            "text/plain": [
              "     product_id  price_per_one\n",
              "1465      22611          9.960\n",
              "2756      85177          0.850\n",
              "2293     84507B          2.550\n",
              "1302      22438          1.660\n",
              "985       22089          4.130\n",
              "1922      35969          0.000\n",
              "2773      85189          0.850\n",
              "2343      84580          4.130\n",
              "1831      22996          0.420\n",
              "3149  DCGSSGIRL          3.290"
            ]
          },
          "execution_count": 18,
          "metadata": {},
          "output_type": "execute_result"
        }
      ],
      "source": [
        "product_codes.sample(10)"
      ]
    },
    {
      "cell_type": "markdown",
      "metadata": {
        "id": "weKYubDOvNHu"
      },
      "source": [
        "### retail"
      ]
    },
    {
      "cell_type": "code",
      "execution_count": null,
      "metadata": {
        "id": "JgJyWdAivNHu",
        "outputId": "30b1f975-a55e-4de4-93e9-ea2d1df2c020"
      },
      "outputs": [
        {
          "data": {
            "text/plain": [
              "Timestamp('2016-12-01 08:26:00')"
            ]
          },
          "metadata": {},
          "output_type": "display_data"
        },
        {
          "data": {
            "text/plain": [
              "Timestamp('2017-02-28 17:04:00')"
            ]
          },
          "execution_count": 19,
          "metadata": {},
          "output_type": "execute_result"
        }
      ],
      "source": [
        "display(retail['purchase_date'].min())\n",
        "retail['purchase_date'].max()"
      ]
    },
    {
      "cell_type": "markdown",
      "metadata": {
        "id": "Y_2KHuAOvNHu"
      },
      "source": [
        "Мы располагаем данными с 1 декабря 2016 года по 28 февраля 2017 года. Период охвата данными - 3 месяца."
      ]
    },
    {
      "cell_type": "code",
      "execution_count": null,
      "metadata": {
        "id": "wWKfTbZ9vNHu",
        "outputId": "2d2eface-bd55-4e15-fe24-efc430fd8c39"
      },
      "outputs": [
        {
          "data": {
            "text/plain": [
              "1033"
            ]
          },
          "execution_count": 20,
          "metadata": {},
          "output_type": "execute_result"
        }
      ],
      "source": [
        "#проверим на дубликатов\n",
        "retail.duplicated().sum()"
      ]
    },
    {
      "cell_type": "markdown",
      "metadata": {
        "id": "wxw0Tx3gvNHu"
      },
      "source": [
        "Такое большое количество дубликатов можно объяснить особенностью сбора данных, т.к. в чеке могут быть отдельные записи для одного и того же товара, может быть написано «молоток-количество 2», а может быть написано «молоток – количество1, молоток – количество1». Поэтому дубликаты оставляем."
      ]
    },
    {
      "cell_type": "code",
      "execution_count": null,
      "metadata": {
        "id": "zbkACglbvNHu",
        "outputId": "4032b65a-a988-4fda-f5e8-622cd1fd6214"
      },
      "outputs": [
        {
          "data": {
            "text/plain": [
              "count   105,335.000\n",
              "mean          7.821\n",
              "std         327.947\n",
              "min     -74,216.000\n",
              "25%           0.000\n",
              "50%           2.000\n",
              "75%           7.000\n",
              "max      74,214.000\n",
              "Name: quantity, dtype: float64"
            ]
          },
          "execution_count": 21,
          "metadata": {},
          "output_type": "execute_result"
        }
      ],
      "source": [
        "retail['quantity'].describe()"
      ]
    },
    {
      "cell_type": "markdown",
      "metadata": {
        "id": "5egjcL6PvNHv"
      },
      "source": []
    },
    {
      "cell_type": "markdown",
      "metadata": {
        "id": "0IA1xqL4vNHv"
      },
      "source": [
        "Очень много значений где количество меньше нулю, нужно посмотреть подробнее."
      ]
    },
    {
      "cell_type": "code",
      "execution_count": null,
      "metadata": {
        "id": "bTtwC1CxvNHv",
        "outputId": "35a6a46b-abe2-4419-ad93-f13a8907d48f"
      },
      "outputs": [
        {
          "data": {
            "text/html": [
              "<div>\n",
              "<style scoped>\n",
              "    .dataframe tbody tr th:only-of-type {\n",
              "        vertical-align: middle;\n",
              "    }\n",
              "\n",
              "    .dataframe tbody tr th {\n",
              "        vertical-align: top;\n",
              "    }\n",
              "\n",
              "    .dataframe thead th {\n",
              "        text-align: right;\n",
              "    }\n",
              "</style>\n",
              "<table border=\"1\" class=\"dataframe\">\n",
              "  <thead>\n",
              "    <tr style=\"text-align: right;\">\n",
              "      <th></th>\n",
              "      <th>purchase_id</th>\n",
              "      <th>item_id</th>\n",
              "      <th>quantity</th>\n",
              "      <th>purchase_date</th>\n",
              "      <th>customer_id</th>\n",
              "      <th>shop_id</th>\n",
              "      <th>loyalty_program</th>\n",
              "    </tr>\n",
              "  </thead>\n",
              "  <tbody>\n",
              "    <tr>\n",
              "      <th>64</th>\n",
              "      <td>C539944</td>\n",
              "      <td>22776</td>\n",
              "      <td>-2</td>\n",
              "      <td>2016-12-23 11:38:00</td>\n",
              "      <td>20,239.000</td>\n",
              "      <td>Shop 0</td>\n",
              "      <td>0.000</td>\n",
              "    </tr>\n",
              "    <tr>\n",
              "      <th>109</th>\n",
              "      <td>C542910</td>\n",
              "      <td>20726</td>\n",
              "      <td>-2</td>\n",
              "      <td>2017-02-01 15:38:00</td>\n",
              "      <td>23,190.000</td>\n",
              "      <td>Shop 0</td>\n",
              "      <td>1.000</td>\n",
              "    </tr>\n",
              "    <tr>\n",
              "      <th>112</th>\n",
              "      <td>C542426</td>\n",
              "      <td>22418</td>\n",
              "      <td>-25</td>\n",
              "      <td>2017-01-28 09:32:00</td>\n",
              "      <td>19,825.000</td>\n",
              "      <td>Shop 0</td>\n",
              "      <td>0.000</td>\n",
              "    </tr>\n",
              "    <tr>\n",
              "      <th>253</th>\n",
              "      <td>C539726</td>\n",
              "      <td>22791</td>\n",
              "      <td>-11</td>\n",
              "      <td>2016-12-21 14:24:00</td>\n",
              "      <td>22,686.000</td>\n",
              "      <td>Shop 0</td>\n",
              "      <td>1.000</td>\n",
              "    </tr>\n",
              "    <tr>\n",
              "      <th>344</th>\n",
              "      <td>C544034</td>\n",
              "      <td>21878</td>\n",
              "      <td>-2</td>\n",
              "      <td>2017-02-15 11:28:00</td>\n",
              "      <td>20,380.000</td>\n",
              "      <td>Shop 0</td>\n",
              "      <td>0.000</td>\n",
              "    </tr>\n",
              "    <tr>\n",
              "      <th>458</th>\n",
              "      <td>C539667</td>\n",
              "      <td>21285</td>\n",
              "      <td>-25</td>\n",
              "      <td>2016-12-21 10:47:00</td>\n",
              "      <td>18,827.000</td>\n",
              "      <td>Shop 0</td>\n",
              "      <td>0.000</td>\n",
              "    </tr>\n",
              "    <tr>\n",
              "      <th>468</th>\n",
              "      <td>537032</td>\n",
              "      <td>21275</td>\n",
              "      <td>-31</td>\n",
              "      <td>2016-12-03 16:50:00</td>\n",
              "      <td>NaN</td>\n",
              "      <td>Shop 0</td>\n",
              "      <td>0.000</td>\n",
              "    </tr>\n",
              "    <tr>\n",
              "      <th>503</th>\n",
              "      <td>540119</td>\n",
              "      <td>22865</td>\n",
              "      <td>-61</td>\n",
              "      <td>2017-01-05 10:07:00</td>\n",
              "      <td>NaN</td>\n",
              "      <td>Shop 0</td>\n",
              "      <td>0.000</td>\n",
              "    </tr>\n",
              "    <tr>\n",
              "      <th>636</th>\n",
              "      <td>C543764</td>\n",
              "      <td>79191D</td>\n",
              "      <td>-13</td>\n",
              "      <td>2017-02-11 15:16:00</td>\n",
              "      <td>22,714.000</td>\n",
              "      <td>Shop 0</td>\n",
              "      <td>1.000</td>\n",
              "    </tr>\n",
              "    <tr>\n",
              "      <th>660</th>\n",
              "      <td>C537602</td>\n",
              "      <td>22423</td>\n",
              "      <td>-3</td>\n",
              "      <td>2016-12-07 12:45:00</td>\n",
              "      <td>23,190.000</td>\n",
              "      <td>Shop 0</td>\n",
              "      <td>1.000</td>\n",
              "    </tr>\n",
              "  </tbody>\n",
              "</table>\n",
              "</div>"
            ],
            "text/plain": [
              "    purchase_id item_id  quantity       purchase_date  customer_id shop_id  \\\n",
              "64      C539944   22776        -2 2016-12-23 11:38:00   20,239.000  Shop 0   \n",
              "109     C542910   20726        -2 2017-02-01 15:38:00   23,190.000  Shop 0   \n",
              "112     C542426   22418       -25 2017-01-28 09:32:00   19,825.000  Shop 0   \n",
              "253     C539726   22791       -11 2016-12-21 14:24:00   22,686.000  Shop 0   \n",
              "344     C544034   21878        -2 2017-02-15 11:28:00   20,380.000  Shop 0   \n",
              "458     C539667   21285       -25 2016-12-21 10:47:00   18,827.000  Shop 0   \n",
              "468      537032   21275       -31 2016-12-03 16:50:00          NaN  Shop 0   \n",
              "503      540119   22865       -61 2017-01-05 10:07:00          NaN  Shop 0   \n",
              "636     C543764  79191D       -13 2017-02-11 15:16:00   22,714.000  Shop 0   \n",
              "660     C537602   22423        -3 2016-12-07 12:45:00   23,190.000  Shop 0   \n",
              "\n",
              "     loyalty_program  \n",
              "64             0.000  \n",
              "109            1.000  \n",
              "112            0.000  \n",
              "253            1.000  \n",
              "344            0.000  \n",
              "458            0.000  \n",
              "468            0.000  \n",
              "503            0.000  \n",
              "636            1.000  \n",
              "660            1.000  "
            ]
          },
          "execution_count": 22,
          "metadata": {},
          "output_type": "execute_result"
        }
      ],
      "source": [
        "q = retail.query('quantity < 0')\n",
        "q.head(10)"
      ]
    },
    {
      "cell_type": "code",
      "execution_count": null,
      "metadata": {
        "id": "abtBic2QvNHv",
        "outputId": "90978b9a-71f4-4ff4-d91f-3652a817536e"
      },
      "outputs": [
        {
          "data": {
            "text/plain": [
              "array(['Shop 0', 'Shop 4', 'Shop 7', 'Shop 19', 'Shop 12', 'Shop 2',\n",
              "       'Shop 11', 'Shop 6', 'Shop 3', 'Shop 1', 'Shop 21', 'Shop 8',\n",
              "       'Shop 23', 'Shop 16', 'Shop 14', 'Shop 10', 'Shop 18', 'Shop 20'],\n",
              "      dtype=object)"
            ]
          },
          "execution_count": 23,
          "metadata": {},
          "output_type": "execute_result"
        }
      ],
      "source": [
        "q['shop_id'].unique()"
      ]
    },
    {
      "cell_type": "code",
      "execution_count": null,
      "metadata": {
        "id": "3HoiScWfvNHv",
        "outputId": "a7bf7208-7c87-4ca3-e570-da65eea12519"
      },
      "outputs": [
        {
          "data": {
            "text/plain": [
              "array(['2016-12-23T11:38:00.000000000', '2017-02-01T15:38:00.000000000',\n",
              "       '2017-01-28T09:32:00.000000000', '2016-12-21T14:24:00.000000000',\n",
              "       '2017-02-15T11:28:00.000000000', '2016-12-21T10:47:00.000000000',\n",
              "       '2016-12-03T16:50:00.000000000', '2017-01-05T10:07:00.000000000',\n",
              "       '2017-02-11T15:16:00.000000000', '2016-12-07T12:45:00.000000000',\n",
              "       '2016-12-16T14:32:00.000000000', '2017-01-07T10:56:00.000000000',\n",
              "       '2017-01-14T14:33:00.000000000', '2016-12-20T15:52:00.000000000',\n",
              "       '2017-01-04T10:48:00.000000000', '2017-01-05T15:17:00.000000000',\n",
              "       '2017-02-11T15:47:00.000000000', '2017-01-21T16:53:00.000000000',\n",
              "       '2017-01-04T14:29:00.000000000', '2016-12-07T15:51:00.000000000',\n",
              "       '2017-01-06T12:58:00.000000000', '2017-02-21T13:58:00.000000000',\n",
              "       '2017-01-18T14:24:00.000000000', '2017-02-11T17:13:00.000000000',\n",
              "       '2016-12-09T13:40:00.000000000', '2016-12-14T13:05:00.000000000',\n",
              "       '2016-12-09T13:38:00.000000000', '2017-01-09T14:17:00.000000000',\n",
              "       '2016-12-03T15:38:00.000000000', '2017-01-23T14:21:00.000000000',\n",
              "       '2017-01-05T12:42:00.000000000', '2017-02-14T11:20:00.000000000',\n",
              "       '2017-01-04T11:13:00.000000000', '2017-02-11T14:48:00.000000000',\n",
              "       '2016-12-10T15:01:00.000000000', '2017-02-11T13:46:00.000000000',\n",
              "       '2017-02-23T12:05:00.000000000', '2017-02-07T12:44:00.000000000',\n",
              "       '2017-01-31T15:59:00.000000000', '2016-12-10T14:03:00.000000000',\n",
              "       '2017-02-18T15:59:00.000000000', '2017-02-15T12:55:00.000000000',\n",
              "       '2016-12-03T15:41:00.000000000', '2017-01-05T15:43:00.000000000',\n",
              "       '2016-12-08T11:33:00.000000000', '2016-12-08T16:15:00.000000000',\n",
              "       '2017-01-21T13:07:00.000000000', '2016-12-09T14:48:00.000000000',\n",
              "       '2016-12-20T12:01:00.000000000', '2017-02-21T15:11:00.000000000',\n",
              "       '2017-01-06T17:57:00.000000000', '2017-02-18T09:45:00.000000000',\n",
              "       '2017-02-11T15:43:00.000000000', '2016-12-15T14:25:00.000000000',\n",
              "       '2017-01-28T15:58:00.000000000', '2016-12-02T16:58:00.000000000',\n",
              "       '2017-01-21T17:08:00.000000000', '2017-01-14T17:11:00.000000000',\n",
              "       '2017-02-21T14:25:00.000000000', '2017-02-10T14:38:00.000000000',\n",
              "       '2017-02-07T14:46:00.000000000', '2016-12-14T11:28:00.000000000',\n",
              "       '2016-12-09T17:17:00.000000000', '2017-01-25T17:21:00.000000000',\n",
              "       '2016-12-01T14:33:00.000000000', '2017-01-05T11:42:00.000000000',\n",
              "       '2017-02-07T15:09:00.000000000', '2017-01-11T11:19:00.000000000',\n",
              "       '2016-12-06T09:31:00.000000000', '2017-01-05T12:02:00.000000000',\n",
              "       '2017-01-21T09:44:00.000000000', '2017-01-23T16:08:00.000000000',\n",
              "       '2016-12-21T12:33:00.000000000', '2016-12-14T10:51:00.000000000',\n",
              "       '2017-01-26T17:13:00.000000000', '2017-01-12T12:49:00.000000000',\n",
              "       '2017-02-04T17:25:00.000000000', '2017-01-28T13:54:00.000000000',\n",
              "       '2016-12-05T10:25:00.000000000', '2016-12-09T11:42:00.000000000',\n",
              "       '2017-02-10T13:40:00.000000000', '2016-12-07T12:03:00.000000000',\n",
              "       '2017-01-18T15:23:00.000000000', '2017-01-31T10:43:00.000000000',\n",
              "       '2017-02-10T16:31:00.000000000', '2016-12-12T12:31:00.000000000',\n",
              "       '2016-12-07T08:42:00.000000000', '2016-12-23T11:48:00.000000000',\n",
              "       '2017-01-10T17:01:00.000000000', '2017-02-01T10:49:00.000000000',\n",
              "       '2017-02-08T09:44:00.000000000', '2016-12-09T15:13:00.000000000',\n",
              "       '2016-12-13T17:10:00.000000000', '2017-01-10T14:59:00.000000000',\n",
              "       '2017-01-21T11:17:00.000000000', '2016-12-06T10:45:00.000000000',\n",
              "       '2017-01-11T11:46:00.000000000', '2017-02-10T16:24:00.000000000',\n",
              "       '2017-01-11T11:45:00.000000000', '2016-12-02T17:03:00.000000000',\n",
              "       '2017-02-01T11:12:00.000000000', '2016-12-14T10:25:00.000000000',\n",
              "       '2017-02-22T16:29:00.000000000', '2016-12-21T13:15:00.000000000',\n",
              "       '2016-12-05T12:29:00.000000000', '2017-01-06T15:35:00.000000000',\n",
              "       '2016-12-05T14:44:00.000000000', '2017-02-04T09:46:00.000000000',\n",
              "       '2017-02-11T11:55:00.000000000', '2016-12-14T11:12:00.000000000',\n",
              "       '2017-01-04T15:46:00.000000000', '2016-12-06T15:09:00.000000000',\n",
              "       '2016-12-13T10:26:00.000000000', '2016-12-20T14:09:00.000000000',\n",
              "       '2017-02-07T11:58:00.000000000', '2017-01-06T18:00:00.000000000',\n",
              "       '2016-12-16T16:42:00.000000000', '2017-01-07T14:09:00.000000000',\n",
              "       '2016-12-16T13:24:00.000000000', '2017-01-06T18:08:00.000000000',\n",
              "       '2017-02-02T09:39:00.000000000', '2017-01-18T12:32:00.000000000',\n",
              "       '2017-01-31T16:32:00.000000000', '2016-12-20T14:07:00.000000000',\n",
              "       '2017-01-25T12:01:00.000000000', '2017-02-02T14:44:00.000000000',\n",
              "       '2016-12-15T14:33:00.000000000', '2017-01-20T11:00:00.000000000',\n",
              "       '2017-02-01T10:22:00.000000000', '2017-02-24T10:15:00.000000000',\n",
              "       '2017-01-26T17:25:00.000000000', '2017-01-30T12:35:00.000000000',\n",
              "       '2016-12-09T15:24:00.000000000', '2017-01-16T14:48:00.000000000',\n",
              "       '2017-01-05T09:55:00.000000000', '2017-02-18T09:44:00.000000000',\n",
              "       '2017-02-04T14:02:00.000000000', '2017-02-11T16:59:00.000000000',\n",
              "       '2017-02-14T09:44:00.000000000', '2017-02-07T13:52:00.000000000',\n",
              "       '2017-01-28T14:53:00.000000000', '2017-01-28T09:18:00.000000000',\n",
              "       '2017-02-03T12:39:00.000000000', '2016-12-17T15:11:00.000000000',\n",
              "       '2016-12-20T15:07:00.000000000', '2017-01-21T16:34:00.000000000',\n",
              "       '2017-02-25T16:26:00.000000000', '2017-02-21T14:48:00.000000000',\n",
              "       '2017-02-13T16:04:00.000000000', '2017-02-11T10:40:00.000000000',\n",
              "       '2016-12-09T15:36:00.000000000', '2017-01-28T14:43:00.000000000',\n",
              "       '2017-01-18T15:31:00.000000000', '2016-12-08T15:01:00.000000000',\n",
              "       '2016-12-08T13:33:00.000000000', '2017-01-31T16:53:00.000000000',\n",
              "       '2017-01-12T09:52:00.000000000', '2017-01-28T14:58:00.000000000',\n",
              "       '2017-01-28T14:49:00.000000000', '2017-01-12T16:15:00.000000000',\n",
              "       '2017-01-25T11:45:00.000000000', '2016-12-08T14:54:00.000000000',\n",
              "       '2016-12-06T12:55:00.000000000', '2016-12-16T15:40:00.000000000',\n",
              "       '2017-02-11T13:55:00.000000000', '2017-02-02T17:09:00.000000000',\n",
              "       '2017-02-24T13:02:00.000000000', '2016-12-08T13:23:00.000000000',\n",
              "       '2016-12-09T11:44:00.000000000', '2016-12-09T15:18:00.000000000',\n",
              "       '2017-01-24T13:35:00.000000000', '2017-01-12T12:47:00.000000000',\n",
              "       '2017-02-11T17:01:00.000000000', '2017-02-08T11:37:00.000000000',\n",
              "       '2017-02-24T10:05:00.000000000', '2016-12-20T08:27:00.000000000',\n",
              "       '2016-12-07T09:26:00.000000000', '2017-02-04T16:06:00.000000000',\n",
              "       '2017-02-11T13:43:00.000000000', '2017-01-27T10:01:00.000000000',\n",
              "       '2016-12-09T14:47:00.000000000', '2017-01-11T15:02:00.000000000',\n",
              "       '2017-02-07T13:41:00.000000000', '2016-12-06T14:53:00.000000000',\n",
              "       '2017-02-13T15:45:00.000000000', '2016-12-08T13:07:00.000000000',\n",
              "       '2016-12-09T14:42:00.000000000', '2017-02-10T16:40:00.000000000',\n",
              "       '2016-12-03T15:34:00.000000000', '2016-12-06T14:43:00.000000000',\n",
              "       '2017-01-05T16:02:00.000000000', '2016-12-03T15:43:00.000000000',\n",
              "       '2016-12-20T12:25:00.000000000', '2016-12-23T14:34:00.000000000',\n",
              "       '2016-12-16T14:15:00.000000000', '2017-01-21T11:07:00.000000000',\n",
              "       '2016-12-01T10:24:00.000000000', '2017-02-18T15:29:00.000000000',\n",
              "       '2017-02-02T11:16:00.000000000', '2017-01-05T10:46:00.000000000',\n",
              "       '2016-12-15T16:55:00.000000000', '2017-01-28T14:56:00.000000000',\n",
              "       '2017-01-05T15:32:00.000000000', '2016-12-07T12:31:00.000000000',\n",
              "       '2017-02-21T12:38:00.000000000', '2017-02-11T17:12:00.000000000',\n",
              "       '2017-02-22T16:15:00.000000000', '2017-02-11T10:41:00.000000000',\n",
              "       '2017-02-21T11:46:00.000000000', '2017-02-20T13:48:00.000000000',\n",
              "       '2017-01-27T12:00:00.000000000', '2017-02-28T12:06:00.000000000',\n",
              "       '2016-12-12T11:12:00.000000000', '2016-12-15T16:57:00.000000000',\n",
              "       '2017-01-05T15:40:00.000000000', '2017-02-11T15:05:00.000000000',\n",
              "       '2016-12-15T16:34:00.000000000', '2017-01-31T14:37:00.000000000',\n",
              "       '2016-12-14T09:49:00.000000000', '2016-12-14T09:56:00.000000000',\n",
              "       '2017-01-26T15:06:00.000000000', '2016-12-08T14:52:00.000000000',\n",
              "       '2016-12-06T15:12:00.000000000', '2016-12-22T13:59:00.000000000',\n",
              "       '2017-01-24T13:13:00.000000000', '2016-12-08T11:03:00.000000000',\n",
              "       '2017-02-18T17:19:00.000000000', '2016-12-14T10:31:00.000000000',\n",
              "       '2016-12-14T16:39:00.000000000', '2017-02-28T15:19:00.000000000',\n",
              "       '2016-12-13T15:05:00.000000000', '2016-12-20T15:27:00.000000000',\n",
              "       '2016-12-15T14:42:00.000000000', '2016-12-14T11:57:00.000000000',\n",
              "       '2017-01-27T17:15:00.000000000', '2016-12-08T15:57:00.000000000',\n",
              "       '2017-02-01T15:57:00.000000000', '2017-01-24T09:30:00.000000000',\n",
              "       '2017-01-27T17:39:00.000000000', '2017-01-21T11:35:00.000000000',\n",
              "       '2017-02-18T16:52:00.000000000', '2016-12-23T10:20:00.000000000',\n",
              "       '2017-01-11T16:14:00.000000000', '2016-12-14T13:27:00.000000000',\n",
              "       '2017-01-14T16:55:00.000000000', '2016-12-15T16:36:00.000000000',\n",
              "       '2017-01-25T17:33:00.000000000', '2017-02-21T12:31:00.000000000',\n",
              "       '2017-01-27T12:54:00.000000000', '2017-01-05T16:25:00.000000000',\n",
              "       '2016-12-05T13:21:00.000000000', '2017-02-08T14:55:00.000000000',\n",
              "       '2017-02-04T11:22:00.000000000', '2017-01-31T13:28:00.000000000',\n",
              "       '2017-01-05T12:26:00.000000000', '2017-01-06T11:40:00.000000000',\n",
              "       '2016-12-09T14:45:00.000000000', '2016-12-02T17:05:00.000000000',\n",
              "       '2016-12-09T15:38:00.000000000', '2016-12-14T11:34:00.000000000',\n",
              "       '2017-02-14T10:59:00.000000000', '2017-02-10T16:22:00.000000000',\n",
              "       '2017-01-26T17:15:00.000000000', '2016-12-16T12:56:00.000000000',\n",
              "       '2017-01-14T17:00:00.000000000', '2016-12-03T15:40:00.000000000',\n",
              "       '2017-02-11T16:32:00.000000000', '2017-02-14T10:56:00.000000000',\n",
              "       '2017-01-26T17:11:00.000000000', '2017-02-18T12:21:00.000000000',\n",
              "       '2017-02-11T15:19:00.000000000', '2016-12-07T16:21:00.000000000',\n",
              "       '2017-01-28T14:57:00.000000000', '2017-02-07T15:52:00.000000000',\n",
              "       '2017-02-07T10:44:00.000000000', '2016-12-20T14:10:00.000000000',\n",
              "       '2017-02-02T15:50:00.000000000', '2017-01-18T16:52:00.000000000',\n",
              "       '2017-02-11T17:10:00.000000000', '2017-01-06T17:38:00.000000000',\n",
              "       '2016-12-14T10:23:00.000000000', '2017-01-25T13:15:00.000000000',\n",
              "       '2017-01-11T11:22:00.000000000', '2016-12-02T10:46:00.000000000',\n",
              "       '2017-02-18T15:04:00.000000000', '2016-12-09T14:40:00.000000000',\n",
              "       '2017-01-18T15:30:00.000000000', '2016-12-02T17:19:00.000000000',\n",
              "       '2017-01-26T17:09:00.000000000', '2016-12-14T12:27:00.000000000',\n",
              "       '2017-01-21T11:50:00.000000000', '2017-02-01T11:43:00.000000000',\n",
              "       '2017-02-18T13:54:00.000000000', '2017-01-05T11:31:00.000000000',\n",
              "       '2017-01-27T13:44:00.000000000', '2016-12-03T09:47:00.000000000',\n",
              "       '2016-12-02T17:36:00.000000000', '2017-01-07T09:32:00.000000000',\n",
              "       '2016-12-20T12:23:00.000000000', '2016-12-16T15:28:00.000000000',\n",
              "       '2017-01-21T17:01:00.000000000', '2017-01-31T15:36:00.000000000',\n",
              "       '2017-01-27T14:54:00.000000000', '2016-12-09T15:43:00.000000000',\n",
              "       '2017-02-04T17:26:00.000000000', '2017-01-27T17:11:00.000000000',\n",
              "       '2017-01-24T10:54:00.000000000', '2017-01-28T13:09:00.000000000',\n",
              "       '2016-12-20T12:41:00.000000000', '2016-12-09T15:33:00.000000000',\n",
              "       '2016-12-22T15:13:00.000000000', '2016-12-20T11:56:00.000000000',\n",
              "       '2016-12-20T12:19:00.000000000', '2017-02-13T14:28:00.000000000',\n",
              "       '2017-02-23T10:35:00.000000000', '2017-02-11T15:13:00.000000000',\n",
              "       '2017-02-03T10:14:00.000000000', '2016-12-02T16:45:00.000000000',\n",
              "       '2016-12-07T15:04:00.000000000', '2017-02-13T15:28:00.000000000',\n",
              "       '2017-01-06T18:01:00.000000000', '2016-12-16T15:39:00.000000000',\n",
              "       '2017-01-31T11:27:00.000000000', '2016-12-23T11:50:00.000000000',\n",
              "       '2017-02-21T14:32:00.000000000', '2017-02-11T15:14:00.000000000',\n",
              "       '2017-01-26T17:16:00.000000000', '2016-12-20T14:02:00.000000000',\n",
              "       '2016-12-02T17:35:00.000000000', '2017-02-16T10:17:00.000000000',\n",
              "       '2016-12-16T16:24:00.000000000', '2016-12-12T11:21:00.000000000',\n",
              "       '2017-01-04T11:10:00.000000000', '2017-02-22T12:57:00.000000000',\n",
              "       '2017-02-01T12:14:00.000000000', '2016-12-02T17:30:00.000000000',\n",
              "       '2017-01-26T10:30:00.000000000', '2017-01-09T10:59:00.000000000',\n",
              "       '2017-02-22T15:48:00.000000000', '2017-01-12T12:40:00.000000000',\n",
              "       '2016-12-10T10:35:00.000000000', '2017-02-10T15:33:00.000000000',\n",
              "       '2016-12-16T15:27:00.000000000', '2017-01-27T13:59:00.000000000',\n",
              "       '2016-12-16T10:30:00.000000000', '2017-01-31T11:15:00.000000000',\n",
              "       '2017-01-27T16:05:00.000000000', '2016-12-09T14:49:00.000000000',\n",
              "       '2016-12-13T13:09:00.000000000', '2016-12-20T13:54:00.000000000',\n",
              "       '2016-12-03T16:21:00.000000000', '2017-01-06T11:57:00.000000000',\n",
              "       '2017-02-11T10:49:00.000000000', '2017-01-06T18:06:00.000000000',\n",
              "       '2017-01-06T13:41:00.000000000', '2017-02-04T17:24:00.000000000',\n",
              "       '2016-12-23T11:36:00.000000000', '2016-12-02T17:14:00.000000000',\n",
              "       '2017-02-01T10:52:00.000000000', '2016-12-09T13:12:00.000000000',\n",
              "       '2017-02-04T13:47:00.000000000', '2017-01-31T12:36:00.000000000',\n",
              "       '2016-12-03T15:32:00.000000000', '2017-02-11T15:20:00.000000000',\n",
              "       '2017-01-27T16:08:00.000000000', '2016-12-13T16:19:00.000000000',\n",
              "       '2016-12-07T11:47:00.000000000', '2016-12-15T17:05:00.000000000',\n",
              "       '2017-01-17T16:20:00.000000000', '2017-02-24T10:01:00.000000000',\n",
              "       '2016-12-09T15:34:00.000000000', '2017-02-10T14:13:00.000000000',\n",
              "       '2016-12-03T15:36:00.000000000', '2016-12-09T15:28:00.000000000',\n",
              "       '2016-12-16T15:30:00.000000000', '2016-12-15T12:06:00.000000000',\n",
              "       '2016-12-13T14:37:00.000000000', '2017-02-15T11:32:00.000000000',\n",
              "       '2016-12-13T12:03:00.000000000', '2017-02-22T14:56:00.000000000',\n",
              "       '2017-01-31T15:53:00.000000000', '2017-02-22T15:45:00.000000000',\n",
              "       '2017-01-31T15:08:00.000000000', '2016-12-03T16:36:00.000000000',\n",
              "       '2017-01-28T15:01:00.000000000', '2017-01-06T17:34:00.000000000',\n",
              "       '2017-01-20T17:02:00.000000000', '2016-12-02T14:25:00.000000000',\n",
              "       '2017-01-14T17:13:00.000000000', '2017-01-06T17:48:00.000000000',\n",
              "       '2017-01-21T12:54:00.000000000', '2017-01-27T17:38:00.000000000',\n",
              "       '2016-12-09T14:10:00.000000000', '2017-02-01T09:38:00.000000000',\n",
              "       '2017-01-28T14:20:00.000000000', '2017-01-12T12:09:00.000000000',\n",
              "       '2016-12-13T13:28:00.000000000', '2016-12-06T13:17:00.000000000',\n",
              "       '2016-12-13T14:56:00.000000000', '2017-02-07T16:24:00.000000000',\n",
              "       '2017-01-28T09:34:00.000000000', '2017-01-27T16:07:00.000000000',\n",
              "       '2016-12-01T09:41:00.000000000', '2016-12-14T13:10:00.000000000',\n",
              "       '2017-01-16T13:53:00.000000000', '2017-01-27T12:09:00.000000000',\n",
              "       '2016-12-14T15:16:00.000000000', '2016-12-14T09:59:00.000000000',\n",
              "       '2017-02-02T15:51:00.000000000', '2017-02-10T15:51:00.000000000',\n",
              "       '2017-01-06T16:20:00.000000000', '2017-01-28T14:45:00.000000000',\n",
              "       '2017-01-06T17:31:00.000000000', '2017-01-31T15:27:00.000000000',\n",
              "       '2016-12-06T12:35:00.000000000', '2016-12-14T11:16:00.000000000',\n",
              "       '2017-02-24T09:49:00.000000000', '2017-01-07T09:25:00.000000000',\n",
              "       '2016-12-20T17:24:00.000000000', '2017-02-11T15:12:00.000000000',\n",
              "       '2017-01-10T16:21:00.000000000', '2016-12-07T15:49:00.000000000',\n",
              "       '2016-12-09T13:34:00.000000000', '2017-02-01T12:52:00.000000000',\n",
              "       '2017-01-25T17:24:00.000000000', '2017-01-21T09:26:00.000000000',\n",
              "       '2016-12-14T11:41:00.000000000', '2017-02-16T14:13:00.000000000',\n",
              "       '2017-01-11T11:42:00.000000000', '2017-01-26T17:04:00.000000000',\n",
              "       '2017-01-31T16:26:00.000000000', '2016-12-07T15:34:00.000000000',\n",
              "       '2017-02-15T12:36:00.000000000', '2017-02-04T12:29:00.000000000',\n",
              "       '2016-12-14T16:24:00.000000000', '2016-12-09T14:43:00.000000000',\n",
              "       '2016-12-23T11:49:00.000000000', '2017-02-21T16:58:00.000000000',\n",
              "       '2016-12-15T10:29:00.000000000', '2017-01-11T11:39:00.000000000',\n",
              "       '2016-12-07T09:27:00.000000000', '2017-02-24T09:45:00.000000000',\n",
              "       '2017-01-12T09:54:00.000000000', '2017-02-22T10:00:00.000000000',\n",
              "       '2016-12-16T09:48:00.000000000', '2016-12-09T17:32:00.000000000',\n",
              "       '2017-01-25T12:45:00.000000000', '2016-12-14T11:59:00.000000000',\n",
              "       '2016-12-23T11:40:00.000000000', '2016-12-13T17:14:00.000000000',\n",
              "       '2016-12-03T15:33:00.000000000', '2016-12-15T12:35:00.000000000',\n",
              "       '2017-01-28T14:52:00.000000000', '2017-01-10T12:13:00.000000000',\n",
              "       '2017-01-24T12:35:00.000000000', '2017-01-12T12:30:00.000000000',\n",
              "       '2017-02-10T14:11:00.000000000', '2016-12-07T09:30:00.000000000',\n",
              "       '2017-02-11T13:59:00.000000000', '2017-01-13T12:52:00.000000000',\n",
              "       '2016-12-02T17:27:00.000000000', '2017-02-08T15:15:00.000000000',\n",
              "       '2017-01-31T11:33:00.000000000', '2016-12-08T15:59:00.000000000',\n",
              "       '2016-12-06T12:36:00.000000000', '2017-01-31T10:44:00.000000000',\n",
              "       '2017-02-07T12:04:00.000000000', '2016-12-02T14:23:00.000000000',\n",
              "       '2017-02-01T15:49:00.000000000', '2016-12-21T12:40:00.000000000',\n",
              "       '2017-01-21T17:06:00.000000000', '2017-01-04T16:53:00.000000000',\n",
              "       '2016-12-20T11:01:00.000000000', '2016-12-15T16:56:00.000000000',\n",
              "       '2017-01-05T10:50:00.000000000', '2017-02-18T14:36:00.000000000',\n",
              "       '2017-02-22T12:55:00.000000000', '2017-02-10T15:50:00.000000000',\n",
              "       '2016-12-15T09:14:00.000000000', '2017-02-23T11:35:00.000000000',\n",
              "       '2017-02-18T15:45:00.000000000', '2016-12-09T15:30:00.000000000',\n",
              "       '2017-02-04T16:07:00.000000000', '2017-02-10T14:17:00.000000000',\n",
              "       '2016-12-21T16:31:00.000000000', '2016-12-16T15:54:00.000000000',\n",
              "       '2017-01-11T11:49:00.000000000', '2017-01-31T15:31:00.000000000',\n",
              "       '2016-12-03T10:09:00.000000000', '2017-02-04T17:23:00.000000000',\n",
              "       '2016-12-16T14:19:00.000000000', '2017-01-21T17:04:00.000000000',\n",
              "       '2017-02-24T09:59:00.000000000', '2016-12-15T17:04:00.000000000',\n",
              "       '2016-12-10T16:01:00.000000000', '2017-01-11T17:35:00.000000000',\n",
              "       '2016-12-07T10:33:00.000000000', '2017-01-21T16:11:00.000000000',\n",
              "       '2017-01-14T12:05:00.000000000', '2017-01-05T12:05:00.000000000',\n",
              "       '2016-12-05T10:48:00.000000000', '2016-12-02T11:56:00.000000000',\n",
              "       '2017-01-25T12:39:00.000000000', '2017-02-08T10:02:00.000000000',\n",
              "       '2016-12-14T11:54:00.000000000', '2017-01-24T11:14:00.000000000',\n",
              "       '2016-12-03T14:23:00.000000000', '2017-01-25T12:34:00.000000000',\n",
              "       '2016-12-03T10:11:00.000000000', '2017-02-21T14:02:00.000000000',\n",
              "       '2016-12-02T17:08:00.000000000', '2017-02-11T16:10:00.000000000',\n",
              "       '2017-01-28T13:08:00.000000000', '2016-12-13T10:40:00.000000000',\n",
              "       '2017-02-14T10:40:00.000000000', '2016-12-14T15:56:00.000000000',\n",
              "       '2016-12-10T13:52:00.000000000', '2017-01-06T17:32:00.000000000',\n",
              "       '2017-01-11T16:21:00.000000000', '2017-01-26T12:36:00.000000000',\n",
              "       '2016-12-20T17:07:00.000000000', '2017-01-10T12:02:00.000000000',\n",
              "       '2016-12-09T10:14:00.000000000', '2017-02-18T15:42:00.000000000',\n",
              "       '2017-01-06T17:36:00.000000000', '2017-01-19T16:48:00.000000000',\n",
              "       '2016-12-16T15:36:00.000000000', '2017-01-25T09:49:00.000000000',\n",
              "       '2017-01-18T15:21:00.000000000', '2017-01-11T11:38:00.000000000',\n",
              "       '2016-12-10T17:05:00.000000000', '2016-12-08T13:18:00.000000000',\n",
              "       '2016-12-09T13:28:00.000000000', '2016-12-03T15:42:00.000000000',\n",
              "       '2016-12-22T13:20:00.000000000', '2017-02-18T15:40:00.000000000',\n",
              "       '2017-01-06T11:05:00.000000000', '2016-12-23T14:49:00.000000000',\n",
              "       '2017-02-08T11:40:00.000000000', '2016-12-12T12:51:00.000000000',\n",
              "       '2016-12-16T11:24:00.000000000', '2016-12-16T11:10:00.000000000',\n",
              "       '2017-02-11T10:30:00.000000000', '2017-01-13T12:41:00.000000000',\n",
              "       '2017-01-13T10:56:00.000000000', '2016-12-14T11:30:00.000000000',\n",
              "       '2016-12-08T17:08:00.000000000', '2016-12-06T15:35:00.000000000',\n",
              "       '2017-02-01T13:08:00.000000000', '2017-02-10T17:44:00.000000000',\n",
              "       '2017-02-11T16:45:00.000000000', '2016-12-09T15:41:00.000000000',\n",
              "       '2017-01-19T09:11:00.000000000', '2017-01-18T10:17:00.000000000',\n",
              "       '2017-01-05T11:36:00.000000000', '2017-01-05T11:13:00.000000000',\n",
              "       '2017-01-21T12:56:00.000000000', '2017-01-19T12:47:00.000000000',\n",
              "       '2017-01-27T14:56:00.000000000', '2017-01-28T14:50:00.000000000',\n",
              "       '2016-12-17T16:25:00.000000000', '2016-12-16T15:37:00.000000000',\n",
              "       '2017-02-15T12:39:00.000000000', '2016-12-14T10:33:00.000000000',\n",
              "       '2016-12-08T12:49:00.000000000', '2017-01-06T13:56:00.000000000',\n",
              "       '2017-02-10T14:52:00.000000000', '2016-12-02T09:10:00.000000000',\n",
              "       '2017-02-21T12:12:00.000000000', '2017-02-02T16:31:00.000000000',\n",
              "       '2017-02-23T09:41:00.000000000', '2017-02-22T15:22:00.000000000',\n",
              "       '2017-02-22T12:37:00.000000000', '2017-01-25T12:47:00.000000000',\n",
              "       '2017-01-21T14:45:00.000000000', '2016-12-09T15:23:00.000000000',\n",
              "       '2017-01-20T11:53:00.000000000', '2017-01-27T15:12:00.000000000',\n",
              "       '2017-02-01T12:55:00.000000000', '2017-02-18T09:50:00.000000000',\n",
              "       '2016-12-20T14:05:00.000000000', '2016-12-14T11:09:00.000000000',\n",
              "       '2016-12-19T12:46:00.000000000', '2017-01-31T16:57:00.000000000',\n",
              "       '2017-02-11T14:12:00.000000000', '2016-12-20T13:58:00.000000000',\n",
              "       '2016-12-15T17:08:00.000000000', '2016-12-14T09:26:00.000000000',\n",
              "       '2017-01-10T14:08:00.000000000', '2016-12-07T13:25:00.000000000',\n",
              "       '2017-01-20T15:42:00.000000000', '2017-01-19T12:39:00.000000000',\n",
              "       '2017-02-17T12:56:00.000000000', '2017-01-21T16:41:00.000000000',\n",
              "       '2017-02-21T14:05:00.000000000', '2017-01-24T11:30:00.000000000',\n",
              "       '2016-12-02T17:09:00.000000000', '2017-02-01T13:07:00.000000000',\n",
              "       '2016-12-02T17:31:00.000000000', '2017-01-11T16:59:00.000000000',\n",
              "       '2017-02-24T13:05:00.000000000', '2017-02-11T11:44:00.000000000',\n",
              "       '2017-01-20T15:41:00.000000000', '2016-12-03T15:39:00.000000000',\n",
              "       '2017-02-11T13:37:00.000000000', '2017-01-25T13:26:00.000000000',\n",
              "       '2016-12-08T14:27:00.000000000', '2017-02-18T09:51:00.000000000',\n",
              "       '2016-12-16T16:30:00.000000000', '2017-01-09T13:42:00.000000000',\n",
              "       '2016-12-20T13:57:00.000000000', '2017-02-01T11:09:00.000000000',\n",
              "       '2016-12-07T12:00:00.000000000', '2016-12-14T10:21:00.000000000',\n",
              "       '2016-12-09T14:29:00.000000000', '2016-12-08T12:03:00.000000000',\n",
              "       '2017-02-20T12:31:00.000000000', '2016-12-17T12:19:00.000000000',\n",
              "       '2017-01-04T10:17:00.000000000', '2017-02-11T14:50:00.000000000',\n",
              "       '2016-12-12T11:19:00.000000000', '2016-12-21T12:17:00.000000000',\n",
              "       '2017-02-17T14:19:00.000000000', '2016-12-17T09:37:00.000000000',\n",
              "       '2016-12-01T14:30:00.000000000', '2016-12-23T12:55:00.000000000',\n",
              "       '2016-12-09T14:30:00.000000000', '2016-12-06T15:37:00.000000000',\n",
              "       '2017-02-11T15:22:00.000000000', '2017-01-27T14:26:00.000000000',\n",
              "       '2017-02-15T12:41:00.000000000', '2017-01-27T09:40:00.000000000',\n",
              "       '2017-01-17T16:45:00.000000000', '2017-01-28T14:55:00.000000000',\n",
              "       '2016-12-17T12:58:00.000000000', '2017-02-10T14:59:00.000000000',\n",
              "       '2016-12-14T15:20:00.000000000', '2017-02-18T15:11:00.000000000',\n",
              "       '2017-01-05T09:57:00.000000000', '2017-01-12T11:04:00.000000000',\n",
              "       '2017-02-04T16:08:00.000000000', '2017-02-10T14:15:00.000000000',\n",
              "       '2017-02-18T14:54:00.000000000', '2017-01-11T11:53:00.000000000',\n",
              "       '2016-12-14T09:58:00.000000000', '2016-12-07T15:41:00.000000000',\n",
              "       '2017-01-12T12:51:00.000000000', '2017-02-11T13:39:00.000000000',\n",
              "       '2017-02-01T11:19:00.000000000', '2017-01-27T09:35:00.000000000',\n",
              "       '2017-01-25T12:41:00.000000000', '2017-01-04T11:14:00.000000000',\n",
              "       '2016-12-03T15:30:00.000000000', '2017-02-10T17:50:00.000000000',\n",
              "       '2017-01-20T16:16:00.000000000', '2016-12-15T16:40:00.000000000',\n",
              "       '2016-12-14T10:29:00.000000000', '2017-01-28T14:54:00.000000000',\n",
              "       '2016-12-06T16:10:00.000000000', '2017-02-11T16:12:00.000000000',\n",
              "       '2017-01-28T14:46:00.000000000', '2017-01-10T09:56:00.000000000',\n",
              "       '2017-01-19T14:44:00.000000000', '2016-12-06T14:55:00.000000000',\n",
              "       '2017-02-18T16:32:00.000000000', '2017-02-21T15:07:00.000000000',\n",
              "       '2016-12-14T11:26:00.000000000', '2017-02-22T10:03:00.000000000',\n",
              "       '2017-01-27T18:08:00.000000000', '2017-01-21T16:58:00.000000000',\n",
              "       '2016-12-06T11:42:00.000000000', '2016-12-21T10:16:00.000000000',\n",
              "       '2017-01-20T17:06:00.000000000', '2016-12-14T10:02:00.000000000',\n",
              "       '2016-12-14T10:00:00.000000000', '2016-12-23T11:47:00.000000000',\n",
              "       '2016-12-15T16:54:00.000000000', '2017-01-31T11:37:00.000000000',\n",
              "       '2016-12-09T17:25:00.000000000', '2017-02-21T12:59:00.000000000',\n",
              "       '2016-12-14T11:27:00.000000000', '2017-01-26T15:04:00.000000000',\n",
              "       '2016-12-06T12:00:00.000000000', '2017-01-21T17:18:00.000000000',\n",
              "       '2017-01-04T17:12:00.000000000', '2017-01-20T12:07:00.000000000',\n",
              "       '2016-12-16T10:38:00.000000000', '2017-01-25T12:49:00.000000000',\n",
              "       '2016-12-14T10:01:00.000000000', '2017-01-11T13:09:00.000000000',\n",
              "       '2016-12-08T10:26:00.000000000', '2017-02-11T17:14:00.000000000',\n",
              "       '2017-02-21T12:43:00.000000000', '2017-02-21T12:33:00.000000000',\n",
              "       '2016-12-02T14:29:00.000000000', '2017-01-27T14:32:00.000000000',\n",
              "       '2016-12-16T11:59:00.000000000', '2017-02-10T16:35:00.000000000',\n",
              "       '2016-12-07T12:41:00.000000000', '2016-12-06T14:37:00.000000000',\n",
              "       '2017-01-12T12:10:00.000000000', '2017-02-21T12:44:00.000000000',\n",
              "       '2017-02-08T11:45:00.000000000', '2017-01-25T12:11:00.000000000',\n",
              "       '2016-12-07T12:34:00.000000000', '2017-01-28T15:57:00.000000000',\n",
              "       '2016-12-14T11:35:00.000000000', '2017-01-28T14:44:00.000000000',\n",
              "       '2017-02-14T15:20:00.000000000', '2017-01-06T17:37:00.000000000',\n",
              "       '2017-01-27T17:23:00.000000000', '2017-01-06T11:51:00.000000000',\n",
              "       '2016-12-02T12:50:00.000000000', '2017-01-11T11:15:00.000000000',\n",
              "       '2017-01-11T12:03:00.000000000', '2017-01-04T13:47:00.000000000',\n",
              "       '2017-02-18T15:44:00.000000000', '2017-01-04T10:12:00.000000000',\n",
              "       '2017-01-11T16:57:00.000000000', '2017-02-14T13:40:00.000000000',\n",
              "       '2016-12-12T11:13:00.000000000', '2016-12-09T13:10:00.000000000',\n",
              "       '2017-02-10T16:34:00.000000000', '2017-02-16T11:49:00.000000000',\n",
              "       '2016-12-03T16:37:00.000000000', '2017-01-25T12:36:00.000000000',\n",
              "       '2016-12-09T15:01:00.000000000', '2017-01-06T16:17:00.000000000',\n",
              "       '2017-01-13T17:09:00.000000000', '2016-12-09T15:29:00.000000000',\n",
              "       '2016-12-22T12:43:00.000000000', '2017-02-11T15:07:00.000000000',\n",
              "       '2016-12-08T14:20:00.000000000', '2017-02-02T12:40:00.000000000',\n",
              "       '2017-02-14T09:54:00.000000000', '2016-12-20T13:51:00.000000000',\n",
              "       '2016-12-12T11:23:00.000000000', '2016-12-15T16:43:00.000000000',\n",
              "       '2017-01-12T11:45:00.000000000', '2017-01-13T10:11:00.000000000',\n",
              "       '2017-01-28T14:07:00.000000000', '2017-01-28T16:50:00.000000000',\n",
              "       '2017-01-20T13:19:00.000000000', '2017-02-01T11:28:00.000000000',\n",
              "       '2017-01-27T12:49:00.000000000', '2017-01-19T17:21:00.000000000',\n",
              "       '2017-01-28T14:51:00.000000000', '2016-12-15T10:31:00.000000000',\n",
              "       '2017-02-11T17:05:00.000000000', '2017-01-07T09:21:00.000000000',\n",
              "       '2017-02-10T17:06:00.000000000', '2017-02-14T16:39:00.000000000',\n",
              "       '2016-12-06T15:07:00.000000000', '2017-01-14T16:58:00.000000000',\n",
              "       '2017-01-05T11:21:00.000000000', '2016-12-14T16:19:00.000000000',\n",
              "       '2016-12-05T12:58:00.000000000', '2016-12-14T13:06:00.000000000',\n",
              "       '2017-01-20T11:50:00.000000000', '2016-12-08T14:57:00.000000000',\n",
              "       '2017-01-27T12:57:00.000000000', '2016-12-09T15:00:00.000000000',\n",
              "       '2017-01-21T10:25:00.000000000', '2017-01-12T09:48:00.000000000',\n",
              "       '2017-01-11T12:50:00.000000000', '2017-02-02T11:54:00.000000000',\n",
              "       '2017-01-25T12:52:00.000000000', '2017-01-31T11:29:00.000000000',\n",
              "       '2017-02-03T10:20:00.000000000', '2017-02-11T16:34:00.000000000',\n",
              "       '2017-02-18T12:16:00.000000000', '2017-02-14T13:42:00.000000000',\n",
              "       '2016-12-14T09:54:00.000000000', '2016-12-16T17:33:00.000000000',\n",
              "       '2016-12-06T09:40:00.000000000', '2017-02-11T11:24:00.000000000',\n",
              "       '2016-12-07T09:28:00.000000000', '2017-01-21T17:12:00.000000000',\n",
              "       '2016-12-15T11:39:00.000000000', '2017-02-23T16:36:00.000000000',\n",
              "       '2016-12-10T14:32:00.000000000', '2017-02-18T15:18:00.000000000',\n",
              "       '2017-01-26T13:44:00.000000000', '2016-12-20T13:55:00.000000000',\n",
              "       '2016-12-07T08:57:00.000000000', '2016-12-03T14:19:00.000000000',\n",
              "       '2017-01-21T17:24:00.000000000', '2017-01-10T12:14:00.000000000',\n",
              "       '2017-01-20T16:22:00.000000000', '2017-02-15T13:37:00.000000000',\n",
              "       '2017-01-12T13:12:00.000000000', '2017-02-25T12:46:00.000000000',\n",
              "       '2016-12-22T13:13:00.000000000', '2017-01-06T16:14:00.000000000',\n",
              "       '2017-01-28T12:17:00.000000000', '2016-12-01T12:38:00.000000000',\n",
              "       '2017-02-15T12:34:00.000000000', '2016-12-14T11:55:00.000000000',\n",
              "       '2017-01-27T12:51:00.000000000', '2016-12-19T14:43:00.000000000',\n",
              "       '2017-02-24T09:53:00.000000000', '2016-12-07T13:23:00.000000000',\n",
              "       '2017-01-27T13:58:00.000000000', '2016-12-14T11:18:00.000000000',\n",
              "       '2016-12-08T13:43:00.000000000', '2017-01-19T14:36:00.000000000',\n",
              "       '2017-02-11T10:50:00.000000000', '2017-02-24T12:27:00.000000000',\n",
              "       '2017-01-25T12:25:00.000000000', '2016-12-21T12:38:00.000000000',\n",
              "       '2017-02-09T15:50:00.000000000', '2016-12-14T11:45:00.000000000',\n",
              "       '2017-01-13T10:47:00.000000000', '2016-12-21T12:35:00.000000000',\n",
              "       '2016-12-13T10:31:00.000000000', '2017-01-16T15:48:00.000000000',\n",
              "       '2017-02-01T11:47:00.000000000', '2017-01-25T11:47:00.000000000',\n",
              "       '2017-02-17T15:02:00.000000000', '2016-12-07T09:31:00.000000000',\n",
              "       '2016-12-14T10:50:00.000000000', '2016-12-15T09:20:00.000000000',\n",
              "       '2017-02-09T11:49:00.000000000', '2016-12-06T15:10:00.000000000',\n",
              "       '2017-01-11T11:48:00.000000000', '2017-02-27T15:07:00.000000000',\n",
              "       '2016-12-16T15:31:00.000000000', '2016-12-14T10:53:00.000000000',\n",
              "       '2017-02-24T11:06:00.000000000', '2017-01-11T11:50:00.000000000',\n",
              "       '2017-01-23T15:48:00.000000000', '2017-01-06T17:52:00.000000000',\n",
              "       '2016-12-09T13:39:00.000000000', '2016-12-02T10:37:00.000000000',\n",
              "       '2017-02-08T14:32:00.000000000', '2017-02-10T16:33:00.000000000',\n",
              "       '2016-12-14T11:56:00.000000000', '2017-02-16T11:48:00.000000000',\n",
              "       '2016-12-06T15:36:00.000000000', '2017-02-21T14:52:00.000000000',\n",
              "       '2017-01-17T12:45:00.000000000', '2017-02-18T15:22:00.000000000',\n",
              "       '2017-02-18T15:54:00.000000000', '2016-12-02T14:42:00.000000000',\n",
              "       '2017-02-10T10:05:00.000000000', '2016-12-02T13:05:00.000000000',\n",
              "       '2016-12-13T14:38:00.000000000', '2017-01-27T12:18:00.000000000',\n",
              "       '2017-02-27T10:25:00.000000000', '2017-02-15T16:49:00.000000000',\n",
              "       '2017-01-10T10:07:00.000000000', '2017-02-21T15:12:00.000000000',\n",
              "       '2017-01-14T16:43:00.000000000', '2017-01-16T12:40:00.000000000',\n",
              "       '2017-02-14T10:24:00.000000000', '2017-01-24T12:58:00.000000000',\n",
              "       '2016-12-06T11:47:00.000000000', '2017-02-21T12:09:00.000000000',\n",
              "       '2016-12-10T09:35:00.000000000', '2017-01-04T17:14:00.000000000',\n",
              "       '2016-12-15T16:42:00.000000000', '2016-12-01T09:49:00.000000000',\n",
              "       '2016-12-09T14:11:00.000000000', '2017-01-10T15:00:00.000000000',\n",
              "       '2017-01-21T16:55:00.000000000', '2016-12-10T12:00:00.000000000',\n",
              "       '2017-01-13T12:56:00.000000000', '2017-01-04T10:09:00.000000000',\n",
              "       '2017-01-12T15:04:00.000000000', '2016-12-03T15:37:00.000000000',\n",
              "       '2017-02-15T10:29:00.000000000', '2016-12-08T10:18:00.000000000',\n",
              "       '2017-02-16T15:47:00.000000000', '2017-02-11T13:38:00.000000000',\n",
              "       '2017-01-27T12:47:00.000000000', '2017-02-18T15:16:00.000000000',\n",
              "       '2017-01-12T09:41:00.000000000', '2016-12-03T15:35:00.000000000',\n",
              "       '2017-02-14T11:19:00.000000000', '2017-02-28T12:04:00.000000000',\n",
              "       '2016-12-14T10:28:00.000000000', '2016-12-14T11:33:00.000000000',\n",
              "       '2017-02-04T12:25:00.000000000', '2016-12-16T13:01:00.000000000',\n",
              "       '2017-01-20T11:48:00.000000000', '2017-01-31T12:48:00.000000000',\n",
              "       '2017-02-17T12:03:00.000000000', '2017-01-10T09:07:00.000000000',\n",
              "       '2016-12-20T11:59:00.000000000', '2017-01-10T17:00:00.000000000',\n",
              "       '2016-12-06T14:22:00.000000000', '2017-01-06T18:09:00.000000000',\n",
              "       '2017-02-15T15:46:00.000000000', '2017-02-28T17:04:00.000000000',\n",
              "       '2017-02-07T12:10:00.000000000', '2017-01-18T15:26:00.000000000',\n",
              "       '2016-12-09T13:13:00.000000000', '2017-01-10T15:04:00.000000000',\n",
              "       '2016-12-16T10:28:00.000000000', '2017-01-26T17:06:00.000000000',\n",
              "       '2016-12-08T14:10:00.000000000', '2016-12-14T11:10:00.000000000',\n",
              "       '2016-12-16T12:05:00.000000000', '2016-12-15T16:52:00.000000000',\n",
              "       '2016-12-09T14:58:00.000000000', '2016-12-09T13:58:00.000000000',\n",
              "       '2016-12-15T16:50:00.000000000', '2017-01-20T16:15:00.000000000',\n",
              "       '2016-12-09T14:57:00.000000000', '2017-02-18T15:13:00.000000000',\n",
              "       '2016-12-13T17:12:00.000000000', '2016-12-07T13:28:00.000000000',\n",
              "       '2017-02-04T14:06:00.000000000', '2017-01-27T12:59:00.000000000',\n",
              "       '2016-12-16T14:30:00.000000000', '2017-01-21T10:29:00.000000000',\n",
              "       '2017-01-14T17:26:00.000000000', '2017-02-22T11:04:00.000000000',\n",
              "       '2016-12-14T11:24:00.000000000', '2016-12-09T14:12:00.000000000',\n",
              "       '2016-12-08T09:55:00.000000000', '2017-01-04T10:16:00.000000000',\n",
              "       '2016-12-08T16:00:00.000000000', '2016-12-20T13:14:00.000000000',\n",
              "       '2016-12-14T11:11:00.000000000', '2017-01-17T16:23:00.000000000',\n",
              "       '2017-02-20T10:30:00.000000000', '2017-01-04T11:08:00.000000000',\n",
              "       '2016-12-10T12:09:00.000000000', '2016-12-01T16:50:00.000000000',\n",
              "       '2016-12-02T17:06:00.000000000', '2017-02-11T10:29:00.000000000',\n",
              "       '2016-12-06T13:12:00.000000000', '2017-01-28T14:47:00.000000000',\n",
              "       '2017-01-10T10:08:00.000000000', '2017-01-26T13:10:00.000000000',\n",
              "       '2017-02-03T13:31:00.000000000', '2017-02-14T15:15:00.000000000',\n",
              "       '2017-01-06T17:27:00.000000000', '2017-01-06T17:59:00.000000000',\n",
              "       '2017-01-10T10:04:00.000000000', '2017-01-31T11:18:00.000000000',\n",
              "       '2017-01-06T18:02:00.000000000', '2017-02-03T12:59:00.000000000',\n",
              "       '2017-02-01T16:21:00.000000000', '2017-02-11T15:18:00.000000000',\n",
              "       '2017-01-27T15:49:00.000000000', '2016-12-03T10:07:00.000000000',\n",
              "       '2017-02-11T16:30:00.000000000', '2017-01-31T11:22:00.000000000',\n",
              "       '2017-01-18T13:19:00.000000000', '2017-02-21T14:01:00.000000000',\n",
              "       '2017-02-10T10:00:00.000000000', '2016-12-05T13:09:00.000000000',\n",
              "       '2017-01-10T10:36:00.000000000', '2017-01-20T11:44:00.000000000'],\n",
              "      dtype='datetime64[ns]')"
            ]
          },
          "execution_count": 24,
          "metadata": {},
          "output_type": "execute_result"
        }
      ],
      "source": [
        "q['purchase_date'].unique()"
      ]
    },
    {
      "cell_type": "markdown",
      "metadata": {
        "id": "0GrycQBkvNHv"
      },
      "source": [
        "Такие отрицательные значения не связаны ни с определенной датой, ни с каким-то конкретным магазином, скорее всего это сбой в системе или особенность кассовых аппаратов. Заменим эти значения на положительные."
      ]
    },
    {
      "cell_type": "code",
      "execution_count": null,
      "metadata": {
        "id": "k8AKw8ugvNHw"
      },
      "outputs": [],
      "source": [
        "retail['quantity'] = retail['quantity'].abs()"
      ]
    },
    {
      "cell_type": "code",
      "execution_count": null,
      "metadata": {
        "id": "g57Wy2kmvNHw",
        "outputId": "6b1b86c5-ecef-43ce-b059-d1a36fd16361"
      },
      "outputs": [
        {
          "data": {
            "image/png": "[encoded data removed]",
            "text/plain": [
              "<Figure size 432x288 with 1 Axes>"
            ]
          },
          "metadata": {
            "needs_background": "light"
          },
          "output_type": "display_data"
        }
      ],
      "source": [
        "plt.boxplot(x=retail['quantity'])\n",
        "plt.show()"
      ]
    },
    {
      "cell_type": "markdown",
      "metadata": {
        "id": "upIS822nvNHw"
      },
      "source": [
        "Очень много выбросов, оставем только те строки, в которых значения столбца не превышают 96-й перцентиль."
      ]
    },
    {
      "cell_type": "code",
      "execution_count": null,
      "metadata": {
        "id": "_meVbOXCvNHw"
      },
      "outputs": [],
      "source": [
        "retail = retail[~(retail['quantity'] > np.nanpercentile(retail['quantity'], 96))]"
      ]
    },
    {
      "cell_type": "code",
      "execution_count": null,
      "metadata": {
        "id": "aOe9hvOlvNHw",
        "outputId": "7a17418b-e899-40a8-e965-d27570f25400"
      },
      "outputs": [
        {
          "data": {
            "image/png": "[encoded data removed]",
            "text/plain": [
              "<Figure size 432x288 with 1 Axes>"
            ]
          },
          "metadata": {
            "needs_background": "light"
          },
          "output_type": "display_data"
        }
      ],
      "source": [
        "plt.boxplot(x=retail['quantity'])\n",
        "plt.show()"
      ]
    },
    {
      "cell_type": "code",
      "execution_count": null,
      "metadata": {
        "id": "L8qM93j9vNHw",
        "outputId": "da2965d8-f0c0-43e3-cb9f-8fc8a7124df4"
      },
      "outputs": [
        {
          "data": {
            "text/html": [
              "<div>\n",
              "<style scoped>\n",
              "    .dataframe tbody tr th:only-of-type {\n",
              "        vertical-align: middle;\n",
              "    }\n",
              "\n",
              "    .dataframe tbody tr th {\n",
              "        vertical-align: top;\n",
              "    }\n",
              "\n",
              "    .dataframe thead th {\n",
              "        text-align: right;\n",
              "    }\n",
              "</style>\n",
              "<table border=\"1\" class=\"dataframe\">\n",
              "  <thead>\n",
              "    <tr style=\"text-align: right;\">\n",
              "      <th></th>\n",
              "      <th>purchase_id</th>\n",
              "      <th>item_id</th>\n",
              "      <th>quantity</th>\n",
              "      <th>purchase_date</th>\n",
              "      <th>customer_id</th>\n",
              "      <th>shop_id</th>\n",
              "      <th>loyalty_program</th>\n",
              "    </tr>\n",
              "  </thead>\n",
              "  <tbody>\n",
              "    <tr>\n",
              "      <th>71489</th>\n",
              "      <td>539088</td>\n",
              "      <td>22768</td>\n",
              "      <td>31</td>\n",
              "      <td>2016-12-16 09:45:00</td>\n",
              "      <td>18,772.000</td>\n",
              "      <td>Shop 0</td>\n",
              "      <td>0.000</td>\n",
              "    </tr>\n",
              "    <tr>\n",
              "      <th>4868</th>\n",
              "      <td>544778</td>\n",
              "      <td>21166</td>\n",
              "      <td>0</td>\n",
              "      <td>2017-02-23 12:03:00</td>\n",
              "      <td>20,657.000</td>\n",
              "      <td>Shop 0</td>\n",
              "      <td>0.000</td>\n",
              "    </tr>\n",
              "    <tr>\n",
              "      <th>67287</th>\n",
              "      <td>540473</td>\n",
              "      <td>84997B</td>\n",
              "      <td>1</td>\n",
              "      <td>2017-01-07 14:31:00</td>\n",
              "      <td>22,963.000</td>\n",
              "      <td>Shop 0</td>\n",
              "      <td>1.000</td>\n",
              "    </tr>\n",
              "    <tr>\n",
              "      <th>97915</th>\n",
              "      <td>545166</td>\n",
              "      <td>22507</td>\n",
              "      <td>0</td>\n",
              "      <td>2017-02-28 14:03:00</td>\n",
              "      <td>22,706.000</td>\n",
              "      <td>Shop 0</td>\n",
              "      <td>1.000</td>\n",
              "    </tr>\n",
              "    <tr>\n",
              "      <th>56891</th>\n",
              "      <td>542890</td>\n",
              "      <td>22170</td>\n",
              "      <td>1</td>\n",
              "      <td>2017-02-01 13:25:00</td>\n",
              "      <td>20,990.000</td>\n",
              "      <td>Shop 0</td>\n",
              "      <td>0.000</td>\n",
              "    </tr>\n",
              "    <tr>\n",
              "      <th>91022</th>\n",
              "      <td>538349</td>\n",
              "      <td>22124</td>\n",
              "      <td>2</td>\n",
              "      <td>2016-12-10 14:59:00</td>\n",
              "      <td>NaN</td>\n",
              "      <td>Shop 0</td>\n",
              "      <td>0.000</td>\n",
              "    </tr>\n",
              "    <tr>\n",
              "      <th>13697</th>\n",
              "      <td>538853</td>\n",
              "      <td>22285</td>\n",
              "      <td>2</td>\n",
              "      <td>2016-12-14 13:35:00</td>\n",
              "      <td>22,484.000</td>\n",
              "      <td>Shop 0</td>\n",
              "      <td>1.000</td>\n",
              "    </tr>\n",
              "    <tr>\n",
              "      <th>67456</th>\n",
              "      <td>540545</td>\n",
              "      <td>22348</td>\n",
              "      <td>11</td>\n",
              "      <td>2017-01-09 15:35:00</td>\n",
              "      <td>19,130.000</td>\n",
              "      <td>Shop 0</td>\n",
              "      <td>0.000</td>\n",
              "    </tr>\n",
              "    <tr>\n",
              "      <th>47549</th>\n",
              "      <td>542898</td>\n",
              "      <td>22560</td>\n",
              "      <td>1</td>\n",
              "      <td>2017-02-01 14:01:00</td>\n",
              "      <td>21,789.000</td>\n",
              "      <td>Shop 0</td>\n",
              "      <td>0.000</td>\n",
              "    </tr>\n",
              "    <tr>\n",
              "      <th>89636</th>\n",
              "      <td>539736</td>\n",
              "      <td>37370</td>\n",
              "      <td>0</td>\n",
              "      <td>2016-12-21 15:18:00</td>\n",
              "      <td>NaN</td>\n",
              "      <td>Shop 0</td>\n",
              "      <td>0.000</td>\n",
              "    </tr>\n",
              "  </tbody>\n",
              "</table>\n",
              "</div>"
            ],
            "text/plain": [
              "      purchase_id item_id  quantity       purchase_date  customer_id shop_id  \\\n",
              "71489      539088   22768        31 2016-12-16 09:45:00   18,772.000  Shop 0   \n",
              "4868       544778   21166         0 2017-02-23 12:03:00   20,657.000  Shop 0   \n",
              "67287      540473  84997B         1 2017-01-07 14:31:00   22,963.000  Shop 0   \n",
              "97915      545166   22507         0 2017-02-28 14:03:00   22,706.000  Shop 0   \n",
              "56891      542890   22170         1 2017-02-01 13:25:00   20,990.000  Shop 0   \n",
              "91022      538349   22124         2 2016-12-10 14:59:00          NaN  Shop 0   \n",
              "13697      538853   22285         2 2016-12-14 13:35:00   22,484.000  Shop 0   \n",
              "67456      540545   22348        11 2017-01-09 15:35:00   19,130.000  Shop 0   \n",
              "47549      542898   22560         1 2017-02-01 14:01:00   21,789.000  Shop 0   \n",
              "89636      539736   37370         0 2016-12-21 15:18:00          NaN  Shop 0   \n",
              "\n",
              "       loyalty_program  \n",
              "71489            0.000  \n",
              "4868             0.000  \n",
              "67287            1.000  \n",
              "97915            1.000  \n",
              "56891            0.000  \n",
              "91022            0.000  \n",
              "13697            1.000  \n",
              "67456            0.000  \n",
              "47549            0.000  \n",
              "89636            0.000  "
            ]
          },
          "execution_count": 29,
          "metadata": {},
          "output_type": "execute_result"
        }
      ],
      "source": [
        "retail.sample(10)"
      ]
    },
    {
      "cell_type": "markdown",
      "metadata": {
        "id": "Vf4_07QVvNHw"
      },
      "source": [
        "### data"
      ]
    },
    {
      "cell_type": "code",
      "execution_count": null,
      "metadata": {
        "id": "FRkgSB5uvNHw",
        "outputId": "837218b4-7cca-4d88-8ebe-16f43ec54220"
      },
      "outputs": [
        {
          "data": {
            "text/html": [
              "<div>\n",
              "<style scoped>\n",
              "    .dataframe tbody tr th:only-of-type {\n",
              "        vertical-align: middle;\n",
              "    }\n",
              "\n",
              "    .dataframe tbody tr th {\n",
              "        vertical-align: top;\n",
              "    }\n",
              "\n",
              "    .dataframe thead th {\n",
              "        text-align: right;\n",
              "    }\n",
              "</style>\n",
              "<table border=\"1\" class=\"dataframe\">\n",
              "  <thead>\n",
              "    <tr style=\"text-align: right;\">\n",
              "      <th></th>\n",
              "      <th>purchase_id</th>\n",
              "      <th>item_id</th>\n",
              "      <th>quantity</th>\n",
              "      <th>purchase_date</th>\n",
              "      <th>customer_id</th>\n",
              "      <th>shop_id</th>\n",
              "      <th>loyalty_program</th>\n",
              "      <th>price_per_one</th>\n",
              "    </tr>\n",
              "  </thead>\n",
              "  <tbody>\n",
              "    <tr>\n",
              "      <th>0</th>\n",
              "      <td>538280</td>\n",
              "      <td>21873</td>\n",
              "      <td>11</td>\n",
              "      <td>2016-12-10 12:50:00</td>\n",
              "      <td>18,427.000</td>\n",
              "      <td>Shop 0</td>\n",
              "      <td>0.000</td>\n",
              "      <td>1.630</td>\n",
              "    </tr>\n",
              "    <tr>\n",
              "      <th>1</th>\n",
              "      <td>541104</td>\n",
              "      <td>21873</td>\n",
              "      <td>0</td>\n",
              "      <td>2017-01-13 14:29:00</td>\n",
              "      <td>NaN</td>\n",
              "      <td>Shop 0</td>\n",
              "      <td>0.000</td>\n",
              "      <td>1.630</td>\n",
              "    </tr>\n",
              "    <tr>\n",
              "      <th>2</th>\n",
              "      <td>540418</td>\n",
              "      <td>21873</td>\n",
              "      <td>1</td>\n",
              "      <td>2017-01-07 11:04:00</td>\n",
              "      <td>NaN</td>\n",
              "      <td>Shop 0</td>\n",
              "      <td>0.000</td>\n",
              "      <td>1.630</td>\n",
              "    </tr>\n",
              "    <tr>\n",
              "      <th>3</th>\n",
              "      <td>541516</td>\n",
              "      <td>21873</td>\n",
              "      <td>2</td>\n",
              "      <td>2017-01-18 17:34:00</td>\n",
              "      <td>NaN</td>\n",
              "      <td>Shop 0</td>\n",
              "      <td>0.000</td>\n",
              "      <td>1.630</td>\n",
              "    </tr>\n",
              "    <tr>\n",
              "      <th>4</th>\n",
              "      <td>541566</td>\n",
              "      <td>21873</td>\n",
              "      <td>35</td>\n",
              "      <td>2017-01-19 11:50:00</td>\n",
              "      <td>23,401.000</td>\n",
              "      <td>Shop 0</td>\n",
              "      <td>1.000</td>\n",
              "      <td>1.630</td>\n",
              "    </tr>\n",
              "    <tr>\n",
              "      <th>5</th>\n",
              "      <td>538843</td>\n",
              "      <td>21873</td>\n",
              "      <td>1</td>\n",
              "      <td>2016-12-14 13:18:00</td>\n",
              "      <td>21,712.000</td>\n",
              "      <td>Shop 0</td>\n",
              "      <td>0.000</td>\n",
              "      <td>1.630</td>\n",
              "    </tr>\n",
              "    <tr>\n",
              "      <th>6</th>\n",
              "      <td>540838</td>\n",
              "      <td>21873</td>\n",
              "      <td>11</td>\n",
              "      <td>2017-01-11 15:13:00</td>\n",
              "      <td>19,541.000</td>\n",
              "      <td>Shop 0</td>\n",
              "      <td>0.000</td>\n",
              "      <td>1.630</td>\n",
              "    </tr>\n",
              "    <tr>\n",
              "      <th>7</th>\n",
              "      <td>543592</td>\n",
              "      <td>21873</td>\n",
              "      <td>5</td>\n",
              "      <td>2017-02-10 11:57:00</td>\n",
              "      <td>22,922.000</td>\n",
              "      <td>Shop 0</td>\n",
              "      <td>1.000</td>\n",
              "      <td>1.630</td>\n",
              "    </tr>\n",
              "    <tr>\n",
              "      <th>8</th>\n",
              "      <td>545062</td>\n",
              "      <td>21873</td>\n",
              "      <td>0</td>\n",
              "      <td>2017-02-27 14:07:00</td>\n",
              "      <td>18,427.000</td>\n",
              "      <td>Shop 0</td>\n",
              "      <td>0.000</td>\n",
              "      <td>1.630</td>\n",
              "    </tr>\n",
              "    <tr>\n",
              "      <th>9</th>\n",
              "      <td>540480</td>\n",
              "      <td>21873</td>\n",
              "      <td>11</td>\n",
              "      <td>2017-01-07 15:27:00</td>\n",
              "      <td>18,159.000</td>\n",
              "      <td>Shop 4</td>\n",
              "      <td>0.000</td>\n",
              "      <td>1.630</td>\n",
              "    </tr>\n",
              "  </tbody>\n",
              "</table>\n",
              "</div>"
            ],
            "text/plain": [
              "  purchase_id item_id  quantity       purchase_date  customer_id shop_id  \\\n",
              "0      538280   21873        11 2016-12-10 12:50:00   18,427.000  Shop 0   \n",
              "1      541104   21873         0 2017-01-13 14:29:00          NaN  Shop 0   \n",
              "2      540418   21873         1 2017-01-07 11:04:00          NaN  Shop 0   \n",
              "3      541516   21873         2 2017-01-18 17:34:00          NaN  Shop 0   \n",
              "4      541566   21873        35 2017-01-19 11:50:00   23,401.000  Shop 0   \n",
              "5      538843   21873         1 2016-12-14 13:18:00   21,712.000  Shop 0   \n",
              "6      540838   21873        11 2017-01-11 15:13:00   19,541.000  Shop 0   \n",
              "7      543592   21873         5 2017-02-10 11:57:00   22,922.000  Shop 0   \n",
              "8      545062   21873         0 2017-02-27 14:07:00   18,427.000  Shop 0   \n",
              "9      540480   21873        11 2017-01-07 15:27:00   18,159.000  Shop 4   \n",
              "\n",
              "   loyalty_program  price_per_one  \n",
              "0            0.000          1.630  \n",
              "1            0.000          1.630  \n",
              "2            0.000          1.630  \n",
              "3            0.000          1.630  \n",
              "4            1.000          1.630  \n",
              "5            0.000          1.630  \n",
              "6            0.000          1.630  \n",
              "7            1.000          1.630  \n",
              "8            0.000          1.630  \n",
              "9            0.000          1.630  "
            ]
          },
          "execution_count": 30,
          "metadata": {},
          "output_type": "execute_result"
        }
      ],
      "source": [
        "#соединим два датафрейма в один\n",
        "data = retail.merge(product_codes, left_on='item_id', right_on='product_id', how='inner')\n",
        "data = data.drop('product_id', axis=1)\n",
        "data.head(10)"
      ]
    },
    {
      "cell_type": "code",
      "execution_count": null,
      "metadata": {
        "id": "eY_VXVrFvNHx",
        "outputId": "dd362fb1-44e4-499d-f570-6a6bfe88e554"
      },
      "outputs": [
        {
          "data": {
            "text/html": [
              "<div>\n",
              "<style scoped>\n",
              "    .dataframe tbody tr th:only-of-type {\n",
              "        vertical-align: middle;\n",
              "    }\n",
              "\n",
              "    .dataframe tbody tr th {\n",
              "        vertical-align: top;\n",
              "    }\n",
              "\n",
              "    .dataframe thead th {\n",
              "        text-align: right;\n",
              "    }\n",
              "</style>\n",
              "<table border=\"1\" class=\"dataframe\">\n",
              "  <thead>\n",
              "    <tr style=\"text-align: right;\">\n",
              "      <th></th>\n",
              "      <th>purchase_id</th>\n",
              "      <th>item_id</th>\n",
              "      <th>quantity</th>\n",
              "      <th>purchase_date</th>\n",
              "      <th>customer_id</th>\n",
              "      <th>shop_id</th>\n",
              "      <th>loyalty_program</th>\n",
              "      <th>price_per_one</th>\n",
              "      <th>revenue</th>\n",
              "    </tr>\n",
              "  </thead>\n",
              "  <tbody>\n",
              "    <tr>\n",
              "      <th>0</th>\n",
              "      <td>538280</td>\n",
              "      <td>21873</td>\n",
              "      <td>11</td>\n",
              "      <td>2016-12-10 12:50:00</td>\n",
              "      <td>18,427.000</td>\n",
              "      <td>Shop 0</td>\n",
              "      <td>0.000</td>\n",
              "      <td>1.630</td>\n",
              "      <td>17.930</td>\n",
              "    </tr>\n",
              "    <tr>\n",
              "      <th>1</th>\n",
              "      <td>541104</td>\n",
              "      <td>21873</td>\n",
              "      <td>0</td>\n",
              "      <td>2017-01-13 14:29:00</td>\n",
              "      <td>NaN</td>\n",
              "      <td>Shop 0</td>\n",
              "      <td>0.000</td>\n",
              "      <td>1.630</td>\n",
              "      <td>0.000</td>\n",
              "    </tr>\n",
              "    <tr>\n",
              "      <th>2</th>\n",
              "      <td>540418</td>\n",
              "      <td>21873</td>\n",
              "      <td>1</td>\n",
              "      <td>2017-01-07 11:04:00</td>\n",
              "      <td>NaN</td>\n",
              "      <td>Shop 0</td>\n",
              "      <td>0.000</td>\n",
              "      <td>1.630</td>\n",
              "      <td>1.630</td>\n",
              "    </tr>\n",
              "    <tr>\n",
              "      <th>3</th>\n",
              "      <td>541516</td>\n",
              "      <td>21873</td>\n",
              "      <td>2</td>\n",
              "      <td>2017-01-18 17:34:00</td>\n",
              "      <td>NaN</td>\n",
              "      <td>Shop 0</td>\n",
              "      <td>0.000</td>\n",
              "      <td>1.630</td>\n",
              "      <td>3.260</td>\n",
              "    </tr>\n",
              "    <tr>\n",
              "      <th>4</th>\n",
              "      <td>541566</td>\n",
              "      <td>21873</td>\n",
              "      <td>35</td>\n",
              "      <td>2017-01-19 11:50:00</td>\n",
              "      <td>23,401.000</td>\n",
              "      <td>Shop 0</td>\n",
              "      <td>1.000</td>\n",
              "      <td>1.630</td>\n",
              "      <td>57.050</td>\n",
              "    </tr>\n",
              "    <tr>\n",
              "      <th>5</th>\n",
              "      <td>538843</td>\n",
              "      <td>21873</td>\n",
              "      <td>1</td>\n",
              "      <td>2016-12-14 13:18:00</td>\n",
              "      <td>21,712.000</td>\n",
              "      <td>Shop 0</td>\n",
              "      <td>0.000</td>\n",
              "      <td>1.630</td>\n",
              "      <td>1.630</td>\n",
              "    </tr>\n",
              "    <tr>\n",
              "      <th>6</th>\n",
              "      <td>540838</td>\n",
              "      <td>21873</td>\n",
              "      <td>11</td>\n",
              "      <td>2017-01-11 15:13:00</td>\n",
              "      <td>19,541.000</td>\n",
              "      <td>Shop 0</td>\n",
              "      <td>0.000</td>\n",
              "      <td>1.630</td>\n",
              "      <td>17.930</td>\n",
              "    </tr>\n",
              "    <tr>\n",
              "      <th>7</th>\n",
              "      <td>543592</td>\n",
              "      <td>21873</td>\n",
              "      <td>5</td>\n",
              "      <td>2017-02-10 11:57:00</td>\n",
              "      <td>22,922.000</td>\n",
              "      <td>Shop 0</td>\n",
              "      <td>1.000</td>\n",
              "      <td>1.630</td>\n",
              "      <td>8.150</td>\n",
              "    </tr>\n",
              "    <tr>\n",
              "      <th>8</th>\n",
              "      <td>545062</td>\n",
              "      <td>21873</td>\n",
              "      <td>0</td>\n",
              "      <td>2017-02-27 14:07:00</td>\n",
              "      <td>18,427.000</td>\n",
              "      <td>Shop 0</td>\n",
              "      <td>0.000</td>\n",
              "      <td>1.630</td>\n",
              "      <td>0.000</td>\n",
              "    </tr>\n",
              "    <tr>\n",
              "      <th>9</th>\n",
              "      <td>540480</td>\n",
              "      <td>21873</td>\n",
              "      <td>11</td>\n",
              "      <td>2017-01-07 15:27:00</td>\n",
              "      <td>18,159.000</td>\n",
              "      <td>Shop 4</td>\n",
              "      <td>0.000</td>\n",
              "      <td>1.630</td>\n",
              "      <td>17.930</td>\n",
              "    </tr>\n",
              "  </tbody>\n",
              "</table>\n",
              "</div>"
            ],
            "text/plain": [
              "  purchase_id item_id  quantity       purchase_date  customer_id shop_id  \\\n",
              "0      538280   21873        11 2016-12-10 12:50:00   18,427.000  Shop 0   \n",
              "1      541104   21873         0 2017-01-13 14:29:00          NaN  Shop 0   \n",
              "2      540418   21873         1 2017-01-07 11:04:00          NaN  Shop 0   \n",
              "3      541516   21873         2 2017-01-18 17:34:00          NaN  Shop 0   \n",
              "4      541566   21873        35 2017-01-19 11:50:00   23,401.000  Shop 0   \n",
              "5      538843   21873         1 2016-12-14 13:18:00   21,712.000  Shop 0   \n",
              "6      540838   21873        11 2017-01-11 15:13:00   19,541.000  Shop 0   \n",
              "7      543592   21873         5 2017-02-10 11:57:00   22,922.000  Shop 0   \n",
              "8      545062   21873         0 2017-02-27 14:07:00   18,427.000  Shop 0   \n",
              "9      540480   21873        11 2017-01-07 15:27:00   18,159.000  Shop 4   \n",
              "\n",
              "   loyalty_program  price_per_one  revenue  \n",
              "0            0.000          1.630   17.930  \n",
              "1            0.000          1.630    0.000  \n",
              "2            0.000          1.630    1.630  \n",
              "3            0.000          1.630    3.260  \n",
              "4            1.000          1.630   57.050  \n",
              "5            0.000          1.630    1.630  \n",
              "6            0.000          1.630   17.930  \n",
              "7            1.000          1.630    8.150  \n",
              "8            0.000          1.630    0.000  \n",
              "9            0.000          1.630   17.930  "
            ]
          },
          "execution_count": 31,
          "metadata": {},
          "output_type": "execute_result"
        }
      ],
      "source": [
        "data['revenue'] = data['quantity'] * data['price_per_one']\n",
        "data.head(10)"
      ]
    },
    {
      "cell_type": "code",
      "execution_count": null,
      "metadata": {
        "id": "iqM_EdiQvNHx",
        "outputId": "e9530b24-4705-4fbf-cf32-2bf49e01f11d"
      },
      "outputs": [
        {
          "name": "stdout",
          "output_type": "stream",
          "text": [
            "<class 'pandas.core.frame.DataFrame'>\n",
            "Int64Index: 96606 entries, 0 to 96605\n",
            "Data columns (total 9 columns):\n",
            " #   Column           Non-Null Count  Dtype         \n",
            "---  ------           --------------  -----         \n",
            " 0   purchase_id      96606 non-null  object        \n",
            " 1   item_id          96606 non-null  object        \n",
            " 2   quantity         96606 non-null  int64         \n",
            " 3   purchase_date    96606 non-null  datetime64[ns]\n",
            " 4   customer_id      61894 non-null  float64       \n",
            " 5   shop_id          96606 non-null  object        \n",
            " 6   loyalty_program  96606 non-null  float64       \n",
            " 7   price_per_one    96606 non-null  float64       \n",
            " 8   revenue          96606 non-null  float64       \n",
            "dtypes: datetime64[ns](1), float64(4), int64(1), object(3)\n",
            "memory usage: 7.4+ MB\n"
          ]
        }
      ],
      "source": [
        "data.info()"
      ]
    },
    {
      "cell_type": "markdown",
      "metadata": {
        "id": "iFisED7BvNHx"
      },
      "source": [
        "По итогу предобработки данных были оставлены дубликаты, проведена работа с выбросами, столбцы приведены к единому стилю и необходимым типам, получен датафрейм для анализа данных."
      ]
    },
    {
      "cell_type": "markdown",
      "metadata": {
        "id": "R848yT1IvNHx"
      },
      "source": [
        "## EDA"
      ]
    },
    {
      "cell_type": "markdown",
      "metadata": {
        "id": "w9bZiLKyvNHx"
      },
      "source": [
        "Рассчитаем общее количество покупок и число уникальных покупателей."
      ]
    },
    {
      "cell_type": "code",
      "execution_count": null,
      "metadata": {
        "id": "xA6ft6WCvNHx",
        "outputId": "6850701a-b067-49c5-e44b-b58f9def52be"
      },
      "outputs": [
        {
          "name": "stdout",
          "output_type": "stream",
          "text": [
            "Общее количество покупок:  4319\n",
            "Число уникальных покупателей:  1666\n"
          ]
        }
      ],
      "source": [
        "print('Общее количество покупок: ', data['purchase_id'].nunique())\n",
        "print('Число уникальных покупателей: ', data['customer_id'].nunique())"
      ]
    },
    {
      "cell_type": "markdown",
      "metadata": {
        "id": "EdbGoytqvNHx"
      },
      "source": [
        "Рассчитаем общую сумму продаж."
      ]
    },
    {
      "cell_type": "code",
      "execution_count": null,
      "metadata": {
        "id": "_YvQFdTRvNHy",
        "outputId": "fe5df12d-0081-4a9c-8204-563da695aec4"
      },
      "outputs": [
        {
          "name": "stdout",
          "output_type": "stream",
          "text": [
            "Общая сумма продаж:  1271183 2\n"
          ]
        }
      ],
      "source": [
        "print('Общая сумма продаж: ', round((data['quantity'] * data['price_per_one']).sum()), 2)"
      ]
    },
    {
      "cell_type": "markdown",
      "metadata": {
        "id": "CgeGhtxhvNHy"
      },
      "source": [
        "Посмотрим сколько лояльных клиентов представлена и каков их процент, а также количество нелояльных клиентов."
      ]
    },
    {
      "cell_type": "code",
      "execution_count": null,
      "metadata": {
        "id": "o7RtbevovNHy",
        "outputId": "691d7da0-6e50-4a4f-ea99-7d540c6933dd"
      },
      "outputs": [
        {
          "name": "stdout",
          "output_type": "stream",
          "text": [
            "Количество лояльных клиентов: 563\n",
            "В программе лояльности учавствуют:  33.79 %\n",
            "Количество нелояльных клиентов: 1103\n"
          ]
        }
      ],
      "source": [
        "loyalty = data.query('loyalty_program == 1')\n",
        "not_loyalty = data.query('loyalty_program == 0')\n",
        "\n",
        "#количество лояльных и нелояльных клиентов\n",
        "loyalty_count = loyalty['customer_id'].nunique()\n",
        "print(f'Количество лояльных клиентов: {loyalty_count}')\n",
        "print('В программе лояльности учавствуют: ', round(loyalty_count / data['customer_id'].nunique() * 100, 2), '%')\n",
        "not_loyalty_count = not_loyalty['customer_id'].nunique()\n",
        "print(f'Количество нелояльных клиентов: {not_loyalty_count}')"
      ]
    },
    {
      "cell_type": "code",
      "execution_count": null,
      "metadata": {
        "id": "W0hLd10-vNHy",
        "outputId": "ea6a24ff-3e3e-4169-f791-cf4314b901f5"
      },
      "outputs": [
        {
          "data": {
            "image/png": "[encoded data removed]",
            "text/plain": [
              "<Figure size 576x576 with 1 Axes>"
            ]
          },
          "metadata": {},
          "output_type": "display_data"
        }
      ],
      "source": [
        "#построим круговую диаграмму\n",
        "values = [loyalty_count, not_loyalty_count]  # Список значений\n",
        "labels = ['Лояльные клиенты', 'Нелояльные клиенты']  # Список меток\n",
        "\n",
        "plt.figure(figsize=(8, 8))\n",
        "plt.pie(values, labels=labels, autopct='%1.1f%%', counterclock=False, shadow=True, colors=['beige', 'palevioletred'])\n",
        "plt.axis('equal')\n",
        "plt.show()"
      ]
    },
    {
      "cell_type": "markdown",
      "metadata": {
        "id": "xn1dL_c2vNHy"
      },
      "source": [
        "Рассчитаем среднее количество покупок на одного уникального покупателя, на одного лояльного клиента и на одного нелояльного клиента.\n"
      ]
    },
    {
      "cell_type": "code",
      "execution_count": null,
      "metadata": {
        "id": "uW0jBNoBvNHy",
        "outputId": "3f5f1f7f-99a7-444d-d010-9cb4e16bc42d"
      },
      "outputs": [
        {
          "name": "stdout",
          "output_type": "stream",
          "text": [
            "Среднее количество покупок на одного уникального покупателя: 2\n",
            "Среднее количество покупок на одного лояльного клиента:  2\n",
            "Среднее количество покупок на одного нелояльного клиента:  3\n"
          ]
        }
      ],
      "source": [
        "print('Среднее количество покупок на одного уникального покупателя:' , round(data.dropna(subset=['customer_id'])['purchase_id'].nunique() / data['customer_id'].nunique()))\n",
        "print('Среднее количество покупок на одного лояльного клиента: ', round(loyalty['purchase_id'].nunique() / loyalty_count ))\n",
        "print('Среднее количество покупок на одного нелояльного клиента: ', round(not_loyalty['purchase_id'].nunique() / not_loyalty_count))"
      ]
    },
    {
      "cell_type": "markdown",
      "metadata": {
        "id": "PTgXMSFQvNHz"
      },
      "source": [
        "Среднее количество покупок на одного нелояльного клиента выше, чем для лояльного."
      ]
    },
    {
      "cell_type": "markdown",
      "metadata": {
        "id": "r6vLd7ZBvNHz"
      },
      "source": [
        "### распределение количества товаров в каждой покупке, среднее количество товаров в чеке"
      ]
    },
    {
      "cell_type": "code",
      "execution_count": null,
      "metadata": {
        "id": "H7Mzh5EdvNHz",
        "outputId": "2cba3d34-29fa-4ff1-cb79-7c68d8978637"
      },
      "outputs": [
        {
          "data": {
            "image/png": "[encoded data removed]",
            "text/plain": [
              "<Figure size 864x576 with 1 Axes>"
            ]
          },
          "metadata": {
            "needs_background": "light"
          },
          "output_type": "display_data"
        }
      ],
      "source": [
        "#построим гистограмму для данных сгруппированных по purchase_id\n",
        "plt.figure(figsize=(12, 8))\n",
        "plt.hist(data.groupby('purchase_id')['quantity'].sum(), bins='auto', edgecolor='black')\n",
        "\n",
        "plt.xlabel('Количество товаров в покупке')\n",
        "plt.ylabel('Частота')\n",
        "plt.title('Распределение количества товаров в каждой покупке')\n",
        "plt.show()"
      ]
    },
    {
      "cell_type": "markdown",
      "metadata": {
        "id": "5aI__0YBvNHz"
      },
      "source": [
        "В большинстве своём количество товаров в чеке до 15 шт, 30 шт встречается в 2.5 раза меньше и далее по убыванию, чем больше товаров в чеке, тем реже встречаются такие чеки."
      ]
    },
    {
      "cell_type": "code",
      "execution_count": null,
      "metadata": {
        "id": "qZgNclbQvNHz",
        "outputId": "4702c642-f63f-40a4-be34-dc533f3f5fe9"
      },
      "outputs": [
        {
          "name": "stdout",
          "output_type": "stream",
          "text": [
            "Наиболее встречаемое количество товаров в чеке:  2\n"
          ]
        }
      ],
      "source": [
        "print('Наиболее встречаемое количество товаров в чеке: ', mode(data.groupby('purchase_id')['quantity'].sum()))"
      ]
    },
    {
      "cell_type": "markdown",
      "metadata": {
        "id": "VMzjQjZbvNH0"
      },
      "source": [
        "### топ-10 товаров"
      ]
    },
    {
      "cell_type": "markdown",
      "metadata": {
        "id": "II2TAETMvNH0"
      },
      "source": [
        "Определим топ-10 товаров для лояльных и нелояльных клиентов."
      ]
    },
    {
      "cell_type": "code",
      "execution_count": null,
      "metadata": {
        "id": "Wb0DXhTQvNH0",
        "outputId": "2f2a2115-f5b5-48f2-cd59-baa03b861403"
      },
      "outputs": [
        {
          "data": {
            "text/html": [
              "<div>\n",
              "<style scoped>\n",
              "    .dataframe tbody tr th:only-of-type {\n",
              "        vertical-align: middle;\n",
              "    }\n",
              "\n",
              "    .dataframe tbody tr th {\n",
              "        vertical-align: top;\n",
              "    }\n",
              "\n",
              "    .dataframe thead th {\n",
              "        text-align: right;\n",
              "    }\n",
              "</style>\n",
              "<table border=\"1\" class=\"dataframe\">\n",
              "  <thead>\n",
              "    <tr style=\"text-align: right;\">\n",
              "      <th></th>\n",
              "      <th>item_id</th>\n",
              "      <th>quantity</th>\n",
              "      <th>%</th>\n",
              "    </tr>\n",
              "  </thead>\n",
              "  <tbody>\n",
              "    <tr>\n",
              "      <th>2088</th>\n",
              "      <td>85123A</td>\n",
              "      <td>1405</td>\n",
              "      <td>19.977</td>\n",
              "    </tr>\n",
              "    <tr>\n",
              "      <th>1959</th>\n",
              "      <td>84879</td>\n",
              "      <td>828</td>\n",
              "      <td>11.773</td>\n",
              "    </tr>\n",
              "    <tr>\n",
              "      <th>1526</th>\n",
              "      <td>22961</td>\n",
              "      <td>643</td>\n",
              "      <td>9.143</td>\n",
              "    </tr>\n",
              "    <tr>\n",
              "      <th>1533</th>\n",
              "      <td>22969</td>\n",
              "      <td>640</td>\n",
              "      <td>9.100</td>\n",
              "    </tr>\n",
              "    <tr>\n",
              "      <th>1775</th>\n",
              "      <td>79321</td>\n",
              "      <td>608</td>\n",
              "      <td>8.645</td>\n",
              "    </tr>\n",
              "    <tr>\n",
              "      <th>729</th>\n",
              "      <td>21985</td>\n",
              "      <td>602</td>\n",
              "      <td>8.560</td>\n",
              "    </tr>\n",
              "    <tr>\n",
              "      <th>2078</th>\n",
              "      <td>85099B</td>\n",
              "      <td>600</td>\n",
              "      <td>8.531</td>\n",
              "    </tr>\n",
              "    <tr>\n",
              "      <th>1115</th>\n",
              "      <td>22469</td>\n",
              "      <td>598</td>\n",
              "      <td>8.503</td>\n",
              "    </tr>\n",
              "    <tr>\n",
              "      <th>1134</th>\n",
              "      <td>22492</td>\n",
              "      <td>569</td>\n",
              "      <td>8.090</td>\n",
              "    </tr>\n",
              "    <tr>\n",
              "      <th>317</th>\n",
              "      <td>21212</td>\n",
              "      <td>540</td>\n",
              "      <td>7.678</td>\n",
              "    </tr>\n",
              "  </tbody>\n",
              "</table>\n",
              "</div>"
            ],
            "text/plain": [
              "     item_id  quantity      %\n",
              "2088  85123A      1405 19.977\n",
              "1959   84879       828 11.773\n",
              "1526   22961       643  9.143\n",
              "1533   22969       640  9.100\n",
              "1775   79321       608  8.645\n",
              "729    21985       602  8.560\n",
              "2078  85099B       600  8.531\n",
              "1115   22469       598  8.503\n",
              "1134   22492       569  8.090\n",
              "317    21212       540  7.678"
            ]
          },
          "execution_count": 40,
          "metadata": {},
          "output_type": "execute_result"
        }
      ],
      "source": [
        "top_10_loyalty = (loyalty\n",
        "          .groupby('item_id')['quantity'].sum()\n",
        "          .reset_index()\n",
        "          #.rename(columns={'quantity': 'sum_quantity'})\n",
        "          .sort_values(by='quantity', ascending=False)\n",
        "          .head(10))\n",
        "\n",
        "top_10_loyalty['%'] = top_10_loyalty['quantity'] / sum(top_10_loyalty['quantity']) * 100\n",
        "top_10_loyalty"
      ]
    },
    {
      "cell_type": "code",
      "execution_count": null,
      "metadata": {
        "id": "5wwWt0PCvNH0",
        "outputId": "e8cd211e-5b2d-4def-8e5c-509789fb12ec"
      },
      "outputs": [
        {
          "data": {
            "image/png": "[encoded data removed]",
            "text/plain": [
              "<Figure size 864x576 with 1 Axes>"
            ]
          },
          "metadata": {
            "needs_background": "light"
          },
          "output_type": "display_data"
        }
      ],
      "source": [
        "plt.figure(figsize=(12, 8))\n",
        "colors = sns.color_palette('Set3', n_colors=10)\n",
        "plt.bar(top_10_loyalty['item_id'], top_10_loyalty['quantity'], color=colors)\n",
        "\n",
        "\n",
        "plt.xlabel('Товары')\n",
        "plt.ylabel('Объем продаж')\n",
        "plt.title('Топ 10 товаров по объему продаж лояльных клиентов')\n",
        "plt.show()"
      ]
    },
    {
      "cell_type": "markdown",
      "metadata": {
        "id": "7zDYLR4WvNH0"
      },
      "source": [
        "Наиболее продающийся товар лояльных клиентов - 85123A - около 20% продаж."
      ]
    },
    {
      "cell_type": "code",
      "execution_count": null,
      "metadata": {
        "id": "_Co68ORuvNH0",
        "outputId": "e0f03c27-17b1-4469-b9fe-ecba486b29d7"
      },
      "outputs": [
        {
          "data": {
            "text/html": [
              "<div>\n",
              "<style scoped>\n",
              "    .dataframe tbody tr th:only-of-type {\n",
              "        vertical-align: middle;\n",
              "    }\n",
              "\n",
              "    .dataframe tbody tr th {\n",
              "        vertical-align: top;\n",
              "    }\n",
              "\n",
              "    .dataframe thead th {\n",
              "        text-align: right;\n",
              "    }\n",
              "</style>\n",
              "<table border=\"1\" class=\"dataframe\">\n",
              "  <thead>\n",
              "    <tr style=\"text-align: right;\">\n",
              "      <th></th>\n",
              "      <th>item_id</th>\n",
              "      <th>quantity</th>\n",
              "      <th>%</th>\n",
              "    </tr>\n",
              "  </thead>\n",
              "  <tbody>\n",
              "    <tr>\n",
              "      <th>2488</th>\n",
              "      <td>85123A</td>\n",
              "      <td>3295</td>\n",
              "      <td>17.480</td>\n",
              "    </tr>\n",
              "    <tr>\n",
              "      <th>385</th>\n",
              "      <td>21212</td>\n",
              "      <td>2520</td>\n",
              "      <td>13.369</td>\n",
              "    </tr>\n",
              "    <tr>\n",
              "      <th>1673</th>\n",
              "      <td>22961</td>\n",
              "      <td>2025</td>\n",
              "      <td>10.743</td>\n",
              "    </tr>\n",
              "    <tr>\n",
              "      <th>2295</th>\n",
              "      <td>84879</td>\n",
              "      <td>1788</td>\n",
              "      <td>9.485</td>\n",
              "    </tr>\n",
              "    <tr>\n",
              "      <th>2468</th>\n",
              "      <td>85099B</td>\n",
              "      <td>1732</td>\n",
              "      <td>9.188</td>\n",
              "    </tr>\n",
              "    <tr>\n",
              "      <th>1017</th>\n",
              "      <td>22197</td>\n",
              "      <td>1694</td>\n",
              "      <td>8.987</td>\n",
              "    </tr>\n",
              "    <tr>\n",
              "      <th>1253</th>\n",
              "      <td>22469</td>\n",
              "      <td>1662</td>\n",
              "      <td>8.817</td>\n",
              "    </tr>\n",
              "    <tr>\n",
              "      <th>1680</th>\n",
              "      <td>22969</td>\n",
              "      <td>1420</td>\n",
              "      <td>7.533</td>\n",
              "    </tr>\n",
              "    <tr>\n",
              "      <th>2363</th>\n",
              "      <td>84991</td>\n",
              "      <td>1391</td>\n",
              "      <td>7.379</td>\n",
              "    </tr>\n",
              "    <tr>\n",
              "      <th>999</th>\n",
              "      <td>22178</td>\n",
              "      <td>1323</td>\n",
              "      <td>7.019</td>\n",
              "    </tr>\n",
              "  </tbody>\n",
              "</table>\n",
              "</div>"
            ],
            "text/plain": [
              "     item_id  quantity      %\n",
              "2488  85123A      3295 17.480\n",
              "385    21212      2520 13.369\n",
              "1673   22961      2025 10.743\n",
              "2295   84879      1788  9.485\n",
              "2468  85099B      1732  9.188\n",
              "1017   22197      1694  8.987\n",
              "1253   22469      1662  8.817\n",
              "1680   22969      1420  7.533\n",
              "2363   84991      1391  7.379\n",
              "999    22178      1323  7.019"
            ]
          },
          "execution_count": 42,
          "metadata": {},
          "output_type": "execute_result"
        }
      ],
      "source": [
        "top_10_not_loyalty = (not_loyalty\n",
        "          .groupby('item_id')['quantity'].sum()\n",
        "          .reset_index()\n",
        "          #.rename(columns={'quantity': 'sum_quantity'})\n",
        "          .sort_values(by='quantity', ascending=False)\n",
        "          .head(10))\n",
        "\n",
        "top_10_not_loyalty['%'] = top_10_not_loyalty['quantity'] / sum(top_10_not_loyalty['quantity']) * 100\n",
        "top_10_not_loyalty"
      ]
    },
    {
      "cell_type": "code",
      "execution_count": null,
      "metadata": {
        "id": "GUVVNT3QvNH0",
        "outputId": "895dfbbf-7e93-44b3-d747-d8410f60769a"
      },
      "outputs": [
        {
          "data": {
            "image/png": "[encoded data removed]",
            "text/plain": [
              "<Figure size 864x576 with 1 Axes>"
            ]
          },
          "metadata": {
            "needs_background": "light"
          },
          "output_type": "display_data"
        }
      ],
      "source": [
        "plt.figure(figsize=(12, 8))\n",
        "colors = sns.color_palette('Set3', n_colors=10)\n",
        "plt.bar(top_10_not_loyalty['item_id'], top_10_not_loyalty['quantity'], color=colors)\n",
        "\n",
        "\n",
        "plt.xlabel('Товары')\n",
        "plt.ylabel('Объем продаж')\n",
        "plt.title('Топ 10 товаров по объему продаж нелояльных клиентов')\n",
        "plt.show()"
      ]
    },
    {
      "cell_type": "markdown",
      "metadata": {
        "id": "pQ4PzEW6vNH1"
      },
      "source": [
        "Наиболее продающийся товар нелояльных клиентов - 85123A - около 20% продаж. Если говорить в целом, то в топ-10 товаров для лояльных и неялольных клиентов входят 7 одинаковых позиций, различается лишь частота покупки."
      ]
    },
    {
      "cell_type": "code",
      "execution_count": null,
      "metadata": {
        "id": "Ip2r0JHzvNH1",
        "outputId": "8112c124-9a1f-4697-a425-af48f61a8ecd"
      },
      "outputs": [
        {
          "data": {
            "text/html": [
              "<div>\n",
              "<style scoped>\n",
              "    .dataframe tbody tr th:only-of-type {\n",
              "        vertical-align: middle;\n",
              "    }\n",
              "\n",
              "    .dataframe tbody tr th {\n",
              "        vertical-align: top;\n",
              "    }\n",
              "\n",
              "    .dataframe thead th {\n",
              "        text-align: right;\n",
              "    }\n",
              "</style>\n",
              "<table border=\"1\" class=\"dataframe\">\n",
              "  <thead>\n",
              "    <tr style=\"text-align: right;\">\n",
              "      <th></th>\n",
              "      <th>item_id</th>\n",
              "      <th>sum_quantity</th>\n",
              "    </tr>\n",
              "  </thead>\n",
              "  <tbody>\n",
              "    <tr>\n",
              "      <th>2989</th>\n",
              "      <td>m</td>\n",
              "      <td>0</td>\n",
              "    </tr>\n",
              "    <tr>\n",
              "      <th>1779</th>\n",
              "      <td>35809a</td>\n",
              "      <td>0</td>\n",
              "    </tr>\n",
              "    <tr>\n",
              "      <th>1782</th>\n",
              "      <td>35815P</td>\n",
              "      <td>0</td>\n",
              "    </tr>\n",
              "    <tr>\n",
              "      <th>493</th>\n",
              "      <td>21372</td>\n",
              "      <td>0</td>\n",
              "    </tr>\n",
              "    <tr>\n",
              "      <th>490</th>\n",
              "      <td>21369</td>\n",
              "      <td>0</td>\n",
              "    </tr>\n",
              "    <tr>\n",
              "      <th>489</th>\n",
              "      <td>21368</td>\n",
              "      <td>0</td>\n",
              "    </tr>\n",
              "    <tr>\n",
              "      <th>488</th>\n",
              "      <td>21367</td>\n",
              "      <td>0</td>\n",
              "    </tr>\n",
              "    <tr>\n",
              "      <th>1784</th>\n",
              "      <td>35818P</td>\n",
              "      <td>0</td>\n",
              "    </tr>\n",
              "    <tr>\n",
              "      <th>1785</th>\n",
              "      <td>35819B</td>\n",
              "      <td>0</td>\n",
              "    </tr>\n",
              "    <tr>\n",
              "      <th>1789</th>\n",
              "      <td>35909A</td>\n",
              "      <td>0</td>\n",
              "    </tr>\n",
              "  </tbody>\n",
              "</table>\n",
              "</div>"
            ],
            "text/plain": [
              "     item_id  sum_quantity\n",
              "2989       m             0\n",
              "1779  35809a             0\n",
              "1782  35815P             0\n",
              "493    21372             0\n",
              "490    21369             0\n",
              "489    21368             0\n",
              "488    21367             0\n",
              "1784  35818P             0\n",
              "1785  35819B             0\n",
              "1789  35909A             0"
            ]
          },
          "execution_count": 44,
          "metadata": {},
          "output_type": "execute_result"
        }
      ],
      "source": [
        "not_top_10 = (data\n",
        "              .groupby('item_id')['quantity'].sum()\n",
        "              .reset_index()\n",
        "              .rename(columns={'quantity': 'sum_quantity'})\n",
        "              .sort_values(by='sum_quantity', ascending=True)\n",
        "              .head(10))\n",
        "not_top_10"
      ]
    },
    {
      "cell_type": "markdown",
      "metadata": {
        "id": "qSxGR8eyvNH1"
      },
      "source": [
        "Эти товары скорее всего являются акционными товарами."
      ]
    },
    {
      "cell_type": "markdown",
      "metadata": {
        "id": "Q5cc3qd7vNH1"
      },
      "source": [
        "### популярные магазины"
      ]
    },
    {
      "cell_type": "markdown",
      "metadata": {
        "id": "iavefm_OvNH1"
      },
      "source": [
        "Выделим топ 10 популярных магазинов."
      ]
    },
    {
      "cell_type": "code",
      "execution_count": null,
      "metadata": {
        "id": "oIO2vS-QvNH1",
        "outputId": "6b6219d6-292d-4309-8be2-c39d84434286"
      },
      "outputs": [
        {
          "data": {
            "text/html": [
              "<div>\n",
              "<style scoped>\n",
              "    .dataframe tbody tr th:only-of-type {\n",
              "        vertical-align: middle;\n",
              "    }\n",
              "\n",
              "    .dataframe tbody tr th {\n",
              "        vertical-align: top;\n",
              "    }\n",
              "\n",
              "    .dataframe thead th {\n",
              "        text-align: right;\n",
              "    }\n",
              "</style>\n",
              "<table border=\"1\" class=\"dataframe\">\n",
              "  <thead>\n",
              "    <tr style=\"text-align: right;\">\n",
              "      <th></th>\n",
              "      <th>shop_id</th>\n",
              "      <th>sum_purchase</th>\n",
              "      <th>%</th>\n",
              "    </tr>\n",
              "  </thead>\n",
              "  <tbody>\n",
              "    <tr>\n",
              "      <th>0</th>\n",
              "      <td>Shop 0</td>\n",
              "      <td>3935</td>\n",
              "      <td>92.393</td>\n",
              "    </tr>\n",
              "    <tr>\n",
              "      <th>24</th>\n",
              "      <td>Shop 4</td>\n",
              "      <td>110</td>\n",
              "      <td>2.583</td>\n",
              "    </tr>\n",
              "    <tr>\n",
              "      <th>1</th>\n",
              "      <td>Shop 1</td>\n",
              "      <td>80</td>\n",
              "      <td>1.878</td>\n",
              "    </tr>\n",
              "    <tr>\n",
              "      <th>26</th>\n",
              "      <td>Shop 6</td>\n",
              "      <td>45</td>\n",
              "      <td>1.057</td>\n",
              "    </tr>\n",
              "    <tr>\n",
              "      <th>4</th>\n",
              "      <td>Shop 12</td>\n",
              "      <td>21</td>\n",
              "      <td>0.493</td>\n",
              "    </tr>\n",
              "    <tr>\n",
              "      <th>12</th>\n",
              "      <td>Shop 2</td>\n",
              "      <td>17</td>\n",
              "      <td>0.399</td>\n",
              "    </tr>\n",
              "    <tr>\n",
              "      <th>2</th>\n",
              "      <td>Shop 10</td>\n",
              "      <td>15</td>\n",
              "      <td>0.352</td>\n",
              "    </tr>\n",
              "    <tr>\n",
              "      <th>28</th>\n",
              "      <td>Shop 8</td>\n",
              "      <td>15</td>\n",
              "      <td>0.352</td>\n",
              "    </tr>\n",
              "    <tr>\n",
              "      <th>27</th>\n",
              "      <td>Shop 7</td>\n",
              "      <td>11</td>\n",
              "      <td>0.258</td>\n",
              "    </tr>\n",
              "    <tr>\n",
              "      <th>22</th>\n",
              "      <td>Shop 3</td>\n",
              "      <td>10</td>\n",
              "      <td>0.235</td>\n",
              "    </tr>\n",
              "  </tbody>\n",
              "</table>\n",
              "</div>"
            ],
            "text/plain": [
              "    shop_id  sum_purchase      %\n",
              "0    Shop 0          3935 92.393\n",
              "24   Shop 4           110  2.583\n",
              "1    Shop 1            80  1.878\n",
              "26   Shop 6            45  1.057\n",
              "4   Shop 12            21  0.493\n",
              "12   Shop 2            17  0.399\n",
              "2   Shop 10            15  0.352\n",
              "28   Shop 8            15  0.352\n",
              "27   Shop 7            11  0.258\n",
              "22   Shop 3            10  0.235"
            ]
          },
          "execution_count": 45,
          "metadata": {},
          "output_type": "execute_result"
        }
      ],
      "source": [
        "popular_shops = (data\n",
        "                 .groupby('shop_id')['purchase_id'].nunique()\n",
        "                 .reset_index()\n",
        "                 .rename(columns={'purchase_id' : 'sum_purchase'})\n",
        "                 .sort_values('sum_purchase', ascending=False)\n",
        "                 .head(10))\n",
        "\n",
        "popular_shops['%'] = popular_shops['sum_purchase'] / sum(popular_shops['sum_purchase']) * 100\n",
        "popular_shops"
      ]
    },
    {
      "cell_type": "code",
      "execution_count": null,
      "metadata": {
        "id": "rkqH9PNAvNH2",
        "outputId": "19f1ade4-107d-4b92-bed7-1bbd2e80762b"
      },
      "outputs": [
        {
          "data": {
            "image/png": "[encoded data removed]",
            "text/plain": [
              "<Figure size 864x576 with 1 Axes>"
            ]
          },
          "metadata": {
            "needs_background": "light"
          },
          "output_type": "display_data"
        }
      ],
      "source": [
        "plt.figure(figsize=(12, 8))\n",
        "colors = sns.color_palette('Set3', n_colors=10)\n",
        "plt.bar(popular_shops['shop_id'], popular_shops['sum_purchase'], color=colors)\n",
        "\n",
        "\n",
        "plt.xlabel('Магазины')\n",
        "plt.ylabel('Количество покупок')\n",
        "plt.title('Распределение покупок в топ-10 магазинов')\n",
        "plt.show()"
      ]
    },
    {
      "cell_type": "markdown",
      "metadata": {
        "id": "nV9exQbNvNH2"
      },
      "source": [
        "В основном все покупки совершались в магазине - Shop 0 - 92%."
      ]
    },
    {
      "cell_type": "markdown",
      "metadata": {
        "id": "EmaWY6PfvNH2"
      },
      "source": [
        "### временной анализ"
      ]
    },
    {
      "cell_type": "markdown",
      "metadata": {
        "id": "HRxVk2KmvNH2"
      },
      "source": [
        "Проанализируем покупки с течением времени для лояльных и нелояльных клиентов."
      ]
    },
    {
      "cell_type": "code",
      "execution_count": null,
      "metadata": {
        "id": "wf0kIVZjvNH2"
      },
      "outputs": [],
      "source": [
        "# создадим столбцы с месяцами и днями недели\n",
        "data['week'] = data['purchase_date'].dt.dayofweek\n",
        "data['month'] = data['purchase_date'].dt.month\n",
        "loyalty = data.query('loyalty_program == 1')\n",
        "not_loyalty = data.query('loyalty_program == 0')"
      ]
    },
    {
      "cell_type": "code",
      "execution_count": null,
      "metadata": {
        "id": "8D-GP-GFvNH2",
        "outputId": "972755a7-975f-47e9-f827-f7e705a497c7"
      },
      "outputs": [
        {
          "data": {
            "text/html": [
              "<div>\n",
              "<style scoped>\n",
              "    .dataframe tbody tr th:only-of-type {\n",
              "        vertical-align: middle;\n",
              "    }\n",
              "\n",
              "    .dataframe tbody tr th {\n",
              "        vertical-align: top;\n",
              "    }\n",
              "\n",
              "    .dataframe thead th {\n",
              "        text-align: right;\n",
              "    }\n",
              "</style>\n",
              "<table border=\"1\" class=\"dataframe\">\n",
              "  <thead>\n",
              "    <tr style=\"text-align: right;\">\n",
              "      <th></th>\n",
              "      <th>week</th>\n",
              "      <th>purchase_id</th>\n",
              "      <th>%</th>\n",
              "    </tr>\n",
              "  </thead>\n",
              "  <tbody>\n",
              "    <tr>\n",
              "      <th>4</th>\n",
              "      <td>Пятница</td>\n",
              "      <td>280</td>\n",
              "      <td>22.746</td>\n",
              "    </tr>\n",
              "    <tr>\n",
              "      <th>3</th>\n",
              "      <td>Четверг</td>\n",
              "      <td>240</td>\n",
              "      <td>19.496</td>\n",
              "    </tr>\n",
              "    <tr>\n",
              "      <th>2</th>\n",
              "      <td>Среда</td>\n",
              "      <td>206</td>\n",
              "      <td>16.734</td>\n",
              "    </tr>\n",
              "    <tr>\n",
              "      <th>1</th>\n",
              "      <td>Вторник</td>\n",
              "      <td>188</td>\n",
              "      <td>15.272</td>\n",
              "    </tr>\n",
              "    <tr>\n",
              "      <th>5</th>\n",
              "      <td>Суббота</td>\n",
              "      <td>171</td>\n",
              "      <td>13.891</td>\n",
              "    </tr>\n",
              "    <tr>\n",
              "      <th>0</th>\n",
              "      <td>Понедельник</td>\n",
              "      <td>146</td>\n",
              "      <td>11.860</td>\n",
              "    </tr>\n",
              "  </tbody>\n",
              "</table>\n",
              "</div>"
            ],
            "text/plain": [
              "          week  purchase_id      %\n",
              "4      Пятница          280 22.746\n",
              "3      Четверг          240 19.496\n",
              "2        Среда          206 16.734\n",
              "1      Вторник          188 15.272\n",
              "5      Суббота          171 13.891\n",
              "0  Понедельник          146 11.860"
            ]
          },
          "execution_count": 48,
          "metadata": {},
          "output_type": "execute_result"
        }
      ],
      "source": [
        "#посмотрим распределение покупок по дням недели для лояльных клиентов\n",
        "day_names = {0: 'Понедельник', 1: 'Вторник', 2: 'Среда', 3: 'Четверг', 4: 'Пятница', 5: 'Суббота'}\n",
        "week_loyalty = (loyalty\n",
        "       .groupby('week')['purchase_id'].nunique()\n",
        "       .reset_index()\n",
        "       .sort_values(by='purchase_id', ascending=False))\n",
        "\n",
        "week_loyalty['%'] = week_loyalty['purchase_id'] / sum(week_loyalty['purchase_id']) * 100\n",
        "week_loyalty['week'] = week_loyalty['week'].replace(day_names)\n",
        "week_loyalty"
      ]
    },
    {
      "cell_type": "code",
      "execution_count": null,
      "metadata": {
        "id": "JaoU1T7NvNH2",
        "outputId": "94cd9de6-50a0-4186-d557-b745203b0c42"
      },
      "outputs": [
        {
          "data": {
            "image/png": "[encoded data removed]",
            "text/plain": [
              "<Figure size 864x576 with 1 Axes>"
            ]
          },
          "metadata": {
            "needs_background": "light"
          },
          "output_type": "display_data"
        }
      ],
      "source": [
        "plt.figure(figsize=(12, 8))\n",
        "colors = sns.color_palette('Set3', n_colors=10)\n",
        "plt.bar(week_loyalty['week'], week_loyalty['purchase_id'], color=colors)\n",
        "\n",
        "\n",
        "plt.xlabel('Дни недели')\n",
        "plt.ylabel('Количество покупок')\n",
        "plt.title('Распределение покупок лояльных клиентов по дням недели')\n",
        "plt.show()"
      ]
    },
    {
      "cell_type": "markdown",
      "metadata": {
        "id": "gu1D4KmtvNH3"
      },
      "source": [
        "Магазин не работает в воскресенье, наибольшее количество покупок лояльные клиенты совершают в пятницу - 22%, наименьшее же в понедельник - 11%."
      ]
    },
    {
      "cell_type": "code",
      "execution_count": null,
      "metadata": {
        "id": "PWIvTNvsvNH3",
        "outputId": "4206a0fe-da88-4846-c2ef-c0cb5ff5f94d"
      },
      "outputs": [
        {
          "data": {
            "text/html": [
              "<div>\n",
              "<style scoped>\n",
              "    .dataframe tbody tr th:only-of-type {\n",
              "        vertical-align: middle;\n",
              "    }\n",
              "\n",
              "    .dataframe tbody tr th {\n",
              "        vertical-align: top;\n",
              "    }\n",
              "\n",
              "    .dataframe thead th {\n",
              "        text-align: right;\n",
              "    }\n",
              "</style>\n",
              "<table border=\"1\" class=\"dataframe\">\n",
              "  <thead>\n",
              "    <tr style=\"text-align: right;\">\n",
              "      <th></th>\n",
              "      <th>week</th>\n",
              "      <th>purchase_id</th>\n",
              "      <th>%</th>\n",
              "    </tr>\n",
              "  </thead>\n",
              "  <tbody>\n",
              "    <tr>\n",
              "      <th>4</th>\n",
              "      <td>Пятница</td>\n",
              "      <td>670</td>\n",
              "      <td>21.697</td>\n",
              "    </tr>\n",
              "    <tr>\n",
              "      <th>3</th>\n",
              "      <td>Четверг</td>\n",
              "      <td>559</td>\n",
              "      <td>18.102</td>\n",
              "    </tr>\n",
              "    <tr>\n",
              "      <th>2</th>\n",
              "      <td>Среда</td>\n",
              "      <td>552</td>\n",
              "      <td>17.876</td>\n",
              "    </tr>\n",
              "    <tr>\n",
              "      <th>5</th>\n",
              "      <td>Суббота</td>\n",
              "      <td>551</td>\n",
              "      <td>17.843</td>\n",
              "    </tr>\n",
              "    <tr>\n",
              "      <th>1</th>\n",
              "      <td>Вторник</td>\n",
              "      <td>515</td>\n",
              "      <td>16.677</td>\n",
              "    </tr>\n",
              "    <tr>\n",
              "      <th>0</th>\n",
              "      <td>Понедельник</td>\n",
              "      <td>241</td>\n",
              "      <td>7.804</td>\n",
              "    </tr>\n",
              "  </tbody>\n",
              "</table>\n",
              "</div>"
            ],
            "text/plain": [
              "          week  purchase_id      %\n",
              "4      Пятница          670 21.697\n",
              "3      Четверг          559 18.102\n",
              "2        Среда          552 17.876\n",
              "5      Суббота          551 17.843\n",
              "1      Вторник          515 16.677\n",
              "0  Понедельник          241  7.804"
            ]
          },
          "execution_count": 50,
          "metadata": {},
          "output_type": "execute_result"
        }
      ],
      "source": [
        "#посмотрим распределение покупок по дням недели для нелояльных клиентов\n",
        "week_not_loyalty = (not_loyalty\n",
        "       .groupby('week')['purchase_id'].nunique()\n",
        "       .reset_index()\n",
        "       .sort_values(by='purchase_id', ascending=False))\n",
        "\n",
        "week_not_loyalty['%'] = week_not_loyalty['purchase_id'] / sum(week_not_loyalty['purchase_id']) * 100\n",
        "week_not_loyalty['week'] = week_not_loyalty['week'].replace(day_names)\n",
        "week_not_loyalty"
      ]
    },
    {
      "cell_type": "code",
      "execution_count": null,
      "metadata": {
        "id": "98D3exHSvNH3",
        "outputId": "a92ee2d7-6288-4f01-bf84-5040052c2574"
      },
      "outputs": [
        {
          "data": {
            "image/png": "[encoded data removed]",
            "text/plain": [
              "<Figure size 864x576 with 1 Axes>"
            ]
          },
          "metadata": {
            "needs_background": "light"
          },
          "output_type": "display_data"
        }
      ],
      "source": [
        "plt.figure(figsize=(12, 8))\n",
        "colors = sns.color_palette('Set3', n_colors=10)\n",
        "plt.bar(week_not_loyalty['week'], week_not_loyalty['purchase_id'], color=colors)\n",
        "\n",
        "\n",
        "plt.xlabel('Дни недели')\n",
        "plt.ylabel('Количество покупок')\n",
        "plt.title('Распределение покупок нелояльных клиентов по дням недели')\n",
        "plt.show()"
      ]
    },
    {
      "cell_type": "markdown",
      "metadata": {
        "id": "ep2ShyeMvNH3"
      },
      "source": [
        "Наибольшее количество покупок нелояльные клиенты совершают в понедельник - около 22%, наименьшее же в понедельник - около 8%. Ситуация аналогичная как и с лояльными клиентами."
      ]
    },
    {
      "cell_type": "code",
      "execution_count": null,
      "metadata": {
        "id": "-NH5egBPvNH4",
        "outputId": "49bf7db5-87fd-4a7b-d1a9-cb862b8849f1"
      },
      "outputs": [
        {
          "data": {
            "text/html": [
              "<div>\n",
              "<style scoped>\n",
              "    .dataframe tbody tr th:only-of-type {\n",
              "        vertical-align: middle;\n",
              "    }\n",
              "\n",
              "    .dataframe tbody tr th {\n",
              "        vertical-align: top;\n",
              "    }\n",
              "\n",
              "    .dataframe thead th {\n",
              "        text-align: right;\n",
              "    }\n",
              "</style>\n",
              "<table border=\"1\" class=\"dataframe\">\n",
              "  <thead>\n",
              "    <tr style=\"text-align: right;\">\n",
              "      <th></th>\n",
              "      <th>month</th>\n",
              "      <th>purchase_id</th>\n",
              "      <th>%</th>\n",
              "    </tr>\n",
              "  </thead>\n",
              "  <tbody>\n",
              "    <tr>\n",
              "      <th>0</th>\n",
              "      <td>Январь</td>\n",
              "      <td>318</td>\n",
              "      <td>25.833</td>\n",
              "    </tr>\n",
              "    <tr>\n",
              "      <th>1</th>\n",
              "      <td>Февраль</td>\n",
              "      <td>357</td>\n",
              "      <td>29.001</td>\n",
              "    </tr>\n",
              "    <tr>\n",
              "      <th>2</th>\n",
              "      <td>Декабрь</td>\n",
              "      <td>556</td>\n",
              "      <td>45.167</td>\n",
              "    </tr>\n",
              "  </tbody>\n",
              "</table>\n",
              "</div>"
            ],
            "text/plain": [
              "     month  purchase_id      %\n",
              "0   Январь          318 25.833\n",
              "1  Февраль          357 29.001\n",
              "2  Декабрь          556 45.167"
            ]
          },
          "execution_count": 52,
          "metadata": {},
          "output_type": "execute_result"
        }
      ],
      "source": [
        "#посмотрим распределение покупок лояльных клиентов по дням месяцам\n",
        "month_names = {1: 'Январь', 2: 'Февраль', 3: 'Март', 4: 'Апрель', 5: 'Май', 6: 'Июнь', 7: 'Июль', 8: 'Август', 9: 'Сентябрь', 10: 'Октябрь', 11: 'Ноябрь', 12: 'Декабрь'}\n",
        "month_loyalty = (loyalty\n",
        "       .groupby('month')['purchase_id'].nunique()\n",
        "       .reset_index())\n",
        "\n",
        "month_loyalty['%'] = month_loyalty['purchase_id'] / sum(month_loyalty['purchase_id']) * 100\n",
        "month_loyalty['month'] = month_loyalty['month'].replace(month_names)\n",
        "month_loyalty"
      ]
    },
    {
      "cell_type": "code",
      "execution_count": null,
      "metadata": {
        "id": "TSc2CcMivNH4",
        "outputId": "2365f5f6-8168-4ad6-b0f4-87b8335418a9"
      },
      "outputs": [
        {
          "data": {
            "image/png": "[encoded data removed]",
            "text/plain": [
              "<Figure size 864x576 with 1 Axes>"
            ]
          },
          "metadata": {
            "needs_background": "light"
          },
          "output_type": "display_data"
        }
      ],
      "source": [
        "month_order = ['Декабрь', 'Январь', 'Февраль']\n",
        "\n",
        "plt.figure(figsize=(12, 8))\n",
        "colors = sns.color_palette('Set3', n_colors=10)\n",
        "month_loyalty = month_loyalty.set_index('month').loc[month_order]\n",
        "plt.bar(month_loyalty.index, month_loyalty['purchase_id'], color=colors)\n",
        "\n",
        "plt.xlabel('Месяца')\n",
        "plt.ylabel('Количество покупок')\n",
        "plt.title('Распределение покупок лояльных клиентов по месяцам')\n",
        "plt.show()"
      ]
    },
    {
      "cell_type": "markdown",
      "metadata": {
        "id": "B0Zx4svEvNH4"
      },
      "source": [
        "В декабре лояльные клиенты совершили наибольшее количество покупок - около 45%, наименьшее же в январе - около 26%."
      ]
    },
    {
      "cell_type": "code",
      "execution_count": null,
      "metadata": {
        "id": "cjNO5GKUvNH4",
        "outputId": "e2b03c47-daa5-485f-e596-c1a63ee373f9"
      },
      "outputs": [
        {
          "data": {
            "text/html": [
              "<div>\n",
              "<style scoped>\n",
              "    .dataframe tbody tr th:only-of-type {\n",
              "        vertical-align: middle;\n",
              "    }\n",
              "\n",
              "    .dataframe tbody tr th {\n",
              "        vertical-align: top;\n",
              "    }\n",
              "\n",
              "    .dataframe thead th {\n",
              "        text-align: right;\n",
              "    }\n",
              "</style>\n",
              "<table border=\"1\" class=\"dataframe\">\n",
              "  <thead>\n",
              "    <tr style=\"text-align: right;\">\n",
              "      <th></th>\n",
              "      <th>month</th>\n",
              "      <th>purchase_id</th>\n",
              "      <th>%</th>\n",
              "    </tr>\n",
              "  </thead>\n",
              "  <tbody>\n",
              "    <tr>\n",
              "      <th>0</th>\n",
              "      <td>Январь</td>\n",
              "      <td>983</td>\n",
              "      <td>31.833</td>\n",
              "    </tr>\n",
              "    <tr>\n",
              "      <th>1</th>\n",
              "      <td>Февраль</td>\n",
              "      <td>862</td>\n",
              "      <td>27.915</td>\n",
              "    </tr>\n",
              "    <tr>\n",
              "      <th>2</th>\n",
              "      <td>Декабрь</td>\n",
              "      <td>1243</td>\n",
              "      <td>40.253</td>\n",
              "    </tr>\n",
              "  </tbody>\n",
              "</table>\n",
              "</div>"
            ],
            "text/plain": [
              "     month  purchase_id      %\n",
              "0   Январь          983 31.833\n",
              "1  Февраль          862 27.915\n",
              "2  Декабрь         1243 40.253"
            ]
          },
          "execution_count": 54,
          "metadata": {},
          "output_type": "execute_result"
        }
      ],
      "source": [
        "#посмотрим распределение покупок нелояльных клиентов по дням месяцам\n",
        "month_not_loyalty = (not_loyalty\n",
        "       .groupby('month')['purchase_id'].nunique()\n",
        "       .reset_index())\n",
        "\n",
        "month_not_loyalty['%'] = month_not_loyalty['purchase_id'] / sum(month_not_loyalty['purchase_id']) * 100\n",
        "month_not_loyalty['month'] = month_not_loyalty['month'].replace(month_names)\n",
        "month_not_loyalty"
      ]
    },
    {
      "cell_type": "code",
      "execution_count": null,
      "metadata": {
        "id": "2VJn9wNcvNH4",
        "outputId": "85a12913-3bef-4bdd-c9f4-94a465ba2bb7"
      },
      "outputs": [
        {
          "data": {
            "image/png": "[encoded data removed]",
            "text/plain": [
              "<Figure size 864x576 with 1 Axes>"
            ]
          },
          "metadata": {
            "needs_background": "light"
          },
          "output_type": "display_data"
        }
      ],
      "source": [
        "plt.figure(figsize=(12, 8))\n",
        "colors = sns.color_palette('Set3', n_colors=10)\n",
        "month_not_loyalty = month_not_loyalty.set_index('month').loc[month_order]\n",
        "plt.bar(month_not_loyalty.index, month_not_loyalty['purchase_id'], color=colors)\n",
        "\n",
        "plt.xlabel('Месяца')\n",
        "plt.ylabel('Количество покупок')\n",
        "plt.title('Распределение покупок нелояльных клиентов по месяцам')\n",
        "plt.show()"
      ]
    },
    {
      "cell_type": "markdown",
      "metadata": {
        "id": "tTQFmTt2vNH4"
      },
      "source": [
        "В декабре нелояльные клиенты совершили наибольшее количество покупок - около 40%, наименьшее же в январе - около 28%. Как лояльные, нелояльные клиенты предпочитала шопинг в декабре."
      ]
    },
    {
      "cell_type": "markdown",
      "metadata": {
        "id": "0bDHPXzRvNH5"
      },
      "source": [
        "### изменение объема продаж с течением времени"
      ]
    },
    {
      "cell_type": "code",
      "execution_count": null,
      "metadata": {
        "id": "_O7v7S7kvNH5",
        "outputId": "80a5e20b-922f-4f45-8c0e-ab9b2c15c2c4"
      },
      "outputs": [
        {
          "data": {
            "text/plain": [
              "purchase_date\n",
              "2016-12-01    12280\n",
              "2016-12-02    12241\n",
              "2016-12-03     8715\n",
              "2016-12-05     9540\n",
              "2016-12-06    12556\n",
              "Name: quantity, dtype: int64"
            ]
          },
          "execution_count": 56,
          "metadata": {},
          "output_type": "execute_result"
        }
      ],
      "source": [
        "sales_by_date = data.groupby(data['purchase_date'].dt.date)['quantity'].sum()\n",
        "sales_by_date.head()"
      ]
    },
    {
      "cell_type": "code",
      "execution_count": null,
      "metadata": {
        "id": "Ii4Rtq4bvNH5",
        "outputId": "565d6f86-49d9-4296-ee95-1c919722eb32"
      },
      "outputs": [
        {
          "data": {
            "image/png": "[encoded data removed]",
            "text/plain": [
              "<Figure size 864x576 with 1 Axes>"
            ]
          },
          "metadata": {
            "needs_background": "light"
          },
          "output_type": "display_data"
        }
      ],
      "source": [
        "plt.figure(figsize=(12, 8))\n",
        "plt.bar(sales_by_date.index, sales_by_date.values, color='red')\n",
        "\n",
        "plt.xlabel('Дата')\n",
        "plt.ylabel('Объем продаж')\n",
        "plt.title('Изменение объема продаж с течением времени')\n",
        "plt.show()"
      ]
    },
    {
      "cell_type": "markdown",
      "metadata": {
        "id": "294xfx1evNH5"
      },
      "source": [
        "Каких-то определенных тенденций не наблюдается, видны как взлеты, так и падения."
      ]
    },
    {
      "cell_type": "markdown",
      "metadata": {
        "id": "8qHZ3miPvNH6"
      },
      "source": [
        "### вывод"
      ]
    },
    {
      "cell_type": "markdown",
      "metadata": {
        "id": "OM2BsjpKvNH6"
      },
      "source": [
        "* Общее количество покупок:  4319\n",
        "* Число уникальных покупателей:  1666\n",
        "* Общая сумма продаж:  1271183.02\n",
        "\n",
        "\n",
        "* Количество лояльных клиентов: 563\n",
        "* В программе лояльности учавствуют:  33.79 %\n",
        "* Количество нелояльных клиентов: 1103\n",
        "\n",
        "\n",
        "* Среднее количество покупок на одного нелояльного клиента выше, чем для лояльного.\n",
        "* Наиболее встречаемое количество товаров в чеке:  2.\n",
        "* Наиболее продающийся товар нелояльных клиентов - 85123A - около 20% продаж. Если говорить в целом, то в топ-10 товаров для лояльных и неялольных клиентов входят 7 одинаковых позиций, различается лишь частота покупки.\n",
        "* В основном все покупки совершались в магазине - Shop 0 - 92%.\n",
        "* Магазин не работает в воскресенье, наибольшее количество покупок лояльные клиенты совершают в пятницу - 22%, наименьшее же в понедельник - 11%.\n",
        "* Наиболее продающийся товар лояльных клиентов - 85123A - около 20% продаж. Наибольшее количество покупок нелояльные клиенты совершают в понедельник - около 22%, наименьшее же в понедельник - около 8%. Ситуация аналогичная как и с лояльными клиентами.\n",
        "* В декабре лояльные клиенты совершили наибольшее количество покупок - около 45%, наименьшее же в январе - около 26%. В декабре нелояльные клиенты совершили наибольшее количество покупок - около 40%, наименьшее же в январе - около 28%. Как лояльные, нелояльные клиенты предпочитала шопинг в декабре."
      ]
    },
    {
      "cell_type": "markdown",
      "metadata": {
        "id": "ftTCvCnQvNH6"
      },
      "source": [
        "##  Анализ программы лояльности"
      ]
    },
    {
      "cell_type": "markdown",
      "metadata": {
        "id": "FCQ4fpchvNH6"
      },
      "source": [
        "### LTV"
      ]
    },
    {
      "cell_type": "markdown",
      "metadata": {
        "id": "FNtcH2XAvNH6"
      },
      "source": [
        "Получим пользовательские профили."
      ]
    },
    {
      "cell_type": "code",
      "execution_count": null,
      "metadata": {
        "id": "J3QGNeAPvNH6"
      },
      "outputs": [],
      "source": [
        "def get_profiles(sessions):\n",
        "\n",
        "    # сортируем данные по ID клиента и дате покупки\n",
        "    # группируем по ID клиента и находим первые значения даты покупки\n",
        "    # столбец с временем первой покупки назовём first_ts\n",
        "    profiles = (\n",
        "        data.sort_values(by=['customer_id', 'purchase_date'])\n",
        "        .groupby('customer_id')\n",
        "        .agg({'purchase_date': 'first', 'loyalty_program': 'first'})\n",
        "        .rename(columns={'purchase_date': 'first_ts', 'customer_id': 'user_id'})\n",
        "        .reset_index()\n",
        "    )\n",
        "\n",
        "    # определяем дату первого посещения\n",
        "    # и первый день месяца, в который это посещение произошло\n",
        "    # эти данные понадобятся для когортного анализа\n",
        "    profiles['dt'] = profiles['first_ts'].dt.date\n",
        "    profiles['month'] = profiles['first_ts'].astype('datetime64[M]')\n",
        "\n",
        "\n",
        "    return profiles"
      ]
    },
    {
      "cell_type": "code",
      "execution_count": null,
      "metadata": {
        "id": "R4WZGD-YvNH6",
        "outputId": "65111c98-323b-48c4-93de-f5082317a8df"
      },
      "outputs": [
        {
          "data": {
            "text/html": [
              "<div>\n",
              "<style scoped>\n",
              "    .dataframe tbody tr th:only-of-type {\n",
              "        vertical-align: middle;\n",
              "    }\n",
              "\n",
              "    .dataframe tbody tr th {\n",
              "        vertical-align: top;\n",
              "    }\n",
              "\n",
              "    .dataframe thead th {\n",
              "        text-align: right;\n",
              "    }\n",
              "</style>\n",
              "<table border=\"1\" class=\"dataframe\">\n",
              "  <thead>\n",
              "    <tr style=\"text-align: right;\">\n",
              "      <th></th>\n",
              "      <th>user_id</th>\n",
              "      <th>first_ts</th>\n",
              "      <th>loyalty_program</th>\n",
              "      <th>dt</th>\n",
              "      <th>month</th>\n",
              "    </tr>\n",
              "  </thead>\n",
              "  <tbody>\n",
              "    <tr>\n",
              "      <th>0</th>\n",
              "      <td>18,026.000</td>\n",
              "      <td>2016-12-07 14:57:00</td>\n",
              "      <td>0.000</td>\n",
              "      <td>2016-12-07</td>\n",
              "      <td>2016-12-01</td>\n",
              "    </tr>\n",
              "    <tr>\n",
              "      <th>1</th>\n",
              "      <td>18,027.000</td>\n",
              "      <td>2016-12-16 19:09:00</td>\n",
              "      <td>0.000</td>\n",
              "      <td>2016-12-16</td>\n",
              "      <td>2016-12-01</td>\n",
              "    </tr>\n",
              "    <tr>\n",
              "      <th>2</th>\n",
              "      <td>18,029.000</td>\n",
              "      <td>2017-02-02 16:01:00</td>\n",
              "      <td>0.000</td>\n",
              "      <td>2017-02-02</td>\n",
              "      <td>2017-02-01</td>\n",
              "    </tr>\n",
              "    <tr>\n",
              "      <th>3</th>\n",
              "      <td>18,031.000</td>\n",
              "      <td>2017-02-16 12:33:00</td>\n",
              "      <td>0.000</td>\n",
              "      <td>2017-02-16</td>\n",
              "      <td>2017-02-01</td>\n",
              "    </tr>\n",
              "    <tr>\n",
              "      <th>4</th>\n",
              "      <td>18,035.000</td>\n",
              "      <td>2017-01-18 09:50:00</td>\n",
              "      <td>0.000</td>\n",
              "      <td>2017-01-18</td>\n",
              "      <td>2017-01-01</td>\n",
              "    </tr>\n",
              "  </tbody>\n",
              "</table>\n",
              "</div>"
            ],
            "text/plain": [
              "     user_id            first_ts  loyalty_program          dt      month\n",
              "0 18,026.000 2016-12-07 14:57:00            0.000  2016-12-07 2016-12-01\n",
              "1 18,027.000 2016-12-16 19:09:00            0.000  2016-12-16 2016-12-01\n",
              "2 18,029.000 2017-02-02 16:01:00            0.000  2017-02-02 2017-02-01\n",
              "3 18,031.000 2017-02-16 12:33:00            0.000  2017-02-16 2017-02-01\n",
              "4 18,035.000 2017-01-18 09:50:00            0.000  2017-01-18 2017-01-01"
            ]
          },
          "execution_count": 59,
          "metadata": {},
          "output_type": "execute_result"
        }
      ],
      "source": [
        "profiles = get_profiles(data)\n",
        "profiles = profiles.rename(columns={'customer_id': 'user_id'})\n",
        "profiles.head()"
      ]
    },
    {
      "cell_type": "code",
      "execution_count": null,
      "metadata": {
        "id": "tuiLM906vNH7",
        "outputId": "89c39362-f660-49c6-9371-f7a3b1941c2e"
      },
      "outputs": [
        {
          "data": {
            "image/png": "[encoded data removed]",
            "text/plain": [
              "<Figure size 1080x360 with 1 Axes>"
            ]
          },
          "metadata": {
            "needs_background": "light"
          },
          "output_type": "display_data"
        }
      ],
      "source": [
        "profiles.pivot_table(\n",
        "    index='dt',  # даты первых посещений\n",
        "    columns='loyalty_program',  # источники переходов\n",
        "    values='user_id',  # ID пользователей\n",
        "    aggfunc='nunique'  # подсчёт уникальных значений\n",
        ").plot(figsize=(15, 5), grid=True)\n",
        "\n",
        "plt.show()"
      ]
    },
    {
      "cell_type": "markdown",
      "metadata": {
        "id": "L-D_ytDWvNH7"
      },
      "source": [
        "Рассчитаем LTV."
      ]
    },
    {
      "cell_type": "code",
      "execution_count": null,
      "metadata": {
        "id": "JjiVmvamvNH7"
      },
      "outputs": [],
      "source": [
        "def get_ltv(\n",
        "    profiles,  # Шаг 1. Получить профили и данные о покупках\n",
        "    purchases,\n",
        "    observation_date,\n",
        "    horizon_days,\n",
        "    dimensions=[],\n",
        "    ignore_horizon=False,\n",
        "):\n",
        "\n",
        "    # исключаем пользователей, не «доживших» до горизонта анализа\n",
        "    last_suitable_acquisition_date = observation_date\n",
        "    if not ignore_horizon:\n",
        "        last_suitable_acquisition_date = observation_date - timedelta(\n",
        "            days=horizon_days - 1\n",
        "        )\n",
        "    result_raw = profiles.query('dt <= @last_suitable_acquisition_date')\n",
        "\n",
        "    # Шаг 2. Добавить данные о покупках в профили\n",
        "\n",
        "    result_raw = result_raw.merge(\n",
        "        # добавляем в профили время совершения покупок и выручку\n",
        "        purchases[['user_id', 'event_dt', 'revenue']],\n",
        "        on='user_id',\n",
        "        how='left',\n",
        "    )\n",
        "\n",
        "\n",
        "    # Шаг 3. Рассчитать лайфтайм пользователя для каждой покупки\n",
        "    result_raw['lifetime'] = (\n",
        "        result_raw['event_dt'] - result_raw['first_ts']\n",
        "    ).dt.days\n",
        "\n",
        "    # группируем по cohort, если в dimensions ничего нет\n",
        "    if len(dimensions) == 0:\n",
        "        result_raw['cohort'] = 'All users'\n",
        "        dimensions = dimensions + ['cohort']\n",
        "\n",
        "    # функция для группировки таблицы по желаемым признакам\n",
        "    def group_by_dimensions(df, dims, horizon_days):\n",
        "\n",
        "        # Шаг 4. Построить таблицу выручки\n",
        "        # строим «треугольную» таблицу\n",
        "        result = df.pivot_table(\n",
        "            index=dims,\n",
        "            columns='lifetime',\n",
        "            values='revenue',  # в ячейках — выручка за каждый лайфтайм\n",
        "            aggfunc='sum',\n",
        "        )\n",
        "\n",
        "        # Шаг 5. Посчитать сумму выручки с накоплением\n",
        "        result = result.fillna(0).cumsum(axis=1)\n",
        "\n",
        "        # Шаг 6. Вычислить размеры когорт\n",
        "        cohort_sizes = (\n",
        "            df.groupby(dims)\n",
        "            .agg({'user_id': 'nunique'})\n",
        "            .rename(columns={'user_id': 'cohort_size'})\n",
        "        )\n",
        "\n",
        "        # Шаг 7. Объединить размеры когорт и таблицу выручки\n",
        "        result = cohort_sizes.merge(result, on=dims, how='left').fillna(0)\n",
        "\n",
        "        # Шаг 8. Посчитать LTV\n",
        "        # делим каждую «ячейку» в строке на размер когорты\n",
        "        result = result.div(result['cohort_size'], axis=0)\n",
        "        # исключаем все лайфтаймы, превышающие горизонт анализа\n",
        "        result = result[['cohort_size'] + list(range(horizon_days))]\n",
        "        # восстанавливаем размеры когорт\n",
        "        result['cohort_size'] = cohort_sizes\n",
        "        return result\n",
        "\n",
        "    # получаем таблицу LTV\n",
        "    result_grouped = group_by_dimensions(result_raw, dimensions, horizon_days)\n",
        "\n",
        "    # для таблицы динамики LTV убираем 'cohort' из dimensions\n",
        "    if 'cohort' in dimensions:\n",
        "        dimensions = []\n",
        "    # получаем таблицу динамики LTV\n",
        "    result_in_time = group_by_dimensions(\n",
        "        result_raw, dimensions + ['dt'], horizon_days\n",
        "    )\n",
        "\n",
        "    # возвращаем обе таблицы LTV и сырые данные\n",
        "    return result_raw, result_grouped, result_in_time"
      ]
    },
    {
      "cell_type": "markdown",
      "metadata": {
        "id": "M-arIdYfvNH7"
      },
      "source": [
        "Получим таблицу orders."
      ]
    },
    {
      "cell_type": "code",
      "execution_count": null,
      "metadata": {
        "id": "hxAPpwYlvNH8",
        "outputId": "6c5abe8a-3038-47f7-e93c-5e198a5eebc4"
      },
      "outputs": [
        {
          "data": {
            "text/html": [
              "<div>\n",
              "<style scoped>\n",
              "    .dataframe tbody tr th:only-of-type {\n",
              "        vertical-align: middle;\n",
              "    }\n",
              "\n",
              "    .dataframe tbody tr th {\n",
              "        vertical-align: top;\n",
              "    }\n",
              "\n",
              "    .dataframe thead th {\n",
              "        text-align: right;\n",
              "    }\n",
              "</style>\n",
              "<table border=\"1\" class=\"dataframe\">\n",
              "  <thead>\n",
              "    <tr style=\"text-align: right;\">\n",
              "      <th></th>\n",
              "      <th>user_id</th>\n",
              "      <th>event_dt</th>\n",
              "      <th>revenue</th>\n",
              "    </tr>\n",
              "  </thead>\n",
              "  <tbody>\n",
              "    <tr>\n",
              "      <th>0</th>\n",
              "      <td>18026</td>\n",
              "      <td>2016-12-07 14:57:00</td>\n",
              "      <td>955.350</td>\n",
              "    </tr>\n",
              "    <tr>\n",
              "      <th>1</th>\n",
              "      <td>18026</td>\n",
              "      <td>2017-01-26 14:30:00</td>\n",
              "      <td>755.700</td>\n",
              "    </tr>\n",
              "    <tr>\n",
              "      <th>2</th>\n",
              "      <td>18027</td>\n",
              "      <td>2016-12-16 19:09:00</td>\n",
              "      <td>106.950</td>\n",
              "    </tr>\n",
              "    <tr>\n",
              "      <th>3</th>\n",
              "      <td>18027</td>\n",
              "      <td>2017-01-25 10:42:00</td>\n",
              "      <td>28.865</td>\n",
              "    </tr>\n",
              "    <tr>\n",
              "      <th>4</th>\n",
              "      <td>18029</td>\n",
              "      <td>2017-02-02 16:01:00</td>\n",
              "      <td>386.180</td>\n",
              "    </tr>\n",
              "  </tbody>\n",
              "</table>\n",
              "</div>"
            ],
            "text/plain": [
              "   user_id            event_dt  revenue\n",
              "0    18026 2016-12-07 14:57:00  955.350\n",
              "1    18026 2017-01-26 14:30:00  755.700\n",
              "2    18027 2016-12-16 19:09:00  106.950\n",
              "3    18027 2017-01-25 10:42:00   28.865\n",
              "4    18029 2017-02-02 16:01:00  386.180"
            ]
          },
          "execution_count": 62,
          "metadata": {},
          "output_type": "execute_result"
        }
      ],
      "source": [
        "data['revenue'] = data['quantity'] * data['price_per_one']\n",
        "orders = data.groupby(['customer_id', 'purchase_date', 'loyalty_program'])['revenue'].sum().reset_index().rename(columns={'purchase_date': 'event_dt', 'customer_id': 'user_id'})\n",
        "orders['user_id'] = orders['user_id'].astype(int)\n",
        "orders['month'] = orders['event_dt'].dt.to_period('M')\n",
        "\n",
        "#добавим подписку +200 для лояльных клиентов\n",
        "orders_gr = orders.groupby(['month', 'user_id']).first().reset_index()\n",
        "orders.loc[(orders['loyalty_program'] == 1), 'revenue'] += 200\n",
        "orders = orders.merge(orders_gr[['month', 'user_id', 'revenue']], on=['month', 'user_id'], how='left')\n",
        "orders = orders.drop(['revenue_y', 'month', 'loyalty_program'], axis=1).rename(columns={'revenue_x': 'revenue'})\n",
        "orders.head()"
      ]
    },
    {
      "cell_type": "markdown",
      "metadata": {
        "id": "zB26kU_2vNH8"
      },
      "source": [
        "Момент зададим - 28 февраля 2017 года, горизонт - 45 дней."
      ]
    },
    {
      "cell_type": "code",
      "execution_count": null,
      "metadata": {
        "id": "KjnquH7pvNH8",
        "outputId": "cec2de2d-10c7-45af-ec53-ee119479f80e"
      },
      "outputs": [
        {
          "data": {
            "image/png": "[encoded data removed]",
            "text/plain": [
              "<Figure size 1080x720 with 2 Axes>"
            ]
          },
          "metadata": {
            "needs_background": "light"
          },
          "output_type": "display_data"
        }
      ],
      "source": [
        "ltv_raw, ltv, ltv_history = get_ltv(\n",
        "    profiles, orders, datetime(2017, 2, 28).date(), 45\n",
        ")\n",
        "\n",
        "plt.figure(figsize=(15, 10))\n",
        "sns.heatmap(ltv.drop(columns=['cohort_size']), annot=True, fmt='.2f', annot_kws={\"rotation\": 90})\n",
        "plt.title('Тепловая карта LTV без разбивки')\n",
        "plt.xlabel('Лайфтайм')\n",
        "plt.show()"
      ]
    },
    {
      "cell_type": "code",
      "execution_count": null,
      "metadata": {
        "id": "bhiNTzcOvNH9",
        "outputId": "7cb16fb5-b977-4044-d454-6f0d82a11834"
      },
      "outputs": [
        {
          "data": {
            "image/png": "[encoded data removed]",
            "text/plain": [
              "<Figure size 1080x720 with 1 Axes>"
            ]
          },
          "metadata": {
            "needs_background": "light"
          },
          "output_type": "display_data"
        }
      ],
      "source": [
        "# строим кривые LTV\n",
        "\n",
        "ltv_raw, ltv, ltv_history = get_ltv(\n",
        "    profiles, orders, datetime(2017, 2, 28).date(), 45, dimensions=['loyalty_program']\n",
        ")\n",
        "\n",
        "\n",
        "report = ltv.drop(columns=['cohort_size'])\n",
        "report.T.plot(grid=True, figsize=(15, 10), xticks=list(report.columns.values))\n",
        "plt.title('LTV с разбивкой клиентов, учавствующий в программе лояльности')\n",
        "plt.ylabel('LTV, $')\n",
        "plt.xlabel('Лайфтайм')\n",
        "plt.show()"
      ]
    },
    {
      "cell_type": "markdown",
      "metadata": {
        "id": "_ihnZmxavNH9"
      },
      "source": [
        "Лояльных клиентов значительно меньше нелояльных клиентов. Однако, они демонстрируют значительно более высокий уровень доходности в каждом периоде. Это указывает на то, что клиенты, участвующие в программе лояльности, имеют более высокий потенциал для будущей прибыли в долгосрочной перспективе. В данном случае можно сказать, что программа лояльности является эффективным инструментом для стимулирования повторных покупок и удержания клиентов."
      ]
    },
    {
      "cell_type": "code",
      "execution_count": null,
      "metadata": {
        "id": "Xog6GLmJvNH9",
        "outputId": "f60e0495-035e-413e-bc35-113daf57e5de"
      },
      "outputs": [
        {
          "data": {
            "image/png": "[encoded data removed]",
            "text/plain": [
              "<Figure size 720x360 with 1 Axes>"
            ]
          },
          "metadata": {
            "needs_background": "light"
          },
          "output_type": "display_data"
        }
      ],
      "source": [
        "# строим график истории изменений LTV\n",
        "\n",
        "ltv_raw, ltv, ltv_history = get_ltv(\n",
        "    profiles, orders, datetime(2017, 2, 28).date(), 45\n",
        ")\n",
        "\n",
        "report = ltv_history[[0, 4, 6]]  # делаем срез данных\n",
        "report.plot(grid=True, figsize=(10, 5))\n",
        "plt.title('Динамика LTV 1-го, 5-го и 7-го дней жизни')\n",
        "plt.ylabel('LTV, $')\n",
        "plt.xlabel('Даты привлечения пользователей')\n",
        "plt.show()"
      ]
    },
    {
      "cell_type": "markdown",
      "metadata": {
        "id": "2ARhU9s2vNH9"
      },
      "source": [
        "Динамика абсолютно нестабильна - как растет, так и падает."
      ]
    },
    {
      "cell_type": "markdown",
      "metadata": {
        "id": "z6dZ0QFbvNH9"
      },
      "source": [
        "### RCR"
      ]
    },
    {
      "cell_type": "markdown",
      "metadata": {
        "id": "g4KXHqr9vNH9"
      },
      "source": [
        "RCR (Repeat Customer Rate) - это показатель, который измеряет долю повторных покупателей в определенный период времени.  "
      ]
    },
    {
      "cell_type": "markdown",
      "metadata": {
        "id": "nzMGVSsdvNH-"
      },
      "source": [
        "Рассчитаем RCR для лояльных клиентов:"
      ]
    },
    {
      "cell_type": "code",
      "execution_count": null,
      "metadata": {
        "id": "OhUeEzS4vNH-",
        "outputId": "609eb237-d412-49e5-a628-e44bbb3eba79"
      },
      "outputs": [
        {
          "name": "stdout",
          "output_type": "stream",
          "text": [
            "RCR для лояльных клиентов: 96.09%\n"
          ]
        }
      ],
      "source": [
        "#группируем по customer_id, подсчтиаем количество повторных покупок для каждого лояльного покупателя\n",
        "repeat_loyalty = loyalty.groupby('customer_id')['purchase_date'].count().reset_index()\n",
        "repeat_loyalty = repeat_loyalty[repeat_loyalty['purchase_date'] > 1]\n",
        "\n",
        "#рассчитаем количество повторных покупателей\n",
        "num_repeat_loyalty = repeat_loyalty.shape[0]\n",
        "\n",
        "#RCR\n",
        "rcr_loyalty = round((num_repeat_loyalty / loyalty_count) * 100, 2)\n",
        "print(f'RCR для лояльных клиентов: {rcr_loyalty}%')"
      ]
    },
    {
      "cell_type": "markdown",
      "metadata": {
        "id": "Oy7N4H-kvNH-"
      },
      "source": [
        "Рассчитаем RCR для нелояльных клиентов:"
      ]
    },
    {
      "cell_type": "code",
      "execution_count": null,
      "metadata": {
        "id": "6_14D-zBvNH-",
        "outputId": "5de09ec1-285f-4a53-93ad-faad2b49c02d"
      },
      "outputs": [
        {
          "name": "stdout",
          "output_type": "stream",
          "text": [
            "RCR для нелояльных клиентов: 96.55%\n"
          ]
        }
      ],
      "source": [
        "#группируем по customer_id, подсчтиаем количество повторных покупок для каждого нелояльного покупателя\n",
        "repeat_not_loyalty = not_loyalty.groupby('customer_id')['purchase_date'].count().reset_index()\n",
        "repeat_not_loyalty = repeat_not_loyalty[repeat_not_loyalty['purchase_date'] > 1]\n",
        "\n",
        "#рассчитаем количество повторных покупателей\n",
        "num_repeat_not_loyalty = repeat_not_loyalty.shape[0]\n",
        "\n",
        "#RCR\n",
        "rcr_not_loyalty = round((num_repeat_not_loyalty / not_loyalty_count) * 100, 2)\n",
        "print(f'RCR для нелояльных клиентов: {rcr_not_loyalty}%')"
      ]
    },
    {
      "cell_type": "markdown",
      "metadata": {
        "id": "DZZJqLJVvNH-"
      },
      "source": [
        "RCR для лояльных и неялольных клиентов отличный, 96% всех клиентов совершили посторную покупку. У нелояльных коэффикциент на 0.46% больше."
      ]
    },
    {
      "cell_type": "markdown",
      "metadata": {
        "id": "r_ViXhl0vNH-"
      },
      "source": [
        "### вывод"
      ]
    },
    {
      "cell_type": "markdown",
      "metadata": {
        "id": "hPuDoh6UvNH-"
      },
      "source": [
        "На основе данных, можно сделать вывод, что программа лояльности является эффективной в стимулировании повторных покупок и удержании клиентов. Клиенты, участвующие в программе лояльности, имеют немного более низкий коэффициент удержания (RCR) в сравнении с нелояльными клиентами (96.09% против 96.55%), однако, они продемонстрировали значительно более высокий уровень доходности в каждом периоде. Это говорит о том, что программа лояльности привлекает клиентов с более высокой склонностью к покупкам.\n",
        "\n",
        "Таким образом, можно считать программу лояльности эффективной в увеличении выручки и удержании ценных клиентов."
      ]
    },
    {
      "cell_type": "markdown",
      "metadata": {
        "id": "uOh_P5DtvNH_"
      },
      "source": [
        "## Проверка гипотез"
      ]
    },
    {
      "cell_type": "markdown",
      "metadata": {
        "id": "fYKOWCrnvNH_"
      },
      "source": [
        "Проверим две статистические гипотезы. В качестве уровня значимости alpha примем 0.05 (5%)."
      ]
    },
    {
      "cell_type": "markdown",
      "metadata": {
        "id": "ACorwsomvNH_"
      },
      "source": [
        "### *Гипотеза 1. Средний чек участников программы лояльности отличается от среднего чека неучастников.*"
      ]
    },
    {
      "cell_type": "markdown",
      "metadata": {
        "id": "gWAfI8NIvNH_"
      },
      "source": [
        "* Нулевая гипотеза (H0): Средний чек участников программы лояльности равен среднему чеку неучастников.\n",
        "* Альтернативная гипотеза (H1): Средний чек участников программы лояльности отличается от среднего чека неучастников."
      ]
    },
    {
      "cell_type": "code",
      "execution_count": null,
      "metadata": {
        "id": "xxxau52YvNH_"
      },
      "outputs": [],
      "source": [
        "#получим две выборки - создим столбец с итоговой суммой покупки для лояльных и нелояльных клиентов\n",
        "loyalty_check = loyalty.groupby('purchase_id').agg({'revenue':'sum'})\n",
        "not_loyalty_check = not_loyalty.groupby('purchase_id').agg({'revenue':'sum'})"
      ]
    },
    {
      "cell_type": "markdown",
      "metadata": {
        "id": "TBc-t_bSvNH_"
      },
      "source": [
        "Применим критерий Манна-Уитни, т.к. есть предположение, что данные не соответствуют предположению о нормальности распределения."
      ]
    },
    {
      "cell_type": "code",
      "execution_count": null,
      "metadata": {
        "id": "1lXuU2DRvNH_",
        "outputId": "c8a53708-2f98-48e7-d0e9-62cd31455d04"
      },
      "outputs": [
        {
          "name": "stdout",
          "output_type": "stream",
          "text": [
            "Статистика критерия Манна-Уитни: [1942080.5]\n",
            "p-значение: [0.26287956]\n",
            "Принимаем нулевую гипотезу\n"
          ]
        }
      ],
      "source": [
        "#применим критерий Манна-Уитни для сравнения выборок\n",
        "statistic, p_value = mannwhitneyu(loyalty_check, not_loyalty_check)\n",
        "\n",
        "alpha = 0.05\n",
        "\n",
        "print(\"Статистика критерия Манна-Уитни:\", statistic)\n",
        "print(\"p-значение:\", p_value)\n",
        "\n",
        "if p_value < alpha:\n",
        "    print(\"Отвергаем нулевую гипотезу\")\n",
        "else:\n",
        "    print(\"Принимаем нулевую гипотезу\")"
      ]
    },
    {
      "cell_type": "markdown",
      "metadata": {
        "id": "_ns0n5alvNIA"
      },
      "source": [
        "По результатам теста мы принимаем нулевую гипотезу - средний чек участников программы лояльности равен среднему чеку неучастников."
      ]
    },
    {
      "cell_type": "markdown",
      "metadata": {
        "id": "BRYLLUjIvNIA"
      },
      "source": [
        "### *Гипотеза 2. Количество покупок зависит от участия в программе лояльности.*\n",
        "\n"
      ]
    },
    {
      "cell_type": "markdown",
      "metadata": {
        "id": "MTnR40X0vNIA"
      },
      "source": [
        "* Нулевая гипотеза (H0): Количество покупок не зависит от участия в программе лояльности.\n",
        "* Альтернативная гипотеза (H1): Количество покупок зависит от участия в программе лояльности."
      ]
    },
    {
      "cell_type": "markdown",
      "metadata": {
        "id": "evne1CSNvNIA"
      },
      "source": [
        "Применим критерий Манна-Уитни, т.к. есть предположение, что данные не соответствуют предположению о нормальности распределения."
      ]
    },
    {
      "cell_type": "code",
      "execution_count": null,
      "metadata": {
        "id": "sfVT3GLlvNIA",
        "outputId": "67d926d8-37a0-41f2-a0f6-97a2c8d55c69"
      },
      "outputs": [
        {
          "name": "stdout",
          "output_type": "stream",
          "text": [
            "Статистика критерия Манна-Уитни: 232632.0\n",
            "p-значение: 0.16709202564646042\n",
            "Принимаем нулевую гипотезу\n"
          ]
        }
      ],
      "source": [
        "#посчитаем количество покупок для каждого клиента\n",
        "purchases = data.drop_duplicates(subset=['purchase_id']).groupby('customer_id')['purchase_id'].count()\n",
        "\n",
        "#\n",
        "loyal_customers = purchases[data['loyalty_program'] == 1]\n",
        "non_loyal_customers = purchases[data['loyalty_program'] == 0]\n",
        "\n",
        "# Применение критерия Манна-Уитни\n",
        "statistic, p_value = mannwhitneyu(loyal_customers, non_loyal_customers)\n",
        "\n",
        "alpha = 0.05\n",
        "\n",
        "print(\"Статистика критерия Манна-Уитни:\", statistic)\n",
        "print(\"p-значение:\", p_value)\n",
        "\n",
        "if p_value < alpha:\n",
        "    print(\"Отвергаем нулевую гипотезу\")\n",
        "else:\n",
        "    print(\"Принимаем нулевую гипотезу\")"
      ]
    },
    {
      "cell_type": "markdown",
      "metadata": {
        "id": "7zp38699vNIA"
      },
      "source": [
        "По результатам теста мы принимаем нулевую гипотезу - количество покупок не зависит от участия в программе лояльности."
      ]
    },
    {
      "cell_type": "markdown",
      "metadata": {
        "id": "v1RY5w3OvNIB"
      },
      "source": [
        "### вывод"
      ]
    },
    {
      "cell_type": "markdown",
      "metadata": {
        "id": "C5PFZ8CcvNIB"
      },
      "source": [
        "По результатам двух статистических тестов можем сделать вывод, что программа лояльности никак не влияет на средний чек - он одинаков как для лояльных так и не для лояльных клиентов и на количество покупок - количество не зависит от участия в программе лояльности."
      ]
    },
    {
      "cell_type": "markdown",
      "metadata": {
        "id": "Vt6tJGeRvNIB"
      },
      "source": [
        "## Выводы и рекомендации"
      ]
    },
    {
      "cell_type": "markdown",
      "metadata": {
        "id": "WaPNwge6vNIB"
      },
      "source": [
        "На основании предоставленных данных и результатов теста, можно сделать вывод о потенциальной эффективности программы лояльности, однозначно сказать, что она эффективна нельзя.  Хотя средний чек и количество покупок не различаются значимо между участниками программы лояльности и неучастниками, клиенты, участвующие в программе лояльности, демонстрируют более высокий уровень доходности в каждом периоде. Это может указывать на их более высокий потенциал для будущей прибыли в долгосрочной перспективе.\n",
        "\n",
        "Для повышения эффективности программы лояльности можно попробовать применить следующее:\n",
        "* Персонализация предложений: разработать индивидуальные предложения и скидки для каждого клиента на основе его предпочтений, истории покупок и поведения. Это поможет усилить привлекательность программы и повысить уровень удовлетворенности клиентов.\n",
        "* Бонусные системы: внедрить бонусные системы, где клиенты могут накапливать бонусные баллы за покупки и обменивать их на дополнительные скидки или привилегии. Это стимулирует повторные покупки и удержание клиентов в программе лояльности.\n",
        "* Эксклюзивные предложения: Предоставить лояльным клиентам доступ к эксклюзивным акциям, предложениям или продуктам, которые недоступны обычным покупателям. Это создаст ощущение привилегированности и мотивирует клиентов оставаться в программе."
      ]
    }
  ],
  "metadata": {
    "ExecuteTimeLog": [
      {
        "duration": 58,
        "start_time": "2023-07-02T06:35:22.532Z"
      },
      {
        "duration": 1139,
        "start_time": "2023-07-02T06:35:30.231Z"
      },
      {
        "duration": 3,
        "start_time": "2023-07-02T06:35:31.372Z"
      },
      {
        "duration": 38,
        "start_time": "2023-07-02T06:35:31.377Z"
      },
      {
        "duration": 314,
        "start_time": "2023-07-02T06:35:31.417Z"
      },
      {
        "duration": 19,
        "start_time": "2023-07-02T06:35:31.733Z"
      },
      {
        "duration": 64,
        "start_time": "2023-07-02T06:35:31.754Z"
      },
      {
        "duration": 6,
        "start_time": "2023-07-02T06:35:31.819Z"
      },
      {
        "duration": 38,
        "start_time": "2023-07-02T06:35:31.826Z"
      },
      {
        "duration": 29,
        "start_time": "2023-07-02T06:35:31.866Z"
      },
      {
        "duration": 27,
        "start_time": "2023-07-02T06:35:31.897Z"
      },
      {
        "duration": 25,
        "start_time": "2023-07-02T06:35:31.926Z"
      },
      {
        "duration": 239,
        "start_time": "2023-07-02T06:35:31.953Z"
      },
      {
        "duration": 10,
        "start_time": "2023-07-02T06:35:32.193Z"
      },
      {
        "duration": 28,
        "start_time": "2023-07-02T06:35:32.206Z"
      },
      {
        "duration": 114,
        "start_time": "2023-07-02T06:35:32.235Z"
      },
      {
        "duration": 6,
        "start_time": "2023-07-02T06:35:32.351Z"
      },
      {
        "duration": 85,
        "start_time": "2023-07-02T06:35:32.358Z"
      },
      {
        "duration": 7,
        "start_time": "2023-07-02T06:35:32.444Z"
      },
      {
        "duration": 21,
        "start_time": "2023-07-02T06:35:32.452Z"
      },
      {
        "duration": 75,
        "start_time": "2023-07-02T06:35:32.475Z"
      },
      {
        "duration": 13,
        "start_time": "2023-07-02T06:35:32.552Z"
      },
      {
        "duration": 18,
        "start_time": "2023-07-02T06:35:32.568Z"
      },
      {
        "duration": 16,
        "start_time": "2023-07-02T06:35:32.588Z"
      },
      {
        "duration": 40,
        "start_time": "2023-07-02T06:35:32.606Z"
      },
      {
        "duration": 19,
        "start_time": "2023-07-02T06:35:32.647Z"
      },
      {
        "duration": 114,
        "start_time": "2023-07-02T06:35:32.668Z"
      },
      {
        "duration": 16,
        "start_time": "2023-07-02T06:35:32.783Z"
      },
      {
        "duration": 100,
        "start_time": "2023-07-02T06:35:32.801Z"
      },
      {
        "duration": 12,
        "start_time": "2023-07-02T06:35:32.902Z"
      },
      {
        "duration": 64,
        "start_time": "2023-07-02T06:35:32.916Z"
      },
      {
        "duration": 33,
        "start_time": "2023-07-02T06:35:32.981Z"
      },
      {
        "duration": 22,
        "start_time": "2023-07-02T06:35:33.017Z"
      },
      {
        "duration": 4,
        "start_time": "2023-07-02T06:35:33.041Z"
      },
      {
        "duration": 20,
        "start_time": "2023-07-02T06:35:33.046Z"
      },
      {
        "duration": 149,
        "start_time": "2023-07-02T06:35:33.068Z"
      },
      {
        "duration": 25,
        "start_time": "2023-07-02T06:35:33.219Z"
      },
      {
        "duration": 277,
        "start_time": "2023-07-02T06:35:33.246Z"
      },
      {
        "duration": 20,
        "start_time": "2023-07-02T06:35:33.525Z"
      },
      {
        "duration": 25,
        "start_time": "2023-07-02T06:35:33.546Z"
      },
      {
        "duration": 193,
        "start_time": "2023-07-02T06:35:33.573Z"
      },
      {
        "duration": 30,
        "start_time": "2023-07-02T06:35:33.769Z"
      },
      {
        "duration": 31,
        "start_time": "2023-07-02T06:35:33.800Z"
      },
      {
        "duration": 230,
        "start_time": "2023-07-02T06:35:33.833Z"
      },
      {
        "duration": 14,
        "start_time": "2023-07-02T06:35:34.065Z"
      },
      {
        "duration": 39,
        "start_time": "2023-07-02T06:35:34.080Z"
      },
      {
        "duration": 146,
        "start_time": "2023-07-02T06:35:34.120Z"
      },
      {
        "duration": 36,
        "start_time": "2023-07-02T06:35:34.268Z"
      },
      {
        "duration": 145,
        "start_time": "2023-07-02T06:35:34.306Z"
      },
      {
        "duration": 36,
        "start_time": "2023-07-02T06:35:34.452Z"
      },
      {
        "duration": 250,
        "start_time": "2023-07-02T06:35:34.490Z"
      },
      {
        "duration": 4,
        "start_time": "2023-07-02T06:35:34.742Z"
      },
      {
        "duration": 40,
        "start_time": "2023-07-02T06:35:34.747Z"
      },
      {
        "duration": 207,
        "start_time": "2023-07-02T06:35:34.799Z"
      },
      {
        "duration": 7,
        "start_time": "2023-07-02T06:35:35.008Z"
      },
      {
        "duration": 35,
        "start_time": "2023-07-02T06:35:35.016Z"
      },
      {
        "duration": 860,
        "start_time": "2023-07-02T06:35:35.053Z"
      },
      {
        "duration": 558,
        "start_time": "2023-07-02T06:35:35.915Z"
      },
      {
        "duration": 290,
        "start_time": "2023-07-02T06:35:36.475Z"
      },
      {
        "duration": 8,
        "start_time": "2023-07-02T06:35:36.766Z"
      },
      {
        "duration": 25,
        "start_time": "2023-07-02T06:35:36.775Z"
      },
      {
        "duration": 7,
        "start_time": "2023-07-02T06:35:36.802Z"
      },
      {
        "duration": 22,
        "start_time": "2023-07-02T06:35:36.811Z"
      },
      {
        "duration": 79,
        "start_time": "2023-07-02T06:35:36.835Z"
      },
      {
        "duration": 131,
        "start_time": "2023-07-02T06:35:36.916Z"
      },
      {
        "duration": 5,
        "start_time": "2023-07-02T06:39:12.985Z"
      },
      {
        "duration": 5,
        "start_time": "2023-07-02T06:41:00.828Z"
      },
      {
        "duration": 4,
        "start_time": "2023-07-02T06:41:09.647Z"
      },
      {
        "duration": 1428,
        "start_time": "2023-07-04T05:44:13.465Z"
      },
      {
        "duration": 3,
        "start_time": "2023-07-04T05:44:14.895Z"
      },
      {
        "duration": 7,
        "start_time": "2023-07-04T05:44:14.899Z"
      },
      {
        "duration": 331,
        "start_time": "2023-07-04T05:44:14.907Z"
      },
      {
        "duration": 22,
        "start_time": "2023-07-04T05:44:15.241Z"
      },
      {
        "duration": 36,
        "start_time": "2023-07-04T05:44:15.265Z"
      },
      {
        "duration": 6,
        "start_time": "2023-07-04T05:44:15.302Z"
      },
      {
        "duration": 45,
        "start_time": "2023-07-04T05:44:15.309Z"
      },
      {
        "duration": 7,
        "start_time": "2023-07-04T05:44:15.356Z"
      },
      {
        "duration": 4,
        "start_time": "2023-07-04T05:44:15.365Z"
      },
      {
        "duration": 7,
        "start_time": "2023-07-04T05:44:15.371Z"
      },
      {
        "duration": 218,
        "start_time": "2023-07-04T05:44:15.380Z"
      },
      {
        "duration": 7,
        "start_time": "2023-07-04T05:44:15.600Z"
      },
      {
        "duration": 12,
        "start_time": "2023-07-04T05:44:15.611Z"
      },
      {
        "duration": 129,
        "start_time": "2023-07-04T05:44:15.625Z"
      },
      {
        "duration": 6,
        "start_time": "2023-07-04T05:44:15.755Z"
      },
      {
        "duration": 102,
        "start_time": "2023-07-04T05:44:15.762Z"
      },
      {
        "duration": 8,
        "start_time": "2023-07-04T05:44:15.865Z"
      },
      {
        "duration": 21,
        "start_time": "2023-07-04T05:44:15.874Z"
      },
      {
        "duration": 63,
        "start_time": "2023-07-04T05:44:15.897Z"
      },
      {
        "duration": 11,
        "start_time": "2023-07-04T05:44:15.962Z"
      },
      {
        "duration": 29,
        "start_time": "2023-07-04T05:44:15.974Z"
      },
      {
        "duration": 32,
        "start_time": "2023-07-04T05:44:16.004Z"
      },
      {
        "duration": 24,
        "start_time": "2023-07-04T05:44:16.038Z"
      },
      {
        "duration": 22,
        "start_time": "2023-07-04T05:44:16.063Z"
      },
      {
        "duration": 139,
        "start_time": "2023-07-04T05:44:16.087Z"
      },
      {
        "duration": 13,
        "start_time": "2023-07-04T05:44:16.228Z"
      },
      {
        "duration": 121,
        "start_time": "2023-07-04T05:44:16.243Z"
      },
      {
        "duration": 14,
        "start_time": "2023-07-04T05:44:16.365Z"
      },
      {
        "duration": 81,
        "start_time": "2023-07-04T05:44:16.381Z"
      },
      {
        "duration": 19,
        "start_time": "2023-07-04T05:44:16.464Z"
      },
      {
        "duration": 31,
        "start_time": "2023-07-04T05:44:16.485Z"
      },
      {
        "duration": 37,
        "start_time": "2023-07-04T05:44:16.518Z"
      },
      {
        "duration": 6,
        "start_time": "2023-07-04T05:44:16.557Z"
      },
      {
        "duration": 26,
        "start_time": "2023-07-04T05:44:16.565Z"
      },
      {
        "duration": 136,
        "start_time": "2023-07-04T05:44:16.592Z"
      },
      {
        "duration": 45,
        "start_time": "2023-07-04T05:44:16.730Z"
      },
      {
        "duration": 324,
        "start_time": "2023-07-04T05:44:16.776Z"
      },
      {
        "duration": 15,
        "start_time": "2023-07-04T05:44:17.102Z"
      },
      {
        "duration": 15,
        "start_time": "2023-07-04T05:44:17.118Z"
      },
      {
        "duration": 185,
        "start_time": "2023-07-04T05:44:17.157Z"
      },
      {
        "duration": 30,
        "start_time": "2023-07-04T05:44:17.343Z"
      },
      {
        "duration": 306,
        "start_time": "2023-07-04T05:44:17.375Z"
      },
      {
        "duration": 18,
        "start_time": "2023-07-04T05:44:17.683Z"
      },
      {
        "duration": 33,
        "start_time": "2023-07-04T05:44:17.702Z"
      },
      {
        "duration": 190,
        "start_time": "2023-07-04T05:44:17.755Z"
      },
      {
        "duration": 42,
        "start_time": "2023-07-04T05:44:17.947Z"
      },
      {
        "duration": 17,
        "start_time": "2023-07-04T05:44:17.991Z"
      },
      {
        "duration": 177,
        "start_time": "2023-07-04T05:44:18.010Z"
      },
      {
        "duration": 25,
        "start_time": "2023-07-04T05:44:18.189Z"
      },
      {
        "duration": 179,
        "start_time": "2023-07-04T05:44:18.216Z"
      },
      {
        "duration": 18,
        "start_time": "2023-07-04T05:44:18.398Z"
      },
      {
        "duration": 170,
        "start_time": "2023-07-04T05:44:18.418Z"
      },
      {
        "duration": 27,
        "start_time": "2023-07-04T05:44:18.590Z"
      },
      {
        "duration": 164,
        "start_time": "2023-07-04T05:44:18.619Z"
      },
      {
        "duration": 45,
        "start_time": "2023-07-04T05:44:18.784Z"
      },
      {
        "duration": 407,
        "start_time": "2023-07-04T05:44:18.831Z"
      },
      {
        "duration": 4,
        "start_time": "2023-07-04T05:44:19.240Z"
      },
      {
        "duration": 43,
        "start_time": "2023-07-04T05:44:19.253Z"
      },
      {
        "duration": 258,
        "start_time": "2023-07-04T05:44:19.297Z"
      },
      {
        "duration": 8,
        "start_time": "2023-07-04T05:44:19.557Z"
      },
      {
        "duration": 68,
        "start_time": "2023-07-04T05:44:19.567Z"
      },
      {
        "duration": 963,
        "start_time": "2023-07-04T05:44:19.637Z"
      },
      {
        "duration": 641,
        "start_time": "2023-07-04T05:44:20.602Z"
      },
      {
        "duration": 265,
        "start_time": "2023-07-04T05:44:21.245Z"
      },
      {
        "duration": 7,
        "start_time": "2023-07-04T05:44:21.512Z"
      },
      {
        "duration": 17,
        "start_time": "2023-07-04T05:44:21.521Z"
      },
      {
        "duration": 41,
        "start_time": "2023-07-04T05:44:21.539Z"
      },
      {
        "duration": 9,
        "start_time": "2023-07-04T05:44:21.582Z"
      },
      {
        "duration": 45,
        "start_time": "2023-07-04T05:44:21.592Z"
      }
    ],
    "kernelspec": {
      "display_name": "Python 3 (ipykernel)",
      "language": "python",
      "name": "python3"
    },
    "language_info": {
      "codemirror_mode": {
        "name": "ipython",
        "version": 3
      },
      "file_extension": ".py",
      "mimetype": "text/x-python",
      "name": "python",
      "nbconvert_exporter": "python",
      "pygments_lexer": "ipython3",
      "version": "3.9.5"
    },
    "toc": {
      "base_numbering": 1,
      "nav_menu": {},
      "number_sections": true,
      "sideBar": true,
      "skip_h1_title": true,
      "title_cell": "Table of Contents",
      "title_sidebar": "Contents",
      "toc_cell": false,
      "toc_position": {},
      "toc_section_display": true,
      "toc_window_display": false
    },
    "colab": {
      "provenance": []
    }
  },
  "nbformat": 4,
  "nbformat_minor": 0
}